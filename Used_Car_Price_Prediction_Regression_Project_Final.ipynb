{
 "cells": [
  {
   "cell_type": "markdown",
   "id": "486da847",
   "metadata": {},
   "source": [
    "### Data Source Link : https://data.world/johnitto/usedcarspriceprediction"
   ]
  },
  {
   "cell_type": "code",
   "execution_count": 1,
   "id": "40020411",
   "metadata": {},
   "outputs": [],
   "source": [
    "import pandas as pd\n",
    "import numpy as np\n",
    "\n",
    "from sklearn.model_selection import train_test_split\n",
    "from sklearn.linear_model import LinearRegression\n",
    "from sklearn.preprocessing import MinMaxScaler\n",
    "from sklearn.tree import DecisionTreeRegressor\n",
    "from sklearn import metrics\n",
    "import math\n",
    "import matplotlib.pyplot as plt\n",
    "import seaborn as sns \n",
    "from collections import Counter\n",
    "import scipy.stats as ss\n",
    "import plotly.express as px #Importing library\n",
    "import pandas as pd\n",
    "import plotly.graph_objects as go\n",
    "from statsmodels.stats.outliers_influence import variance_inflation_factor\n",
    "import plotly.figure_factory as ff\n",
    "import math\n",
    "import statsmodels.api as sm\n",
    "from sklearn.ensemble import RandomForestRegressor\n",
    "from patsy import dmatrices\n",
    "from sklearn.impute import KNNImputer\n",
    "import statsmodels.stats.api as sms\n",
    "import pylab \n",
    "from sklearn.preprocessing import StandardScaler\n",
    "from statsmodels.compat import lzip\n",
    "from sklearn.metrics import mean_squared_error\n",
    "from sklearn.ensemble import RandomForestRegressor\n",
    "from sklearn.tree import DecisionTreeRegressor\n",
    "from sklearn.model_selection import RepeatedKFold\n",
    "from sklearn.linear_model import RidgeCV\n",
    "from sklearn.linear_model import LassoCV"
   ]
  },
  {
   "cell_type": "markdown",
   "id": "76cd5c8e",
   "metadata": {},
   "source": [
    "### Reading the CSV File :"
   ]
  },
  {
   "cell_type": "code",
   "execution_count": 2,
   "id": "1514a041",
   "metadata": {},
   "outputs": [],
   "source": [
    "df = pd.read_csv('train-data.csv')"
   ]
  },
  {
   "cell_type": "markdown",
   "id": "cf80bcd9",
   "metadata": {},
   "source": [
    "#### Creating a copy of the original DataFrame"
   ]
  },
  {
   "cell_type": "code",
   "execution_count": 3,
   "id": "a922cb94",
   "metadata": {},
   "outputs": [],
   "source": [
    "df1=df.copy()"
   ]
  },
  {
   "cell_type": "markdown",
   "id": "8704c9d6",
   "metadata": {},
   "source": [
    "#### Reading the top Five Records of the DataFrame"
   ]
  },
  {
   "cell_type": "code",
   "execution_count": 4,
   "id": "05702263",
   "metadata": {},
   "outputs": [
    {
     "data": {
      "text/html": [
       "<div>\n",
       "<style scoped>\n",
       "    .dataframe tbody tr th:only-of-type {\n",
       "        vertical-align: middle;\n",
       "    }\n",
       "\n",
       "    .dataframe tbody tr th {\n",
       "        vertical-align: top;\n",
       "    }\n",
       "\n",
       "    .dataframe thead th {\n",
       "        text-align: right;\n",
       "    }\n",
       "</style>\n",
       "<table border=\"1\" class=\"dataframe\">\n",
       "  <thead>\n",
       "    <tr style=\"text-align: right;\">\n",
       "      <th></th>\n",
       "      <th>Unnamed: 0</th>\n",
       "      <th>Name</th>\n",
       "      <th>Location</th>\n",
       "      <th>Year</th>\n",
       "      <th>Kilometers_Driven</th>\n",
       "      <th>Fuel_Type</th>\n",
       "      <th>Transmission</th>\n",
       "      <th>Owner_Type</th>\n",
       "      <th>Mileage</th>\n",
       "      <th>Engine</th>\n",
       "      <th>Power</th>\n",
       "      <th>Seats</th>\n",
       "      <th>New_Price</th>\n",
       "      <th>Price</th>\n",
       "    </tr>\n",
       "  </thead>\n",
       "  <tbody>\n",
       "    <tr>\n",
       "      <th>0</th>\n",
       "      <td>0</td>\n",
       "      <td>Maruti Wagon R LXI CNG</td>\n",
       "      <td>Mumbai</td>\n",
       "      <td>2010</td>\n",
       "      <td>72000</td>\n",
       "      <td>CNG</td>\n",
       "      <td>Manual</td>\n",
       "      <td>First</td>\n",
       "      <td>26.6 km/kg</td>\n",
       "      <td>998 CC</td>\n",
       "      <td>58.16 bhp</td>\n",
       "      <td>5.0</td>\n",
       "      <td>NaN</td>\n",
       "      <td>1.75</td>\n",
       "    </tr>\n",
       "    <tr>\n",
       "      <th>1</th>\n",
       "      <td>1</td>\n",
       "      <td>Hyundai Creta 1.6 CRDi SX Option</td>\n",
       "      <td>Pune</td>\n",
       "      <td>2015</td>\n",
       "      <td>41000</td>\n",
       "      <td>Diesel</td>\n",
       "      <td>Manual</td>\n",
       "      <td>First</td>\n",
       "      <td>19.67 kmpl</td>\n",
       "      <td>1582 CC</td>\n",
       "      <td>126.2 bhp</td>\n",
       "      <td>5.0</td>\n",
       "      <td>NaN</td>\n",
       "      <td>12.50</td>\n",
       "    </tr>\n",
       "    <tr>\n",
       "      <th>2</th>\n",
       "      <td>2</td>\n",
       "      <td>Honda Jazz V</td>\n",
       "      <td>Chennai</td>\n",
       "      <td>2011</td>\n",
       "      <td>46000</td>\n",
       "      <td>Petrol</td>\n",
       "      <td>Manual</td>\n",
       "      <td>First</td>\n",
       "      <td>18.2 kmpl</td>\n",
       "      <td>1199 CC</td>\n",
       "      <td>88.7 bhp</td>\n",
       "      <td>5.0</td>\n",
       "      <td>8.61 Lakh</td>\n",
       "      <td>4.50</td>\n",
       "    </tr>\n",
       "    <tr>\n",
       "      <th>3</th>\n",
       "      <td>3</td>\n",
       "      <td>Maruti Ertiga VDI</td>\n",
       "      <td>Chennai</td>\n",
       "      <td>2012</td>\n",
       "      <td>87000</td>\n",
       "      <td>Diesel</td>\n",
       "      <td>Manual</td>\n",
       "      <td>First</td>\n",
       "      <td>20.77 kmpl</td>\n",
       "      <td>1248 CC</td>\n",
       "      <td>88.76 bhp</td>\n",
       "      <td>7.0</td>\n",
       "      <td>NaN</td>\n",
       "      <td>6.00</td>\n",
       "    </tr>\n",
       "    <tr>\n",
       "      <th>4</th>\n",
       "      <td>4</td>\n",
       "      <td>Audi A4 New 2.0 TDI Multitronic</td>\n",
       "      <td>Coimbatore</td>\n",
       "      <td>2013</td>\n",
       "      <td>40670</td>\n",
       "      <td>Diesel</td>\n",
       "      <td>Automatic</td>\n",
       "      <td>Second</td>\n",
       "      <td>15.2 kmpl</td>\n",
       "      <td>1968 CC</td>\n",
       "      <td>140.8 bhp</td>\n",
       "      <td>5.0</td>\n",
       "      <td>NaN</td>\n",
       "      <td>17.74</td>\n",
       "    </tr>\n",
       "  </tbody>\n",
       "</table>\n",
       "</div>"
      ],
      "text/plain": [
       "   Unnamed: 0                              Name    Location  Year  \\\n",
       "0           0            Maruti Wagon R LXI CNG      Mumbai  2010   \n",
       "1           1  Hyundai Creta 1.6 CRDi SX Option        Pune  2015   \n",
       "2           2                      Honda Jazz V     Chennai  2011   \n",
       "3           3                 Maruti Ertiga VDI     Chennai  2012   \n",
       "4           4   Audi A4 New 2.0 TDI Multitronic  Coimbatore  2013   \n",
       "\n",
       "   Kilometers_Driven Fuel_Type Transmission Owner_Type     Mileage   Engine  \\\n",
       "0              72000       CNG       Manual      First  26.6 km/kg   998 CC   \n",
       "1              41000    Diesel       Manual      First  19.67 kmpl  1582 CC   \n",
       "2              46000    Petrol       Manual      First   18.2 kmpl  1199 CC   \n",
       "3              87000    Diesel       Manual      First  20.77 kmpl  1248 CC   \n",
       "4              40670    Diesel    Automatic     Second   15.2 kmpl  1968 CC   \n",
       "\n",
       "       Power  Seats  New_Price  Price  \n",
       "0  58.16 bhp    5.0        NaN   1.75  \n",
       "1  126.2 bhp    5.0        NaN  12.50  \n",
       "2   88.7 bhp    5.0  8.61 Lakh   4.50  \n",
       "3  88.76 bhp    7.0        NaN   6.00  \n",
       "4  140.8 bhp    5.0        NaN  17.74  "
      ]
     },
     "execution_count": 4,
     "metadata": {},
     "output_type": "execute_result"
    }
   ],
   "source": [
    "df1.head(5)"
   ]
  },
  {
   "cell_type": "markdown",
   "id": "ec73b234",
   "metadata": {},
   "source": [
    "#### Shape of the Dataframe :"
   ]
  },
  {
   "cell_type": "code",
   "execution_count": 5,
   "id": "782e977a",
   "metadata": {},
   "outputs": [
    {
     "data": {
      "text/plain": [
       "(6019, 14)"
      ]
     },
     "execution_count": 5,
     "metadata": {},
     "output_type": "execute_result"
    }
   ],
   "source": [
    "df1.shape"
   ]
  },
  {
   "cell_type": "markdown",
   "id": "bac530b9",
   "metadata": {},
   "source": [
    "#### Checking the Datatypes of the Variables in the DataFrame :"
   ]
  },
  {
   "cell_type": "code",
   "execution_count": 6,
   "id": "08c508e7",
   "metadata": {},
   "outputs": [
    {
     "data": {
      "text/plain": [
       "Unnamed: 0             int64\n",
       "Name                  object\n",
       "Location              object\n",
       "Year                   int64\n",
       "Kilometers_Driven      int64\n",
       "Fuel_Type             object\n",
       "Transmission          object\n",
       "Owner_Type            object\n",
       "Mileage               object\n",
       "Engine                object\n",
       "Power                 object\n",
       "Seats                float64\n",
       "New_Price             object\n",
       "Price                float64\n",
       "dtype: object"
      ]
     },
     "execution_count": 6,
     "metadata": {},
     "output_type": "execute_result"
    }
   ],
   "source": [
    "df1.dtypes"
   ]
  },
  {
   "cell_type": "markdown",
   "id": "1d0caab2",
   "metadata": {},
   "source": [
    "#### We are taking only the numeric part of the Mileage"
   ]
  },
  {
   "cell_type": "code",
   "execution_count": 7,
   "id": "0cb37b54",
   "metadata": {},
   "outputs": [],
   "source": [
    "df1['Mileage'] = df1['Mileage'].str.split(n = 1).str[0]"
   ]
  },
  {
   "cell_type": "markdown",
   "id": "cd4be6c0",
   "metadata": {},
   "source": [
    "##### Converting the Mileage datatype to float data type"
   ]
  },
  {
   "cell_type": "code",
   "execution_count": 8,
   "id": "24d83fe9",
   "metadata": {},
   "outputs": [
    {
     "data": {
      "text/plain": [
       "Unnamed: 0             int64\n",
       "Name                  object\n",
       "Location              object\n",
       "Year                   int64\n",
       "Kilometers_Driven      int64\n",
       "Fuel_Type             object\n",
       "Transmission          object\n",
       "Owner_Type            object\n",
       "Mileage              float64\n",
       "Engine                object\n",
       "Power                 object\n",
       "Seats                float64\n",
       "New_Price             object\n",
       "Price                float64\n",
       "dtype: object"
      ]
     },
     "execution_count": 8,
     "metadata": {},
     "output_type": "execute_result"
    }
   ],
   "source": [
    "df1['Mileage'] = df1['Mileage'].astype('float')\n",
    "df1.dtypes"
   ]
  },
  {
   "cell_type": "markdown",
   "id": "4cdd8f31",
   "metadata": {},
   "source": [
    "##### Keeping only the numeric part of the Engine "
   ]
  },
  {
   "cell_type": "code",
   "execution_count": 9,
   "id": "ba1b37e0",
   "metadata": {},
   "outputs": [],
   "source": [
    "df1['Engine'] = df1['Engine'].str.split(n = 1).str[0]"
   ]
  },
  {
   "cell_type": "markdown",
   "id": "1c95c5e6",
   "metadata": {},
   "source": [
    "##### Keeping only the numeric part of the Power"
   ]
  },
  {
   "cell_type": "code",
   "execution_count": 10,
   "id": "acabdfe2",
   "metadata": {},
   "outputs": [],
   "source": [
    "df1['Power'] = df1['Power'].str.split(n = 1).str[0]"
   ]
  },
  {
   "cell_type": "markdown",
   "id": "a3e8a0a7",
   "metadata": {},
   "source": [
    "##### Coverting data types of Engine and Power to Float data type"
   ]
  },
  {
   "cell_type": "code",
   "execution_count": 11,
   "id": "6578d776",
   "metadata": {},
   "outputs": [
    {
     "data": {
      "text/plain": [
       "Unnamed: 0             int64\n",
       "Name                  object\n",
       "Location              object\n",
       "Year                   int64\n",
       "Kilometers_Driven      int64\n",
       "Fuel_Type             object\n",
       "Transmission          object\n",
       "Owner_Type            object\n",
       "Mileage              float64\n",
       "Engine               float64\n",
       "Power                 object\n",
       "Seats                float64\n",
       "New_Price             object\n",
       "Price                float64\n",
       "dtype: object"
      ]
     },
     "execution_count": 11,
     "metadata": {},
     "output_type": "execute_result"
    }
   ],
   "source": [
    "df1['Engine'] = df1['Engine'].astype('float')\n",
    "df1.dtypes"
   ]
  },
  {
   "cell_type": "code",
   "execution_count": 12,
   "id": "05e38d48",
   "metadata": {},
   "outputs": [
    {
     "data": {
      "text/plain": [
       "Unnamed: 0             int64\n",
       "Name                  object\n",
       "Location              object\n",
       "Year                   int64\n",
       "Kilometers_Driven      int64\n",
       "Fuel_Type             object\n",
       "Transmission          object\n",
       "Owner_Type            object\n",
       "Mileage              float64\n",
       "Engine               float64\n",
       "Power                float64\n",
       "Seats                float64\n",
       "New_Price             object\n",
       "Price                float64\n",
       "dtype: object"
      ]
     },
     "execution_count": 12,
     "metadata": {},
     "output_type": "execute_result"
    }
   ],
   "source": [
    "df1['Power']=pd.to_numeric(df1['Power'], errors='coerce')\n",
    "df1.dtypes"
   ]
  },
  {
   "cell_type": "markdown",
   "id": "03c8389e",
   "metadata": {},
   "source": [
    "#### Checking Null Values in the DataFrame :"
   ]
  },
  {
   "cell_type": "code",
   "execution_count": 13,
   "id": "776fec02",
   "metadata": {},
   "outputs": [
    {
     "data": {
      "text/plain": [
       "Unnamed: 0              0\n",
       "Name                    0\n",
       "Location                0\n",
       "Year                    0\n",
       "Kilometers_Driven       0\n",
       "Fuel_Type               0\n",
       "Transmission            0\n",
       "Owner_Type              0\n",
       "Mileage                 2\n",
       "Engine                 36\n",
       "Power                 143\n",
       "Seats                  42\n",
       "New_Price            5195\n",
       "Price                   0\n",
       "dtype: int64"
      ]
     },
     "execution_count": 13,
     "metadata": {},
     "output_type": "execute_result"
    }
   ],
   "source": [
    "df1.isnull().sum()"
   ]
  },
  {
   "cell_type": "markdown",
   "id": "ff7f4704",
   "metadata": {},
   "source": [
    "### Descriptive Statistics of the DataFrame :"
   ]
  },
  {
   "cell_type": "code",
   "execution_count": 14,
   "id": "1d991de2",
   "metadata": {},
   "outputs": [
    {
     "data": {
      "text/html": [
       "<div>\n",
       "<style scoped>\n",
       "    .dataframe tbody tr th:only-of-type {\n",
       "        vertical-align: middle;\n",
       "    }\n",
       "\n",
       "    .dataframe tbody tr th {\n",
       "        vertical-align: top;\n",
       "    }\n",
       "\n",
       "    .dataframe thead th {\n",
       "        text-align: right;\n",
       "    }\n",
       "</style>\n",
       "<table border=\"1\" class=\"dataframe\">\n",
       "  <thead>\n",
       "    <tr style=\"text-align: right;\">\n",
       "      <th></th>\n",
       "      <th>Unnamed: 0</th>\n",
       "      <th>Year</th>\n",
       "      <th>Kilometers_Driven</th>\n",
       "      <th>Mileage</th>\n",
       "      <th>Engine</th>\n",
       "      <th>Power</th>\n",
       "      <th>Seats</th>\n",
       "      <th>Price</th>\n",
       "    </tr>\n",
       "  </thead>\n",
       "  <tbody>\n",
       "    <tr>\n",
       "      <th>count</th>\n",
       "      <td>6019.000000</td>\n",
       "      <td>6019.000000</td>\n",
       "      <td>6.019000e+03</td>\n",
       "      <td>6017.000000</td>\n",
       "      <td>5983.000000</td>\n",
       "      <td>5876.000000</td>\n",
       "      <td>5977.000000</td>\n",
       "      <td>6019.000000</td>\n",
       "    </tr>\n",
       "    <tr>\n",
       "      <th>mean</th>\n",
       "      <td>3009.000000</td>\n",
       "      <td>2013.358199</td>\n",
       "      <td>5.873838e+04</td>\n",
       "      <td>18.134961</td>\n",
       "      <td>1621.276450</td>\n",
       "      <td>113.253050</td>\n",
       "      <td>5.278735</td>\n",
       "      <td>9.479468</td>\n",
       "    </tr>\n",
       "    <tr>\n",
       "      <th>std</th>\n",
       "      <td>1737.679967</td>\n",
       "      <td>3.269742</td>\n",
       "      <td>9.126884e+04</td>\n",
       "      <td>4.582289</td>\n",
       "      <td>601.355233</td>\n",
       "      <td>53.874957</td>\n",
       "      <td>0.808840</td>\n",
       "      <td>11.187917</td>\n",
       "    </tr>\n",
       "    <tr>\n",
       "      <th>min</th>\n",
       "      <td>0.000000</td>\n",
       "      <td>1998.000000</td>\n",
       "      <td>1.710000e+02</td>\n",
       "      <td>0.000000</td>\n",
       "      <td>72.000000</td>\n",
       "      <td>34.200000</td>\n",
       "      <td>0.000000</td>\n",
       "      <td>0.440000</td>\n",
       "    </tr>\n",
       "    <tr>\n",
       "      <th>25%</th>\n",
       "      <td>1504.500000</td>\n",
       "      <td>2011.000000</td>\n",
       "      <td>3.400000e+04</td>\n",
       "      <td>15.170000</td>\n",
       "      <td>1198.000000</td>\n",
       "      <td>75.000000</td>\n",
       "      <td>5.000000</td>\n",
       "      <td>3.500000</td>\n",
       "    </tr>\n",
       "    <tr>\n",
       "      <th>50%</th>\n",
       "      <td>3009.000000</td>\n",
       "      <td>2014.000000</td>\n",
       "      <td>5.300000e+04</td>\n",
       "      <td>18.150000</td>\n",
       "      <td>1493.000000</td>\n",
       "      <td>97.700000</td>\n",
       "      <td>5.000000</td>\n",
       "      <td>5.640000</td>\n",
       "    </tr>\n",
       "    <tr>\n",
       "      <th>75%</th>\n",
       "      <td>4513.500000</td>\n",
       "      <td>2016.000000</td>\n",
       "      <td>7.300000e+04</td>\n",
       "      <td>21.100000</td>\n",
       "      <td>1984.000000</td>\n",
       "      <td>138.100000</td>\n",
       "      <td>5.000000</td>\n",
       "      <td>9.950000</td>\n",
       "    </tr>\n",
       "    <tr>\n",
       "      <th>max</th>\n",
       "      <td>6018.000000</td>\n",
       "      <td>2019.000000</td>\n",
       "      <td>6.500000e+06</td>\n",
       "      <td>33.540000</td>\n",
       "      <td>5998.000000</td>\n",
       "      <td>560.000000</td>\n",
       "      <td>10.000000</td>\n",
       "      <td>160.000000</td>\n",
       "    </tr>\n",
       "  </tbody>\n",
       "</table>\n",
       "</div>"
      ],
      "text/plain": [
       "        Unnamed: 0         Year  Kilometers_Driven      Mileage       Engine  \\\n",
       "count  6019.000000  6019.000000       6.019000e+03  6017.000000  5983.000000   \n",
       "mean   3009.000000  2013.358199       5.873838e+04    18.134961  1621.276450   \n",
       "std    1737.679967     3.269742       9.126884e+04     4.582289   601.355233   \n",
       "min       0.000000  1998.000000       1.710000e+02     0.000000    72.000000   \n",
       "25%    1504.500000  2011.000000       3.400000e+04    15.170000  1198.000000   \n",
       "50%    3009.000000  2014.000000       5.300000e+04    18.150000  1493.000000   \n",
       "75%    4513.500000  2016.000000       7.300000e+04    21.100000  1984.000000   \n",
       "max    6018.000000  2019.000000       6.500000e+06    33.540000  5998.000000   \n",
       "\n",
       "             Power        Seats        Price  \n",
       "count  5876.000000  5977.000000  6019.000000  \n",
       "mean    113.253050     5.278735     9.479468  \n",
       "std      53.874957     0.808840    11.187917  \n",
       "min      34.200000     0.000000     0.440000  \n",
       "25%      75.000000     5.000000     3.500000  \n",
       "50%      97.700000     5.000000     5.640000  \n",
       "75%     138.100000     5.000000     9.950000  \n",
       "max     560.000000    10.000000   160.000000  "
      ]
     },
     "execution_count": 14,
     "metadata": {},
     "output_type": "execute_result"
    }
   ],
   "source": [
    "df1.describe()"
   ]
  },
  {
   "cell_type": "markdown",
   "id": "02289cca",
   "metadata": {},
   "source": [
    "##### The Column Unnamed:0 has no meaning, so we are droping it"
   ]
  },
  {
   "cell_type": "code",
   "execution_count": 15,
   "id": "5fbb849b",
   "metadata": {},
   "outputs": [
    {
     "data": {
      "text/html": [
       "<div>\n",
       "<style scoped>\n",
       "    .dataframe tbody tr th:only-of-type {\n",
       "        vertical-align: middle;\n",
       "    }\n",
       "\n",
       "    .dataframe tbody tr th {\n",
       "        vertical-align: top;\n",
       "    }\n",
       "\n",
       "    .dataframe thead th {\n",
       "        text-align: right;\n",
       "    }\n",
       "</style>\n",
       "<table border=\"1\" class=\"dataframe\">\n",
       "  <thead>\n",
       "    <tr style=\"text-align: right;\">\n",
       "      <th></th>\n",
       "      <th>Year</th>\n",
       "      <th>Kilometers_Driven</th>\n",
       "      <th>Mileage</th>\n",
       "      <th>Engine</th>\n",
       "      <th>Power</th>\n",
       "      <th>Seats</th>\n",
       "      <th>Price</th>\n",
       "    </tr>\n",
       "  </thead>\n",
       "  <tbody>\n",
       "    <tr>\n",
       "      <th>count</th>\n",
       "      <td>6019.000000</td>\n",
       "      <td>6.019000e+03</td>\n",
       "      <td>6017.000000</td>\n",
       "      <td>5983.000000</td>\n",
       "      <td>5876.000000</td>\n",
       "      <td>5977.000000</td>\n",
       "      <td>6019.000000</td>\n",
       "    </tr>\n",
       "    <tr>\n",
       "      <th>mean</th>\n",
       "      <td>2013.358199</td>\n",
       "      <td>5.873838e+04</td>\n",
       "      <td>18.134961</td>\n",
       "      <td>1621.276450</td>\n",
       "      <td>113.253050</td>\n",
       "      <td>5.278735</td>\n",
       "      <td>9.479468</td>\n",
       "    </tr>\n",
       "    <tr>\n",
       "      <th>std</th>\n",
       "      <td>3.269742</td>\n",
       "      <td>9.126884e+04</td>\n",
       "      <td>4.582289</td>\n",
       "      <td>601.355233</td>\n",
       "      <td>53.874957</td>\n",
       "      <td>0.808840</td>\n",
       "      <td>11.187917</td>\n",
       "    </tr>\n",
       "    <tr>\n",
       "      <th>min</th>\n",
       "      <td>1998.000000</td>\n",
       "      <td>1.710000e+02</td>\n",
       "      <td>0.000000</td>\n",
       "      <td>72.000000</td>\n",
       "      <td>34.200000</td>\n",
       "      <td>0.000000</td>\n",
       "      <td>0.440000</td>\n",
       "    </tr>\n",
       "    <tr>\n",
       "      <th>25%</th>\n",
       "      <td>2011.000000</td>\n",
       "      <td>3.400000e+04</td>\n",
       "      <td>15.170000</td>\n",
       "      <td>1198.000000</td>\n",
       "      <td>75.000000</td>\n",
       "      <td>5.000000</td>\n",
       "      <td>3.500000</td>\n",
       "    </tr>\n",
       "    <tr>\n",
       "      <th>50%</th>\n",
       "      <td>2014.000000</td>\n",
       "      <td>5.300000e+04</td>\n",
       "      <td>18.150000</td>\n",
       "      <td>1493.000000</td>\n",
       "      <td>97.700000</td>\n",
       "      <td>5.000000</td>\n",
       "      <td>5.640000</td>\n",
       "    </tr>\n",
       "    <tr>\n",
       "      <th>75%</th>\n",
       "      <td>2016.000000</td>\n",
       "      <td>7.300000e+04</td>\n",
       "      <td>21.100000</td>\n",
       "      <td>1984.000000</td>\n",
       "      <td>138.100000</td>\n",
       "      <td>5.000000</td>\n",
       "      <td>9.950000</td>\n",
       "    </tr>\n",
       "    <tr>\n",
       "      <th>max</th>\n",
       "      <td>2019.000000</td>\n",
       "      <td>6.500000e+06</td>\n",
       "      <td>33.540000</td>\n",
       "      <td>5998.000000</td>\n",
       "      <td>560.000000</td>\n",
       "      <td>10.000000</td>\n",
       "      <td>160.000000</td>\n",
       "    </tr>\n",
       "  </tbody>\n",
       "</table>\n",
       "</div>"
      ],
      "text/plain": [
       "              Year  Kilometers_Driven      Mileage       Engine        Power  \\\n",
       "count  6019.000000       6.019000e+03  6017.000000  5983.000000  5876.000000   \n",
       "mean   2013.358199       5.873838e+04    18.134961  1621.276450   113.253050   \n",
       "std       3.269742       9.126884e+04     4.582289   601.355233    53.874957   \n",
       "min    1998.000000       1.710000e+02     0.000000    72.000000    34.200000   \n",
       "25%    2011.000000       3.400000e+04    15.170000  1198.000000    75.000000   \n",
       "50%    2014.000000       5.300000e+04    18.150000  1493.000000    97.700000   \n",
       "75%    2016.000000       7.300000e+04    21.100000  1984.000000   138.100000   \n",
       "max    2019.000000       6.500000e+06    33.540000  5998.000000   560.000000   \n",
       "\n",
       "             Seats        Price  \n",
       "count  5977.000000  6019.000000  \n",
       "mean      5.278735     9.479468  \n",
       "std       0.808840    11.187917  \n",
       "min       0.000000     0.440000  \n",
       "25%       5.000000     3.500000  \n",
       "50%       5.000000     5.640000  \n",
       "75%       5.000000     9.950000  \n",
       "max      10.000000   160.000000  "
      ]
     },
     "execution_count": 15,
     "metadata": {},
     "output_type": "execute_result"
    }
   ],
   "source": [
    "df1.drop(columns=df1.columns[0], axis=1,  inplace=True)\n",
    "df1.describe()"
   ]
  },
  {
   "cell_type": "code",
   "execution_count": 16,
   "id": "559bf60f",
   "metadata": {},
   "outputs": [
    {
     "name": "stdout",
     "output_type": "stream",
     "text": [
      "<class 'pandas.core.frame.DataFrame'>\n",
      "RangeIndex: 6019 entries, 0 to 6018\n",
      "Data columns (total 13 columns):\n",
      " #   Column             Non-Null Count  Dtype  \n",
      "---  ------             --------------  -----  \n",
      " 0   Name               6019 non-null   object \n",
      " 1   Location           6019 non-null   object \n",
      " 2   Year               6019 non-null   int64  \n",
      " 3   Kilometers_Driven  6019 non-null   int64  \n",
      " 4   Fuel_Type          6019 non-null   object \n",
      " 5   Transmission       6019 non-null   object \n",
      " 6   Owner_Type         6019 non-null   object \n",
      " 7   Mileage            6017 non-null   float64\n",
      " 8   Engine             5983 non-null   float64\n",
      " 9   Power              5876 non-null   float64\n",
      " 10  Seats              5977 non-null   float64\n",
      " 11  New_Price          824 non-null    object \n",
      " 12  Price              6019 non-null   float64\n",
      "dtypes: float64(5), int64(2), object(6)\n",
      "memory usage: 611.4+ KB\n"
     ]
    }
   ],
   "source": [
    "df1.info()"
   ]
  },
  {
   "cell_type": "markdown",
   "id": "6585608e",
   "metadata": {},
   "source": [
    "##### As we can see, New_Price has so many missing values, we will not impute it. It's better to drop the column"
   ]
  },
  {
   "cell_type": "code",
   "execution_count": 17,
   "id": "5cca3dbe",
   "metadata": {},
   "outputs": [],
   "source": [
    "df1 = df1.drop(\"New_Price\", axis='columns')"
   ]
  },
  {
   "cell_type": "code",
   "execution_count": 18,
   "id": "16cb4422",
   "metadata": {},
   "outputs": [
    {
     "name": "stdout",
     "output_type": "stream",
     "text": [
      "<class 'pandas.core.frame.DataFrame'>\n",
      "RangeIndex: 6019 entries, 0 to 6018\n",
      "Data columns (total 12 columns):\n",
      " #   Column             Non-Null Count  Dtype  \n",
      "---  ------             --------------  -----  \n",
      " 0   Name               6019 non-null   object \n",
      " 1   Location           6019 non-null   object \n",
      " 2   Year               6019 non-null   int64  \n",
      " 3   Kilometers_Driven  6019 non-null   int64  \n",
      " 4   Fuel_Type          6019 non-null   object \n",
      " 5   Transmission       6019 non-null   object \n",
      " 6   Owner_Type         6019 non-null   object \n",
      " 7   Mileage            6017 non-null   float64\n",
      " 8   Engine             5983 non-null   float64\n",
      " 9   Power              5876 non-null   float64\n",
      " 10  Seats              5977 non-null   float64\n",
      " 11  Price              6019 non-null   float64\n",
      "dtypes: float64(5), int64(2), object(5)\n",
      "memory usage: 564.4+ KB\n"
     ]
    }
   ],
   "source": [
    "df1.info()"
   ]
  },
  {
   "cell_type": "markdown",
   "id": "6f5373f9",
   "metadata": {},
   "source": [
    "### We are creating two Column Car_Brand and Car_Model out of Name column :"
   ]
  },
  {
   "cell_type": "code",
   "execution_count": 19,
   "id": "48382c8e",
   "metadata": {},
   "outputs": [],
   "source": [
    "df1['Car_Brand'] = df1['Name'].str.split(n = 1).str[0]"
   ]
  },
  {
   "cell_type": "code",
   "execution_count": 20,
   "id": "8d2200b9",
   "metadata": {},
   "outputs": [],
   "source": [
    "df1['Car_Model'] = df1['Name'].str.split(n = 2).str[1]"
   ]
  },
  {
   "cell_type": "code",
   "execution_count": 21,
   "id": "6bbb8bb4",
   "metadata": {},
   "outputs": [
    {
     "data": {
      "text/html": [
       "<div>\n",
       "<style scoped>\n",
       "    .dataframe tbody tr th:only-of-type {\n",
       "        vertical-align: middle;\n",
       "    }\n",
       "\n",
       "    .dataframe tbody tr th {\n",
       "        vertical-align: top;\n",
       "    }\n",
       "\n",
       "    .dataframe thead th {\n",
       "        text-align: right;\n",
       "    }\n",
       "</style>\n",
       "<table border=\"1\" class=\"dataframe\">\n",
       "  <thead>\n",
       "    <tr style=\"text-align: right;\">\n",
       "      <th></th>\n",
       "      <th>Name</th>\n",
       "      <th>Location</th>\n",
       "      <th>Year</th>\n",
       "      <th>Kilometers_Driven</th>\n",
       "      <th>Fuel_Type</th>\n",
       "      <th>Transmission</th>\n",
       "      <th>Owner_Type</th>\n",
       "      <th>Mileage</th>\n",
       "      <th>Engine</th>\n",
       "      <th>Power</th>\n",
       "      <th>Seats</th>\n",
       "      <th>Price</th>\n",
       "      <th>Car_Brand</th>\n",
       "      <th>Car_Model</th>\n",
       "    </tr>\n",
       "  </thead>\n",
       "  <tbody>\n",
       "    <tr>\n",
       "      <th>0</th>\n",
       "      <td>Maruti Wagon R LXI CNG</td>\n",
       "      <td>Mumbai</td>\n",
       "      <td>2010</td>\n",
       "      <td>72000</td>\n",
       "      <td>CNG</td>\n",
       "      <td>Manual</td>\n",
       "      <td>First</td>\n",
       "      <td>26.60</td>\n",
       "      <td>998.0</td>\n",
       "      <td>58.16</td>\n",
       "      <td>5.0</td>\n",
       "      <td>1.75</td>\n",
       "      <td>Maruti</td>\n",
       "      <td>Wagon</td>\n",
       "    </tr>\n",
       "    <tr>\n",
       "      <th>1</th>\n",
       "      <td>Hyundai Creta 1.6 CRDi SX Option</td>\n",
       "      <td>Pune</td>\n",
       "      <td>2015</td>\n",
       "      <td>41000</td>\n",
       "      <td>Diesel</td>\n",
       "      <td>Manual</td>\n",
       "      <td>First</td>\n",
       "      <td>19.67</td>\n",
       "      <td>1582.0</td>\n",
       "      <td>126.20</td>\n",
       "      <td>5.0</td>\n",
       "      <td>12.50</td>\n",
       "      <td>Hyundai</td>\n",
       "      <td>Creta</td>\n",
       "    </tr>\n",
       "    <tr>\n",
       "      <th>2</th>\n",
       "      <td>Honda Jazz V</td>\n",
       "      <td>Chennai</td>\n",
       "      <td>2011</td>\n",
       "      <td>46000</td>\n",
       "      <td>Petrol</td>\n",
       "      <td>Manual</td>\n",
       "      <td>First</td>\n",
       "      <td>18.20</td>\n",
       "      <td>1199.0</td>\n",
       "      <td>88.70</td>\n",
       "      <td>5.0</td>\n",
       "      <td>4.50</td>\n",
       "      <td>Honda</td>\n",
       "      <td>Jazz</td>\n",
       "    </tr>\n",
       "    <tr>\n",
       "      <th>3</th>\n",
       "      <td>Maruti Ertiga VDI</td>\n",
       "      <td>Chennai</td>\n",
       "      <td>2012</td>\n",
       "      <td>87000</td>\n",
       "      <td>Diesel</td>\n",
       "      <td>Manual</td>\n",
       "      <td>First</td>\n",
       "      <td>20.77</td>\n",
       "      <td>1248.0</td>\n",
       "      <td>88.76</td>\n",
       "      <td>7.0</td>\n",
       "      <td>6.00</td>\n",
       "      <td>Maruti</td>\n",
       "      <td>Ertiga</td>\n",
       "    </tr>\n",
       "    <tr>\n",
       "      <th>4</th>\n",
       "      <td>Audi A4 New 2.0 TDI Multitronic</td>\n",
       "      <td>Coimbatore</td>\n",
       "      <td>2013</td>\n",
       "      <td>40670</td>\n",
       "      <td>Diesel</td>\n",
       "      <td>Automatic</td>\n",
       "      <td>Second</td>\n",
       "      <td>15.20</td>\n",
       "      <td>1968.0</td>\n",
       "      <td>140.80</td>\n",
       "      <td>5.0</td>\n",
       "      <td>17.74</td>\n",
       "      <td>Audi</td>\n",
       "      <td>A4</td>\n",
       "    </tr>\n",
       "  </tbody>\n",
       "</table>\n",
       "</div>"
      ],
      "text/plain": [
       "                               Name    Location  Year  Kilometers_Driven  \\\n",
       "0            Maruti Wagon R LXI CNG      Mumbai  2010              72000   \n",
       "1  Hyundai Creta 1.6 CRDi SX Option        Pune  2015              41000   \n",
       "2                      Honda Jazz V     Chennai  2011              46000   \n",
       "3                 Maruti Ertiga VDI     Chennai  2012              87000   \n",
       "4   Audi A4 New 2.0 TDI Multitronic  Coimbatore  2013              40670   \n",
       "\n",
       "  Fuel_Type Transmission Owner_Type  Mileage  Engine   Power  Seats  Price  \\\n",
       "0       CNG       Manual      First    26.60   998.0   58.16    5.0   1.75   \n",
       "1    Diesel       Manual      First    19.67  1582.0  126.20    5.0  12.50   \n",
       "2    Petrol       Manual      First    18.20  1199.0   88.70    5.0   4.50   \n",
       "3    Diesel       Manual      First    20.77  1248.0   88.76    7.0   6.00   \n",
       "4    Diesel    Automatic     Second    15.20  1968.0  140.80    5.0  17.74   \n",
       "\n",
       "  Car_Brand Car_Model  \n",
       "0    Maruti     Wagon  \n",
       "1   Hyundai     Creta  \n",
       "2     Honda      Jazz  \n",
       "3    Maruti    Ertiga  \n",
       "4      Audi        A4  "
      ]
     },
     "execution_count": 21,
     "metadata": {},
     "output_type": "execute_result"
    }
   ],
   "source": [
    "df1.head()"
   ]
  },
  {
   "cell_type": "markdown",
   "id": "6dc525f1",
   "metadata": {},
   "source": [
    "#### We are joining the Car_Brand and Car_Model column to make Car_Make column"
   ]
  },
  {
   "cell_type": "code",
   "execution_count": 22,
   "id": "0bd9ed3f",
   "metadata": {},
   "outputs": [
    {
     "data": {
      "text/html": [
       "<div>\n",
       "<style scoped>\n",
       "    .dataframe tbody tr th:only-of-type {\n",
       "        vertical-align: middle;\n",
       "    }\n",
       "\n",
       "    .dataframe tbody tr th {\n",
       "        vertical-align: top;\n",
       "    }\n",
       "\n",
       "    .dataframe thead th {\n",
       "        text-align: right;\n",
       "    }\n",
       "</style>\n",
       "<table border=\"1\" class=\"dataframe\">\n",
       "  <thead>\n",
       "    <tr style=\"text-align: right;\">\n",
       "      <th></th>\n",
       "      <th>Name</th>\n",
       "      <th>Location</th>\n",
       "      <th>Year</th>\n",
       "      <th>Kilometers_Driven</th>\n",
       "      <th>Fuel_Type</th>\n",
       "      <th>Transmission</th>\n",
       "      <th>Owner_Type</th>\n",
       "      <th>Mileage</th>\n",
       "      <th>Engine</th>\n",
       "      <th>Power</th>\n",
       "      <th>Seats</th>\n",
       "      <th>Price</th>\n",
       "      <th>Car_Brand</th>\n",
       "      <th>Car_Model</th>\n",
       "      <th>Car_Make</th>\n",
       "    </tr>\n",
       "  </thead>\n",
       "  <tbody>\n",
       "    <tr>\n",
       "      <th>0</th>\n",
       "      <td>Maruti Wagon R LXI CNG</td>\n",
       "      <td>Mumbai</td>\n",
       "      <td>2010</td>\n",
       "      <td>72000</td>\n",
       "      <td>CNG</td>\n",
       "      <td>Manual</td>\n",
       "      <td>First</td>\n",
       "      <td>26.60</td>\n",
       "      <td>998.0</td>\n",
       "      <td>58.16</td>\n",
       "      <td>5.0</td>\n",
       "      <td>1.75</td>\n",
       "      <td>Maruti</td>\n",
       "      <td>Wagon</td>\n",
       "      <td>Maruti Wagon</td>\n",
       "    </tr>\n",
       "    <tr>\n",
       "      <th>1</th>\n",
       "      <td>Hyundai Creta 1.6 CRDi SX Option</td>\n",
       "      <td>Pune</td>\n",
       "      <td>2015</td>\n",
       "      <td>41000</td>\n",
       "      <td>Diesel</td>\n",
       "      <td>Manual</td>\n",
       "      <td>First</td>\n",
       "      <td>19.67</td>\n",
       "      <td>1582.0</td>\n",
       "      <td>126.20</td>\n",
       "      <td>5.0</td>\n",
       "      <td>12.50</td>\n",
       "      <td>Hyundai</td>\n",
       "      <td>Creta</td>\n",
       "      <td>Hyundai Creta</td>\n",
       "    </tr>\n",
       "    <tr>\n",
       "      <th>2</th>\n",
       "      <td>Honda Jazz V</td>\n",
       "      <td>Chennai</td>\n",
       "      <td>2011</td>\n",
       "      <td>46000</td>\n",
       "      <td>Petrol</td>\n",
       "      <td>Manual</td>\n",
       "      <td>First</td>\n",
       "      <td>18.20</td>\n",
       "      <td>1199.0</td>\n",
       "      <td>88.70</td>\n",
       "      <td>5.0</td>\n",
       "      <td>4.50</td>\n",
       "      <td>Honda</td>\n",
       "      <td>Jazz</td>\n",
       "      <td>Honda Jazz</td>\n",
       "    </tr>\n",
       "    <tr>\n",
       "      <th>3</th>\n",
       "      <td>Maruti Ertiga VDI</td>\n",
       "      <td>Chennai</td>\n",
       "      <td>2012</td>\n",
       "      <td>87000</td>\n",
       "      <td>Diesel</td>\n",
       "      <td>Manual</td>\n",
       "      <td>First</td>\n",
       "      <td>20.77</td>\n",
       "      <td>1248.0</td>\n",
       "      <td>88.76</td>\n",
       "      <td>7.0</td>\n",
       "      <td>6.00</td>\n",
       "      <td>Maruti</td>\n",
       "      <td>Ertiga</td>\n",
       "      <td>Maruti Ertiga</td>\n",
       "    </tr>\n",
       "    <tr>\n",
       "      <th>4</th>\n",
       "      <td>Audi A4 New 2.0 TDI Multitronic</td>\n",
       "      <td>Coimbatore</td>\n",
       "      <td>2013</td>\n",
       "      <td>40670</td>\n",
       "      <td>Diesel</td>\n",
       "      <td>Automatic</td>\n",
       "      <td>Second</td>\n",
       "      <td>15.20</td>\n",
       "      <td>1968.0</td>\n",
       "      <td>140.80</td>\n",
       "      <td>5.0</td>\n",
       "      <td>17.74</td>\n",
       "      <td>Audi</td>\n",
       "      <td>A4</td>\n",
       "      <td>Audi A4</td>\n",
       "    </tr>\n",
       "  </tbody>\n",
       "</table>\n",
       "</div>"
      ],
      "text/plain": [
       "                               Name    Location  Year  Kilometers_Driven  \\\n",
       "0            Maruti Wagon R LXI CNG      Mumbai  2010              72000   \n",
       "1  Hyundai Creta 1.6 CRDi SX Option        Pune  2015              41000   \n",
       "2                      Honda Jazz V     Chennai  2011              46000   \n",
       "3                 Maruti Ertiga VDI     Chennai  2012              87000   \n",
       "4   Audi A4 New 2.0 TDI Multitronic  Coimbatore  2013              40670   \n",
       "\n",
       "  Fuel_Type Transmission Owner_Type  Mileage  Engine   Power  Seats  Price  \\\n",
       "0       CNG       Manual      First    26.60   998.0   58.16    5.0   1.75   \n",
       "1    Diesel       Manual      First    19.67  1582.0  126.20    5.0  12.50   \n",
       "2    Petrol       Manual      First    18.20  1199.0   88.70    5.0   4.50   \n",
       "3    Diesel       Manual      First    20.77  1248.0   88.76    7.0   6.00   \n",
       "4    Diesel    Automatic     Second    15.20  1968.0  140.80    5.0  17.74   \n",
       "\n",
       "  Car_Brand Car_Model       Car_Make  \n",
       "0    Maruti     Wagon   Maruti Wagon  \n",
       "1   Hyundai     Creta  Hyundai Creta  \n",
       "2     Honda      Jazz     Honda Jazz  \n",
       "3    Maruti    Ertiga  Maruti Ertiga  \n",
       "4      Audi        A4        Audi A4  "
      ]
     },
     "execution_count": 22,
     "metadata": {},
     "output_type": "execute_result"
    }
   ],
   "source": [
    "df1[\"Car_Make\"] = df1[[\"Car_Brand\", \"Car_Model\"]].apply(lambda x: \" \".join(x), axis =1)\n",
    "df1.head()"
   ]
  },
  {
   "cell_type": "markdown",
   "id": "8e81ce27",
   "metadata": {},
   "source": [
    "#### We are droping the Name,Car_Brand and Car_Model Column"
   ]
  },
  {
   "cell_type": "code",
   "execution_count": 23,
   "id": "590ec4f5",
   "metadata": {},
   "outputs": [],
   "source": [
    "df1 = df1.drop(\"Name\", axis='columns')"
   ]
  },
  {
   "cell_type": "code",
   "execution_count": 24,
   "id": "9ebb5a03",
   "metadata": {},
   "outputs": [],
   "source": [
    "df1 = df1.drop(\"Car_Brand\", axis='columns')"
   ]
  },
  {
   "cell_type": "code",
   "execution_count": 25,
   "id": "a46d6154",
   "metadata": {},
   "outputs": [],
   "source": [
    "df1 = df1.drop(\"Car_Model\", axis='columns')"
   ]
  },
  {
   "cell_type": "code",
   "execution_count": 26,
   "id": "d67f5f78",
   "metadata": {},
   "outputs": [
    {
     "data": {
      "text/html": [
       "<div>\n",
       "<style scoped>\n",
       "    .dataframe tbody tr th:only-of-type {\n",
       "        vertical-align: middle;\n",
       "    }\n",
       "\n",
       "    .dataframe tbody tr th {\n",
       "        vertical-align: top;\n",
       "    }\n",
       "\n",
       "    .dataframe thead th {\n",
       "        text-align: right;\n",
       "    }\n",
       "</style>\n",
       "<table border=\"1\" class=\"dataframe\">\n",
       "  <thead>\n",
       "    <tr style=\"text-align: right;\">\n",
       "      <th></th>\n",
       "      <th>Location</th>\n",
       "      <th>Year</th>\n",
       "      <th>Kilometers_Driven</th>\n",
       "      <th>Fuel_Type</th>\n",
       "      <th>Transmission</th>\n",
       "      <th>Owner_Type</th>\n",
       "      <th>Mileage</th>\n",
       "      <th>Engine</th>\n",
       "      <th>Power</th>\n",
       "      <th>Seats</th>\n",
       "      <th>Price</th>\n",
       "      <th>Car_Make</th>\n",
       "    </tr>\n",
       "  </thead>\n",
       "  <tbody>\n",
       "    <tr>\n",
       "      <th>0</th>\n",
       "      <td>Mumbai</td>\n",
       "      <td>2010</td>\n",
       "      <td>72000</td>\n",
       "      <td>CNG</td>\n",
       "      <td>Manual</td>\n",
       "      <td>First</td>\n",
       "      <td>26.60</td>\n",
       "      <td>998.0</td>\n",
       "      <td>58.16</td>\n",
       "      <td>5.0</td>\n",
       "      <td>1.75</td>\n",
       "      <td>Maruti Wagon</td>\n",
       "    </tr>\n",
       "    <tr>\n",
       "      <th>1</th>\n",
       "      <td>Pune</td>\n",
       "      <td>2015</td>\n",
       "      <td>41000</td>\n",
       "      <td>Diesel</td>\n",
       "      <td>Manual</td>\n",
       "      <td>First</td>\n",
       "      <td>19.67</td>\n",
       "      <td>1582.0</td>\n",
       "      <td>126.20</td>\n",
       "      <td>5.0</td>\n",
       "      <td>12.50</td>\n",
       "      <td>Hyundai Creta</td>\n",
       "    </tr>\n",
       "    <tr>\n",
       "      <th>2</th>\n",
       "      <td>Chennai</td>\n",
       "      <td>2011</td>\n",
       "      <td>46000</td>\n",
       "      <td>Petrol</td>\n",
       "      <td>Manual</td>\n",
       "      <td>First</td>\n",
       "      <td>18.20</td>\n",
       "      <td>1199.0</td>\n",
       "      <td>88.70</td>\n",
       "      <td>5.0</td>\n",
       "      <td>4.50</td>\n",
       "      <td>Honda Jazz</td>\n",
       "    </tr>\n",
       "    <tr>\n",
       "      <th>3</th>\n",
       "      <td>Chennai</td>\n",
       "      <td>2012</td>\n",
       "      <td>87000</td>\n",
       "      <td>Diesel</td>\n",
       "      <td>Manual</td>\n",
       "      <td>First</td>\n",
       "      <td>20.77</td>\n",
       "      <td>1248.0</td>\n",
       "      <td>88.76</td>\n",
       "      <td>7.0</td>\n",
       "      <td>6.00</td>\n",
       "      <td>Maruti Ertiga</td>\n",
       "    </tr>\n",
       "    <tr>\n",
       "      <th>4</th>\n",
       "      <td>Coimbatore</td>\n",
       "      <td>2013</td>\n",
       "      <td>40670</td>\n",
       "      <td>Diesel</td>\n",
       "      <td>Automatic</td>\n",
       "      <td>Second</td>\n",
       "      <td>15.20</td>\n",
       "      <td>1968.0</td>\n",
       "      <td>140.80</td>\n",
       "      <td>5.0</td>\n",
       "      <td>17.74</td>\n",
       "      <td>Audi A4</td>\n",
       "    </tr>\n",
       "  </tbody>\n",
       "</table>\n",
       "</div>"
      ],
      "text/plain": [
       "     Location  Year  Kilometers_Driven Fuel_Type Transmission Owner_Type  \\\n",
       "0      Mumbai  2010              72000       CNG       Manual      First   \n",
       "1        Pune  2015              41000    Diesel       Manual      First   \n",
       "2     Chennai  2011              46000    Petrol       Manual      First   \n",
       "3     Chennai  2012              87000    Diesel       Manual      First   \n",
       "4  Coimbatore  2013              40670    Diesel    Automatic     Second   \n",
       "\n",
       "   Mileage  Engine   Power  Seats  Price       Car_Make  \n",
       "0    26.60   998.0   58.16    5.0   1.75   Maruti Wagon  \n",
       "1    19.67  1582.0  126.20    5.0  12.50  Hyundai Creta  \n",
       "2    18.20  1199.0   88.70    5.0   4.50     Honda Jazz  \n",
       "3    20.77  1248.0   88.76    7.0   6.00  Maruti Ertiga  \n",
       "4    15.20  1968.0  140.80    5.0  17.74        Audi A4  "
      ]
     },
     "execution_count": 26,
     "metadata": {},
     "output_type": "execute_result"
    }
   ],
   "source": [
    "df1.head()"
   ]
  },
  {
   "cell_type": "markdown",
   "id": "bebeb071",
   "metadata": {},
   "source": [
    "#### Car_Make has 216 unique values which is significantly less than the Name unique values ( 1876 - unique values )"
   ]
  },
  {
   "cell_type": "code",
   "execution_count": 27,
   "id": "81ea2937",
   "metadata": {},
   "outputs": [
    {
     "data": {
      "text/plain": [
       "216"
      ]
     },
     "execution_count": 27,
     "metadata": {},
     "output_type": "execute_result"
    }
   ],
   "source": [
    "df1['Car_Make'].nunique()"
   ]
  },
  {
   "cell_type": "code",
   "execution_count": 28,
   "id": "9923cc66",
   "metadata": {},
   "outputs": [
    {
     "data": {
      "text/plain": [
       "1876"
      ]
     },
     "execution_count": 28,
     "metadata": {},
     "output_type": "execute_result"
    }
   ],
   "source": [
    "df['Name'].nunique()"
   ]
  },
  {
   "cell_type": "markdown",
   "id": "17ac1ba5",
   "metadata": {},
   "source": [
    "### Engine,Power and Seats has missing values "
   ]
  },
  {
   "cell_type": "code",
   "execution_count": 29,
   "id": "0febaa32",
   "metadata": {},
   "outputs": [
    {
     "data": {
      "text/plain": [
       "Location               0\n",
       "Year                   0\n",
       "Kilometers_Driven      0\n",
       "Fuel_Type              0\n",
       "Transmission           0\n",
       "Owner_Type             0\n",
       "Mileage                2\n",
       "Engine                36\n",
       "Power                143\n",
       "Seats                 42\n",
       "Price                  0\n",
       "Car_Make               0\n",
       "dtype: int64"
      ]
     },
     "execution_count": 29,
     "metadata": {},
     "output_type": "execute_result"
    }
   ],
   "source": [
    "df1.isnull().sum()"
   ]
  },
  {
   "cell_type": "markdown",
   "id": "7d50c432",
   "metadata": {},
   "source": [
    "### We are creating car_age column and dropping the Year Column :"
   ]
  },
  {
   "cell_type": "code",
   "execution_count": 30,
   "id": "c38e6477",
   "metadata": {},
   "outputs": [],
   "source": [
    "cur_year=2023"
   ]
  },
  {
   "cell_type": "code",
   "execution_count": 31,
   "id": "1b6b110d",
   "metadata": {},
   "outputs": [],
   "source": [
    "df1['car_age']=2023-df1['Year']"
   ]
  },
  {
   "cell_type": "code",
   "execution_count": 32,
   "id": "3b04db14",
   "metadata": {},
   "outputs": [],
   "source": [
    "df1 = df1.drop(\"Year\", axis='columns')"
   ]
  },
  {
   "cell_type": "code",
   "execution_count": 33,
   "id": "4e85dc96",
   "metadata": {},
   "outputs": [
    {
     "data": {
      "text/html": [
       "<div>\n",
       "<style scoped>\n",
       "    .dataframe tbody tr th:only-of-type {\n",
       "        vertical-align: middle;\n",
       "    }\n",
       "\n",
       "    .dataframe tbody tr th {\n",
       "        vertical-align: top;\n",
       "    }\n",
       "\n",
       "    .dataframe thead th {\n",
       "        text-align: right;\n",
       "    }\n",
       "</style>\n",
       "<table border=\"1\" class=\"dataframe\">\n",
       "  <thead>\n",
       "    <tr style=\"text-align: right;\">\n",
       "      <th></th>\n",
       "      <th>Location</th>\n",
       "      <th>Kilometers_Driven</th>\n",
       "      <th>Fuel_Type</th>\n",
       "      <th>Transmission</th>\n",
       "      <th>Owner_Type</th>\n",
       "      <th>Mileage</th>\n",
       "      <th>Engine</th>\n",
       "      <th>Power</th>\n",
       "      <th>Seats</th>\n",
       "      <th>Price</th>\n",
       "      <th>Car_Make</th>\n",
       "      <th>car_age</th>\n",
       "    </tr>\n",
       "  </thead>\n",
       "  <tbody>\n",
       "    <tr>\n",
       "      <th>0</th>\n",
       "      <td>Mumbai</td>\n",
       "      <td>72000</td>\n",
       "      <td>CNG</td>\n",
       "      <td>Manual</td>\n",
       "      <td>First</td>\n",
       "      <td>26.60</td>\n",
       "      <td>998.0</td>\n",
       "      <td>58.16</td>\n",
       "      <td>5.0</td>\n",
       "      <td>1.75</td>\n",
       "      <td>Maruti Wagon</td>\n",
       "      <td>13</td>\n",
       "    </tr>\n",
       "    <tr>\n",
       "      <th>1</th>\n",
       "      <td>Pune</td>\n",
       "      <td>41000</td>\n",
       "      <td>Diesel</td>\n",
       "      <td>Manual</td>\n",
       "      <td>First</td>\n",
       "      <td>19.67</td>\n",
       "      <td>1582.0</td>\n",
       "      <td>126.20</td>\n",
       "      <td>5.0</td>\n",
       "      <td>12.50</td>\n",
       "      <td>Hyundai Creta</td>\n",
       "      <td>8</td>\n",
       "    </tr>\n",
       "    <tr>\n",
       "      <th>2</th>\n",
       "      <td>Chennai</td>\n",
       "      <td>46000</td>\n",
       "      <td>Petrol</td>\n",
       "      <td>Manual</td>\n",
       "      <td>First</td>\n",
       "      <td>18.20</td>\n",
       "      <td>1199.0</td>\n",
       "      <td>88.70</td>\n",
       "      <td>5.0</td>\n",
       "      <td>4.50</td>\n",
       "      <td>Honda Jazz</td>\n",
       "      <td>12</td>\n",
       "    </tr>\n",
       "    <tr>\n",
       "      <th>3</th>\n",
       "      <td>Chennai</td>\n",
       "      <td>87000</td>\n",
       "      <td>Diesel</td>\n",
       "      <td>Manual</td>\n",
       "      <td>First</td>\n",
       "      <td>20.77</td>\n",
       "      <td>1248.0</td>\n",
       "      <td>88.76</td>\n",
       "      <td>7.0</td>\n",
       "      <td>6.00</td>\n",
       "      <td>Maruti Ertiga</td>\n",
       "      <td>11</td>\n",
       "    </tr>\n",
       "    <tr>\n",
       "      <th>4</th>\n",
       "      <td>Coimbatore</td>\n",
       "      <td>40670</td>\n",
       "      <td>Diesel</td>\n",
       "      <td>Automatic</td>\n",
       "      <td>Second</td>\n",
       "      <td>15.20</td>\n",
       "      <td>1968.0</td>\n",
       "      <td>140.80</td>\n",
       "      <td>5.0</td>\n",
       "      <td>17.74</td>\n",
       "      <td>Audi A4</td>\n",
       "      <td>10</td>\n",
       "    </tr>\n",
       "  </tbody>\n",
       "</table>\n",
       "</div>"
      ],
      "text/plain": [
       "     Location  Kilometers_Driven Fuel_Type Transmission Owner_Type  Mileage  \\\n",
       "0      Mumbai              72000       CNG       Manual      First    26.60   \n",
       "1        Pune              41000    Diesel       Manual      First    19.67   \n",
       "2     Chennai              46000    Petrol       Manual      First    18.20   \n",
       "3     Chennai              87000    Diesel       Manual      First    20.77   \n",
       "4  Coimbatore              40670    Diesel    Automatic     Second    15.20   \n",
       "\n",
       "   Engine   Power  Seats  Price       Car_Make  car_age  \n",
       "0   998.0   58.16    5.0   1.75   Maruti Wagon       13  \n",
       "1  1582.0  126.20    5.0  12.50  Hyundai Creta        8  \n",
       "2  1199.0   88.70    5.0   4.50     Honda Jazz       12  \n",
       "3  1248.0   88.76    7.0   6.00  Maruti Ertiga       11  \n",
       "4  1968.0  140.80    5.0  17.74        Audi A4       10  "
      ]
     },
     "execution_count": 33,
     "metadata": {},
     "output_type": "execute_result"
    }
   ],
   "source": [
    "df1.head()"
   ]
  },
  {
   "cell_type": "markdown",
   "id": "747686b2",
   "metadata": {},
   "source": [
    "#### We need to encode the categorical variable. Here we have calculated the rank of the each class in the column with repect to the Price. The logic is higher the weightage of the class better is it in terms of rank."
   ]
  },
  {
   "cell_type": "code",
   "execution_count": 34,
   "id": "253b6bb3",
   "metadata": {},
   "outputs": [
    {
     "data": {
      "text/plain": [
       "Car_Make\n",
       "Ambassador Classic     1.0\n",
       "Audi A3               19.0\n",
       "Audi A4               18.0\n",
       "Audi A6               22.0\n",
       "Audi A7               27.0\n",
       "                      ... \n",
       "Volvo S60             20.0\n",
       "Volvo S80              9.0\n",
       "Volvo V40             20.0\n",
       "Volvo XC60            18.0\n",
       "Volvo XC90            24.0\n",
       "Name: Price, Length: 216, dtype: float64"
      ]
     },
     "execution_count": 34,
     "metadata": {},
     "output_type": "execute_result"
    }
   ],
   "source": [
    "car_make_mean = df1.groupby('Car_Make').Price.agg('mean')\n",
    "car_make_mean = round(car_make_mean)\n",
    "car_make_mean.head(50)\n",
    "car_make_mean"
   ]
  },
  {
   "cell_type": "code",
   "execution_count": 35,
   "id": "867f9156",
   "metadata": {},
   "outputs": [],
   "source": [
    "car_1=car_make_mean.to_dict()"
   ]
  },
  {
   "cell_type": "code",
   "execution_count": 36,
   "id": "2fff062a",
   "metadata": {},
   "outputs": [
    {
     "data": {
      "text/plain": [
       "{'Ambassador Classic': 1.0,\n",
       " 'Audi A3': 19.0,\n",
       " 'Audi A4': 18.0,\n",
       " 'Audi A6': 22.0,\n",
       " 'Audi A7': 27.0,\n",
       " 'Audi A8': 29.0,\n",
       " 'Audi Q3': 23.0,\n",
       " 'Audi Q5': 31.0,\n",
       " 'Audi Q7': 41.0,\n",
       " 'Audi RS5': 39.0,\n",
       " 'Audi TT': 31.0,\n",
       " 'BMW 1': 17.0,\n",
       " 'BMW 3': 18.0,\n",
       " 'BMW 5': 25.0,\n",
       " 'BMW 6': 46.0,\n",
       " 'BMW 7': 40.0,\n",
       " 'BMW X1': 20.0,\n",
       " 'BMW X3': 32.0,\n",
       " 'BMW X5': 38.0,\n",
       " 'BMW X6': 50.0,\n",
       " 'BMW Z4': 44.0,\n",
       " 'Bentley Continental': 59.0,\n",
       " 'Chevrolet Aveo': 1.0,\n",
       " 'Chevrolet Beat': 2.0,\n",
       " 'Chevrolet Captiva': 4.0,\n",
       " 'Chevrolet Cruze': 6.0,\n",
       " 'Chevrolet Enjoy': 4.0,\n",
       " 'Chevrolet Optra': 2.0,\n",
       " 'Chevrolet Sail': 3.0,\n",
       " 'Chevrolet Spark': 2.0,\n",
       " 'Chevrolet Tavera': 5.0,\n",
       " 'Datsun GO': 3.0,\n",
       " 'Datsun Redi': 3.0,\n",
       " 'Datsun redi-GO': 3.0,\n",
       " 'Fiat Avventura': 6.0,\n",
       " 'Fiat Grande': 3.0,\n",
       " 'Fiat Linea': 3.0,\n",
       " 'Fiat Petra': 1.0,\n",
       " 'Fiat Punto': 3.0,\n",
       " 'Fiat Siena': 1.0,\n",
       " 'Force One': 9.0,\n",
       " 'Ford Aspire': 7.0,\n",
       " 'Ford Classic': 3.0,\n",
       " 'Ford EcoSport': 8.0,\n",
       " 'Ford Ecosport': 7.0,\n",
       " 'Ford Endeavour': 19.0,\n",
       " 'Ford Fiesta': 3.0,\n",
       " 'Ford Figo': 4.0,\n",
       " 'Ford Freestyle': 7.0,\n",
       " 'Ford Fusion': 3.0,\n",
       " 'Ford Ikon': 1.0,\n",
       " 'Ford Mustang': 57.0,\n",
       " 'Honda Accord': 5.0,\n",
       " 'Honda Amaze': 5.0,\n",
       " 'Honda BR-V': 9.0,\n",
       " 'Honda BRV': 9.0,\n",
       " 'Honda Brio': 4.0,\n",
       " 'Honda CR-V': 8.0,\n",
       " 'Honda City': 6.0,\n",
       " 'Honda Civic': 3.0,\n",
       " 'Honda Jazz': 6.0,\n",
       " 'Honda Mobilio': 6.0,\n",
       " 'Honda WR-V': 8.0,\n",
       " 'Honda WRV': 9.0,\n",
       " 'Hyundai Accent': 2.0,\n",
       " 'Hyundai Creta': 12.0,\n",
       " 'Hyundai EON': 3.0,\n",
       " 'Hyundai Elantra': 9.0,\n",
       " 'Hyundai Elite': 7.0,\n",
       " 'Hyundai Getz': 1.0,\n",
       " 'Hyundai Grand': 5.0,\n",
       " 'Hyundai Santa': 14.0,\n",
       " 'Hyundai Santro': 2.0,\n",
       " 'Hyundai Sonata': 6.0,\n",
       " 'Hyundai Tucson': 12.0,\n",
       " 'Hyundai Verna': 6.0,\n",
       " 'Hyundai Xcent': 5.0,\n",
       " 'Hyundai i10': 3.0,\n",
       " 'Hyundai i20': 5.0,\n",
       " 'ISUZU D-MAX': 12.0,\n",
       " 'Isuzu MUX': 20.0,\n",
       " 'Jaguar F': 100.0,\n",
       " 'Jaguar XE': 38.0,\n",
       " 'Jaguar XF': 30.0,\n",
       " 'Jaguar XJ': 64.0,\n",
       " 'Jeep Compass': 19.0,\n",
       " 'Lamborghini Gallardo': 120.0,\n",
       " 'Land Rover': 39.0,\n",
       " 'Mahindra Bolero': 5.0,\n",
       " 'Mahindra E': 13.0,\n",
       " 'Mahindra Jeep': 4.0,\n",
       " 'Mahindra KUV': 5.0,\n",
       " 'Mahindra Logan': 2.0,\n",
       " 'Mahindra NuvoSport': 7.0,\n",
       " 'Mahindra Quanto': 4.0,\n",
       " 'Mahindra Renault': 2.0,\n",
       " 'Mahindra Scorpio': 7.0,\n",
       " 'Mahindra Ssangyong': 11.0,\n",
       " 'Mahindra TUV': 8.0,\n",
       " 'Mahindra Thar': 9.0,\n",
       " 'Mahindra Verito': 3.0,\n",
       " 'Mahindra XUV300': 7.0,\n",
       " 'Mahindra XUV500': 10.0,\n",
       " 'Mahindra Xylo': 5.0,\n",
       " 'Maruti 1000': 1.0,\n",
       " 'Maruti 800': 1.0,\n",
       " 'Maruti A-Star': 2.0,\n",
       " 'Maruti Alto': 3.0,\n",
       " 'Maruti Baleno': 7.0,\n",
       " 'Maruti Celerio': 4.0,\n",
       " 'Maruti Ciaz': 8.0,\n",
       " 'Maruti Dzire': 6.0,\n",
       " 'Maruti Eeco': 4.0,\n",
       " 'Maruti Ertiga': 7.0,\n",
       " 'Maruti Esteem': 1.0,\n",
       " 'Maruti Estilo': 2.0,\n",
       " 'Maruti Grand': 7.0,\n",
       " 'Maruti Ignis': 6.0,\n",
       " 'Maruti Omni': 2.0,\n",
       " 'Maruti Ritz': 4.0,\n",
       " 'Maruti S': 8.0,\n",
       " 'Maruti S-Cross': 8.0,\n",
       " 'Maruti SX4': 4.0,\n",
       " 'Maruti Swift': 5.0,\n",
       " 'Maruti Versa': 1.0,\n",
       " 'Maruti Vitara': 9.0,\n",
       " 'Maruti Wagon': 3.0,\n",
       " 'Maruti Zen': 1.0,\n",
       " 'Mercedes-Benz A': 16.0,\n",
       " 'Mercedes-Benz B': 15.0,\n",
       " 'Mercedes-Benz C-Class': 37.0,\n",
       " 'Mercedes-Benz CLA': 28.0,\n",
       " 'Mercedes-Benz CLS-Class': 32.0,\n",
       " 'Mercedes-Benz E-Class': 24.0,\n",
       " 'Mercedes-Benz GL-Class': 43.0,\n",
       " 'Mercedes-Benz GLA': 23.0,\n",
       " 'Mercedes-Benz GLC': 49.0,\n",
       " 'Mercedes-Benz GLE': 60.0,\n",
       " 'Mercedes-Benz GLS': 68.0,\n",
       " 'Mercedes-Benz M-Class': 30.0,\n",
       " 'Mercedes-Benz New': 21.0,\n",
       " 'Mercedes-Benz R-Class': 21.0,\n",
       " 'Mercedes-Benz S': 24.0,\n",
       " 'Mercedes-Benz S-Class': 14.0,\n",
       " 'Mercedes-Benz SL-Class': 30.0,\n",
       " 'Mercedes-Benz SLC': 69.0,\n",
       " 'Mercedes-Benz SLK-Class': 67.0,\n",
       " 'Mini Clubman': 35.0,\n",
       " 'Mini Cooper': 27.0,\n",
       " 'Mini Countryman': 23.0,\n",
       " 'Mitsubishi Cedia': 3.0,\n",
       " 'Mitsubishi Lancer': 2.0,\n",
       " 'Mitsubishi Montero': 8.0,\n",
       " 'Mitsubishi Outlander': 7.0,\n",
       " 'Mitsubishi Pajero': 13.0,\n",
       " 'Nissan Evalia': 4.0,\n",
       " 'Nissan Micra': 3.0,\n",
       " 'Nissan Sunny': 5.0,\n",
       " 'Nissan Teana': 6.0,\n",
       " 'Nissan Terrano': 6.0,\n",
       " 'Nissan X-Trail': 7.0,\n",
       " 'Porsche Boxster': 64.0,\n",
       " 'Porsche Cayenne': 36.0,\n",
       " 'Porsche Cayman': 42.0,\n",
       " 'Porsche Panamera': 59.0,\n",
       " 'Renault Captur': 14.0,\n",
       " 'Renault Duster': 7.0,\n",
       " 'Renault Fluence': 4.0,\n",
       " 'Renault KWID': 4.0,\n",
       " 'Renault Koleos': 8.0,\n",
       " 'Renault Lodgy': 8.0,\n",
       " 'Renault Pulse': 4.0,\n",
       " 'Renault Scala': 4.0,\n",
       " 'Skoda Fabia': 2.0,\n",
       " 'Skoda Laura': 5.0,\n",
       " 'Skoda Octavia': 9.0,\n",
       " 'Skoda Rapid': 6.0,\n",
       " 'Skoda Superb': 10.0,\n",
       " 'Skoda Yeti': 7.0,\n",
       " 'Smart Fortwo': 3.0,\n",
       " 'Tata Bolt': 5.0,\n",
       " 'Tata Hexa': 14.0,\n",
       " 'Tata Indica': 2.0,\n",
       " 'Tata Indigo': 2.0,\n",
       " 'Tata Manza': 2.0,\n",
       " 'Tata Nano': 2.0,\n",
       " 'Tata New': 3.0,\n",
       " 'Tata Nexon': 10.0,\n",
       " 'Tata Safari': 8.0,\n",
       " 'Tata Sumo': 4.0,\n",
       " 'Tata Tiago': 5.0,\n",
       " 'Tata Tigor': 6.0,\n",
       " 'Tata Venture': 2.0,\n",
       " 'Tata Xenon': 6.0,\n",
       " 'Tata Zest': 5.0,\n",
       " 'Toyota Camry': 19.0,\n",
       " 'Toyota Corolla': 7.0,\n",
       " 'Toyota Etios': 4.0,\n",
       " 'Toyota Fortuner': 18.0,\n",
       " 'Toyota Innova': 12.0,\n",
       " 'Toyota Platinum': 6.0,\n",
       " 'Toyota Prius': 13.0,\n",
       " 'Toyota Qualis': 3.0,\n",
       " 'Volkswagen Ameo': 6.0,\n",
       " 'Volkswagen Beetle': 16.0,\n",
       " 'Volkswagen CrossPolo': 6.0,\n",
       " 'Volkswagen Jetta': 8.0,\n",
       " 'Volkswagen Passat': 6.0,\n",
       " 'Volkswagen Polo': 4.0,\n",
       " 'Volkswagen Tiguan': 25.0,\n",
       " 'Volkswagen Vento': 5.0,\n",
       " 'Volvo S60': 20.0,\n",
       " 'Volvo S80': 9.0,\n",
       " 'Volvo V40': 20.0,\n",
       " 'Volvo XC60': 18.0,\n",
       " 'Volvo XC90': 24.0}"
      ]
     },
     "execution_count": 36,
     "metadata": {},
     "output_type": "execute_result"
    }
   ],
   "source": [
    "car_1"
   ]
  },
  {
   "cell_type": "code",
   "execution_count": 37,
   "id": "5e64fbed",
   "metadata": {},
   "outputs": [],
   "source": [
    "df1=df1.replace({\"Car_Make\": car_1})"
   ]
  },
  {
   "cell_type": "code",
   "execution_count": 38,
   "id": "5348ff01",
   "metadata": {},
   "outputs": [
    {
     "data": {
      "text/html": [
       "<div>\n",
       "<style scoped>\n",
       "    .dataframe tbody tr th:only-of-type {\n",
       "        vertical-align: middle;\n",
       "    }\n",
       "\n",
       "    .dataframe tbody tr th {\n",
       "        vertical-align: top;\n",
       "    }\n",
       "\n",
       "    .dataframe thead th {\n",
       "        text-align: right;\n",
       "    }\n",
       "</style>\n",
       "<table border=\"1\" class=\"dataframe\">\n",
       "  <thead>\n",
       "    <tr style=\"text-align: right;\">\n",
       "      <th></th>\n",
       "      <th>Location</th>\n",
       "      <th>Kilometers_Driven</th>\n",
       "      <th>Fuel_Type</th>\n",
       "      <th>Transmission</th>\n",
       "      <th>Owner_Type</th>\n",
       "      <th>Mileage</th>\n",
       "      <th>Engine</th>\n",
       "      <th>Power</th>\n",
       "      <th>Seats</th>\n",
       "      <th>Price</th>\n",
       "      <th>Car_Make</th>\n",
       "      <th>car_age</th>\n",
       "    </tr>\n",
       "  </thead>\n",
       "  <tbody>\n",
       "    <tr>\n",
       "      <th>0</th>\n",
       "      <td>Mumbai</td>\n",
       "      <td>72000</td>\n",
       "      <td>CNG</td>\n",
       "      <td>Manual</td>\n",
       "      <td>First</td>\n",
       "      <td>26.60</td>\n",
       "      <td>998.0</td>\n",
       "      <td>58.16</td>\n",
       "      <td>5.0</td>\n",
       "      <td>1.75</td>\n",
       "      <td>3.0</td>\n",
       "      <td>13</td>\n",
       "    </tr>\n",
       "    <tr>\n",
       "      <th>1</th>\n",
       "      <td>Pune</td>\n",
       "      <td>41000</td>\n",
       "      <td>Diesel</td>\n",
       "      <td>Manual</td>\n",
       "      <td>First</td>\n",
       "      <td>19.67</td>\n",
       "      <td>1582.0</td>\n",
       "      <td>126.20</td>\n",
       "      <td>5.0</td>\n",
       "      <td>12.50</td>\n",
       "      <td>12.0</td>\n",
       "      <td>8</td>\n",
       "    </tr>\n",
       "    <tr>\n",
       "      <th>2</th>\n",
       "      <td>Chennai</td>\n",
       "      <td>46000</td>\n",
       "      <td>Petrol</td>\n",
       "      <td>Manual</td>\n",
       "      <td>First</td>\n",
       "      <td>18.20</td>\n",
       "      <td>1199.0</td>\n",
       "      <td>88.70</td>\n",
       "      <td>5.0</td>\n",
       "      <td>4.50</td>\n",
       "      <td>6.0</td>\n",
       "      <td>12</td>\n",
       "    </tr>\n",
       "    <tr>\n",
       "      <th>3</th>\n",
       "      <td>Chennai</td>\n",
       "      <td>87000</td>\n",
       "      <td>Diesel</td>\n",
       "      <td>Manual</td>\n",
       "      <td>First</td>\n",
       "      <td>20.77</td>\n",
       "      <td>1248.0</td>\n",
       "      <td>88.76</td>\n",
       "      <td>7.0</td>\n",
       "      <td>6.00</td>\n",
       "      <td>7.0</td>\n",
       "      <td>11</td>\n",
       "    </tr>\n",
       "    <tr>\n",
       "      <th>4</th>\n",
       "      <td>Coimbatore</td>\n",
       "      <td>40670</td>\n",
       "      <td>Diesel</td>\n",
       "      <td>Automatic</td>\n",
       "      <td>Second</td>\n",
       "      <td>15.20</td>\n",
       "      <td>1968.0</td>\n",
       "      <td>140.80</td>\n",
       "      <td>5.0</td>\n",
       "      <td>17.74</td>\n",
       "      <td>18.0</td>\n",
       "      <td>10</td>\n",
       "    </tr>\n",
       "  </tbody>\n",
       "</table>\n",
       "</div>"
      ],
      "text/plain": [
       "     Location  Kilometers_Driven Fuel_Type Transmission Owner_Type  Mileage  \\\n",
       "0      Mumbai              72000       CNG       Manual      First    26.60   \n",
       "1        Pune              41000    Diesel       Manual      First    19.67   \n",
       "2     Chennai              46000    Petrol       Manual      First    18.20   \n",
       "3     Chennai              87000    Diesel       Manual      First    20.77   \n",
       "4  Coimbatore              40670    Diesel    Automatic     Second    15.20   \n",
       "\n",
       "   Engine   Power  Seats  Price  Car_Make  car_age  \n",
       "0   998.0   58.16    5.0   1.75       3.0       13  \n",
       "1  1582.0  126.20    5.0  12.50      12.0        8  \n",
       "2  1199.0   88.70    5.0   4.50       6.0       12  \n",
       "3  1248.0   88.76    7.0   6.00       7.0       11  \n",
       "4  1968.0  140.80    5.0  17.74      18.0       10  "
      ]
     },
     "execution_count": 38,
     "metadata": {},
     "output_type": "execute_result"
    }
   ],
   "source": [
    "df1.head()"
   ]
  },
  {
   "cell_type": "code",
   "execution_count": 39,
   "id": "4615110b",
   "metadata": {},
   "outputs": [
    {
     "data": {
      "text/plain": [
       "Location\n",
       "Ahmedabad      8.0\n",
       "Bangalore     13.0\n",
       "Chennai        8.0\n",
       "Coimbatore    15.0\n",
       "Delhi         10.0\n",
       "Hyderabad     10.0\n",
       "Jaipur         6.0\n",
       "Kochi         11.0\n",
       "Kolkata        6.0\n",
       "Mumbai         9.0\n",
       "Pune           7.0\n",
       "Name: Price, dtype: float64"
      ]
     },
     "execution_count": 39,
     "metadata": {},
     "output_type": "execute_result"
    }
   ],
   "source": [
    "Location_mean = df1.groupby('Location').Price.agg('mean')\n",
    "Location_mean = round(Location_mean)\n",
    "Location_mean.head(50)\n",
    "Location_mean"
   ]
  },
  {
   "cell_type": "markdown",
   "id": "859e38f0",
   "metadata": {},
   "source": [
    "### We can observe that Coimbatore has got highest rank. Jaipur and Kolkata has got lowest rank jointly."
   ]
  },
  {
   "cell_type": "code",
   "execution_count": 40,
   "id": "ed98d39d",
   "metadata": {},
   "outputs": [],
   "source": [
    "Location_1=Location_mean.to_dict()"
   ]
  },
  {
   "cell_type": "code",
   "execution_count": 41,
   "id": "dc173c2d",
   "metadata": {},
   "outputs": [
    {
     "data": {
      "text/plain": [
       "{'Ahmedabad': 8.0,\n",
       " 'Bangalore': 13.0,\n",
       " 'Chennai': 8.0,\n",
       " 'Coimbatore': 15.0,\n",
       " 'Delhi': 10.0,\n",
       " 'Hyderabad': 10.0,\n",
       " 'Jaipur': 6.0,\n",
       " 'Kochi': 11.0,\n",
       " 'Kolkata': 6.0,\n",
       " 'Mumbai': 9.0,\n",
       " 'Pune': 7.0}"
      ]
     },
     "execution_count": 41,
     "metadata": {},
     "output_type": "execute_result"
    }
   ],
   "source": [
    "Location_1"
   ]
  },
  {
   "cell_type": "code",
   "execution_count": 42,
   "id": "f19af16c",
   "metadata": {},
   "outputs": [],
   "source": [
    "df1=df1.replace({\"Location\": Location_1})"
   ]
  },
  {
   "cell_type": "code",
   "execution_count": 43,
   "id": "b0482026",
   "metadata": {},
   "outputs": [
    {
     "data": {
      "text/html": [
       "<div>\n",
       "<style scoped>\n",
       "    .dataframe tbody tr th:only-of-type {\n",
       "        vertical-align: middle;\n",
       "    }\n",
       "\n",
       "    .dataframe tbody tr th {\n",
       "        vertical-align: top;\n",
       "    }\n",
       "\n",
       "    .dataframe thead th {\n",
       "        text-align: right;\n",
       "    }\n",
       "</style>\n",
       "<table border=\"1\" class=\"dataframe\">\n",
       "  <thead>\n",
       "    <tr style=\"text-align: right;\">\n",
       "      <th></th>\n",
       "      <th>Location</th>\n",
       "      <th>Kilometers_Driven</th>\n",
       "      <th>Fuel_Type</th>\n",
       "      <th>Transmission</th>\n",
       "      <th>Owner_Type</th>\n",
       "      <th>Mileage</th>\n",
       "      <th>Engine</th>\n",
       "      <th>Power</th>\n",
       "      <th>Seats</th>\n",
       "      <th>Price</th>\n",
       "      <th>Car_Make</th>\n",
       "      <th>car_age</th>\n",
       "    </tr>\n",
       "  </thead>\n",
       "  <tbody>\n",
       "    <tr>\n",
       "      <th>0</th>\n",
       "      <td>9.0</td>\n",
       "      <td>72000</td>\n",
       "      <td>CNG</td>\n",
       "      <td>Manual</td>\n",
       "      <td>First</td>\n",
       "      <td>26.60</td>\n",
       "      <td>998.0</td>\n",
       "      <td>58.16</td>\n",
       "      <td>5.0</td>\n",
       "      <td>1.75</td>\n",
       "      <td>3.0</td>\n",
       "      <td>13</td>\n",
       "    </tr>\n",
       "    <tr>\n",
       "      <th>1</th>\n",
       "      <td>7.0</td>\n",
       "      <td>41000</td>\n",
       "      <td>Diesel</td>\n",
       "      <td>Manual</td>\n",
       "      <td>First</td>\n",
       "      <td>19.67</td>\n",
       "      <td>1582.0</td>\n",
       "      <td>126.20</td>\n",
       "      <td>5.0</td>\n",
       "      <td>12.50</td>\n",
       "      <td>12.0</td>\n",
       "      <td>8</td>\n",
       "    </tr>\n",
       "    <tr>\n",
       "      <th>2</th>\n",
       "      <td>8.0</td>\n",
       "      <td>46000</td>\n",
       "      <td>Petrol</td>\n",
       "      <td>Manual</td>\n",
       "      <td>First</td>\n",
       "      <td>18.20</td>\n",
       "      <td>1199.0</td>\n",
       "      <td>88.70</td>\n",
       "      <td>5.0</td>\n",
       "      <td>4.50</td>\n",
       "      <td>6.0</td>\n",
       "      <td>12</td>\n",
       "    </tr>\n",
       "    <tr>\n",
       "      <th>3</th>\n",
       "      <td>8.0</td>\n",
       "      <td>87000</td>\n",
       "      <td>Diesel</td>\n",
       "      <td>Manual</td>\n",
       "      <td>First</td>\n",
       "      <td>20.77</td>\n",
       "      <td>1248.0</td>\n",
       "      <td>88.76</td>\n",
       "      <td>7.0</td>\n",
       "      <td>6.00</td>\n",
       "      <td>7.0</td>\n",
       "      <td>11</td>\n",
       "    </tr>\n",
       "    <tr>\n",
       "      <th>4</th>\n",
       "      <td>15.0</td>\n",
       "      <td>40670</td>\n",
       "      <td>Diesel</td>\n",
       "      <td>Automatic</td>\n",
       "      <td>Second</td>\n",
       "      <td>15.20</td>\n",
       "      <td>1968.0</td>\n",
       "      <td>140.80</td>\n",
       "      <td>5.0</td>\n",
       "      <td>17.74</td>\n",
       "      <td>18.0</td>\n",
       "      <td>10</td>\n",
       "    </tr>\n",
       "  </tbody>\n",
       "</table>\n",
       "</div>"
      ],
      "text/plain": [
       "   Location  Kilometers_Driven Fuel_Type Transmission Owner_Type  Mileage  \\\n",
       "0       9.0              72000       CNG       Manual      First    26.60   \n",
       "1       7.0              41000    Diesel       Manual      First    19.67   \n",
       "2       8.0              46000    Petrol       Manual      First    18.20   \n",
       "3       8.0              87000    Diesel       Manual      First    20.77   \n",
       "4      15.0              40670    Diesel    Automatic     Second    15.20   \n",
       "\n",
       "   Engine   Power  Seats  Price  Car_Make  car_age  \n",
       "0   998.0   58.16    5.0   1.75       3.0       13  \n",
       "1  1582.0  126.20    5.0  12.50      12.0        8  \n",
       "2  1199.0   88.70    5.0   4.50       6.0       12  \n",
       "3  1248.0   88.76    7.0   6.00       7.0       11  \n",
       "4  1968.0  140.80    5.0  17.74      18.0       10  "
      ]
     },
     "execution_count": 43,
     "metadata": {},
     "output_type": "execute_result"
    }
   ],
   "source": [
    "df1.head()"
   ]
  },
  {
   "cell_type": "code",
   "execution_count": 44,
   "id": "b0e21f13",
   "metadata": {},
   "outputs": [
    {
     "data": {
      "text/plain": [
       "Fuel_Type\n",
       "CNG          4.0\n",
       "Diesel      13.0\n",
       "Electric    13.0\n",
       "LPG          2.0\n",
       "Petrol       6.0\n",
       "Name: Price, dtype: float64"
      ]
     },
     "execution_count": 44,
     "metadata": {},
     "output_type": "execute_result"
    }
   ],
   "source": [
    "Fuel_Type_Mean = df1.groupby('Fuel_Type').Price.agg('mean')\n",
    "Fuel_Type_Mean = round(Fuel_Type_Mean)\n",
    "Fuel_Type_Mean.head(50)\n",
    "Fuel_Type_Mean"
   ]
  },
  {
   "cell_type": "markdown",
   "id": "c0bf6b45",
   "metadata": {},
   "source": [
    "#### We can observe that Diesel and Electric has got highest rank. Lpg has got lowest rank."
   ]
  },
  {
   "cell_type": "code",
   "execution_count": 45,
   "id": "7f5e5620",
   "metadata": {},
   "outputs": [],
   "source": [
    "Fuel_Type_Mean_1=Fuel_Type_Mean.to_dict()"
   ]
  },
  {
   "cell_type": "code",
   "execution_count": 46,
   "id": "cdccb8e2",
   "metadata": {},
   "outputs": [],
   "source": [
    "df1=df1.replace({\"Fuel_Type\": Fuel_Type_Mean_1})"
   ]
  },
  {
   "cell_type": "code",
   "execution_count": 47,
   "id": "4d6b906d",
   "metadata": {},
   "outputs": [
    {
     "data": {
      "text/html": [
       "<div>\n",
       "<style scoped>\n",
       "    .dataframe tbody tr th:only-of-type {\n",
       "        vertical-align: middle;\n",
       "    }\n",
       "\n",
       "    .dataframe tbody tr th {\n",
       "        vertical-align: top;\n",
       "    }\n",
       "\n",
       "    .dataframe thead th {\n",
       "        text-align: right;\n",
       "    }\n",
       "</style>\n",
       "<table border=\"1\" class=\"dataframe\">\n",
       "  <thead>\n",
       "    <tr style=\"text-align: right;\">\n",
       "      <th></th>\n",
       "      <th>Location</th>\n",
       "      <th>Kilometers_Driven</th>\n",
       "      <th>Fuel_Type</th>\n",
       "      <th>Transmission</th>\n",
       "      <th>Owner_Type</th>\n",
       "      <th>Mileage</th>\n",
       "      <th>Engine</th>\n",
       "      <th>Power</th>\n",
       "      <th>Seats</th>\n",
       "      <th>Price</th>\n",
       "      <th>Car_Make</th>\n",
       "      <th>car_age</th>\n",
       "    </tr>\n",
       "  </thead>\n",
       "  <tbody>\n",
       "    <tr>\n",
       "      <th>0</th>\n",
       "      <td>9.0</td>\n",
       "      <td>72000</td>\n",
       "      <td>4.0</td>\n",
       "      <td>Manual</td>\n",
       "      <td>First</td>\n",
       "      <td>26.60</td>\n",
       "      <td>998.0</td>\n",
       "      <td>58.16</td>\n",
       "      <td>5.0</td>\n",
       "      <td>1.75</td>\n",
       "      <td>3.0</td>\n",
       "      <td>13</td>\n",
       "    </tr>\n",
       "    <tr>\n",
       "      <th>1</th>\n",
       "      <td>7.0</td>\n",
       "      <td>41000</td>\n",
       "      <td>13.0</td>\n",
       "      <td>Manual</td>\n",
       "      <td>First</td>\n",
       "      <td>19.67</td>\n",
       "      <td>1582.0</td>\n",
       "      <td>126.20</td>\n",
       "      <td>5.0</td>\n",
       "      <td>12.50</td>\n",
       "      <td>12.0</td>\n",
       "      <td>8</td>\n",
       "    </tr>\n",
       "    <tr>\n",
       "      <th>2</th>\n",
       "      <td>8.0</td>\n",
       "      <td>46000</td>\n",
       "      <td>6.0</td>\n",
       "      <td>Manual</td>\n",
       "      <td>First</td>\n",
       "      <td>18.20</td>\n",
       "      <td>1199.0</td>\n",
       "      <td>88.70</td>\n",
       "      <td>5.0</td>\n",
       "      <td>4.50</td>\n",
       "      <td>6.0</td>\n",
       "      <td>12</td>\n",
       "    </tr>\n",
       "    <tr>\n",
       "      <th>3</th>\n",
       "      <td>8.0</td>\n",
       "      <td>87000</td>\n",
       "      <td>13.0</td>\n",
       "      <td>Manual</td>\n",
       "      <td>First</td>\n",
       "      <td>20.77</td>\n",
       "      <td>1248.0</td>\n",
       "      <td>88.76</td>\n",
       "      <td>7.0</td>\n",
       "      <td>6.00</td>\n",
       "      <td>7.0</td>\n",
       "      <td>11</td>\n",
       "    </tr>\n",
       "    <tr>\n",
       "      <th>4</th>\n",
       "      <td>15.0</td>\n",
       "      <td>40670</td>\n",
       "      <td>13.0</td>\n",
       "      <td>Automatic</td>\n",
       "      <td>Second</td>\n",
       "      <td>15.20</td>\n",
       "      <td>1968.0</td>\n",
       "      <td>140.80</td>\n",
       "      <td>5.0</td>\n",
       "      <td>17.74</td>\n",
       "      <td>18.0</td>\n",
       "      <td>10</td>\n",
       "    </tr>\n",
       "  </tbody>\n",
       "</table>\n",
       "</div>"
      ],
      "text/plain": [
       "   Location  Kilometers_Driven  Fuel_Type Transmission Owner_Type  Mileage  \\\n",
       "0       9.0              72000        4.0       Manual      First    26.60   \n",
       "1       7.0              41000       13.0       Manual      First    19.67   \n",
       "2       8.0              46000        6.0       Manual      First    18.20   \n",
       "3       8.0              87000       13.0       Manual      First    20.77   \n",
       "4      15.0              40670       13.0    Automatic     Second    15.20   \n",
       "\n",
       "   Engine   Power  Seats  Price  Car_Make  car_age  \n",
       "0   998.0   58.16    5.0   1.75       3.0       13  \n",
       "1  1582.0  126.20    5.0  12.50      12.0        8  \n",
       "2  1199.0   88.70    5.0   4.50       6.0       12  \n",
       "3  1248.0   88.76    7.0   6.00       7.0       11  \n",
       "4  1968.0  140.80    5.0  17.74      18.0       10  "
      ]
     },
     "execution_count": 47,
     "metadata": {},
     "output_type": "execute_result"
    }
   ],
   "source": [
    "df1.head()"
   ]
  },
  {
   "cell_type": "code",
   "execution_count": 48,
   "id": "e3cb9d6a",
   "metadata": {},
   "outputs": [
    {
     "data": {
      "text/plain": [
       "Transmission\n",
       "Automatic    20.0\n",
       "Manual        5.0\n",
       "Name: Price, dtype: float64"
      ]
     },
     "execution_count": 48,
     "metadata": {},
     "output_type": "execute_result"
    }
   ],
   "source": [
    "Transmission_Mean = df1.groupby('Transmission').Price.agg('mean')\n",
    "Transmission_Mean = round(Transmission_Mean)\n",
    "Transmission_Mean.head(50)\n",
    "Transmission_Mean"
   ]
  },
  {
   "cell_type": "markdown",
   "id": "94371005",
   "metadata": {},
   "source": [
    "#### We can observe that Automatic has got better rank than manual."
   ]
  },
  {
   "cell_type": "code",
   "execution_count": 49,
   "id": "944b6040",
   "metadata": {},
   "outputs": [],
   "source": [
    "Transmission_Mean_1=Transmission_Mean.to_dict()"
   ]
  },
  {
   "cell_type": "code",
   "execution_count": 50,
   "id": "75f663b3",
   "metadata": {},
   "outputs": [],
   "source": [
    "df1=df1.replace({\"Transmission\": Transmission_Mean_1})"
   ]
  },
  {
   "cell_type": "code",
   "execution_count": 51,
   "id": "70732750",
   "metadata": {},
   "outputs": [
    {
     "data": {
      "text/html": [
       "<div>\n",
       "<style scoped>\n",
       "    .dataframe tbody tr th:only-of-type {\n",
       "        vertical-align: middle;\n",
       "    }\n",
       "\n",
       "    .dataframe tbody tr th {\n",
       "        vertical-align: top;\n",
       "    }\n",
       "\n",
       "    .dataframe thead th {\n",
       "        text-align: right;\n",
       "    }\n",
       "</style>\n",
       "<table border=\"1\" class=\"dataframe\">\n",
       "  <thead>\n",
       "    <tr style=\"text-align: right;\">\n",
       "      <th></th>\n",
       "      <th>Location</th>\n",
       "      <th>Kilometers_Driven</th>\n",
       "      <th>Fuel_Type</th>\n",
       "      <th>Transmission</th>\n",
       "      <th>Owner_Type</th>\n",
       "      <th>Mileage</th>\n",
       "      <th>Engine</th>\n",
       "      <th>Power</th>\n",
       "      <th>Seats</th>\n",
       "      <th>Price</th>\n",
       "      <th>Car_Make</th>\n",
       "      <th>car_age</th>\n",
       "    </tr>\n",
       "  </thead>\n",
       "  <tbody>\n",
       "    <tr>\n",
       "      <th>0</th>\n",
       "      <td>9.0</td>\n",
       "      <td>72000</td>\n",
       "      <td>4.0</td>\n",
       "      <td>5.0</td>\n",
       "      <td>First</td>\n",
       "      <td>26.60</td>\n",
       "      <td>998.0</td>\n",
       "      <td>58.16</td>\n",
       "      <td>5.0</td>\n",
       "      <td>1.75</td>\n",
       "      <td>3.0</td>\n",
       "      <td>13</td>\n",
       "    </tr>\n",
       "    <tr>\n",
       "      <th>1</th>\n",
       "      <td>7.0</td>\n",
       "      <td>41000</td>\n",
       "      <td>13.0</td>\n",
       "      <td>5.0</td>\n",
       "      <td>First</td>\n",
       "      <td>19.67</td>\n",
       "      <td>1582.0</td>\n",
       "      <td>126.20</td>\n",
       "      <td>5.0</td>\n",
       "      <td>12.50</td>\n",
       "      <td>12.0</td>\n",
       "      <td>8</td>\n",
       "    </tr>\n",
       "    <tr>\n",
       "      <th>2</th>\n",
       "      <td>8.0</td>\n",
       "      <td>46000</td>\n",
       "      <td>6.0</td>\n",
       "      <td>5.0</td>\n",
       "      <td>First</td>\n",
       "      <td>18.20</td>\n",
       "      <td>1199.0</td>\n",
       "      <td>88.70</td>\n",
       "      <td>5.0</td>\n",
       "      <td>4.50</td>\n",
       "      <td>6.0</td>\n",
       "      <td>12</td>\n",
       "    </tr>\n",
       "    <tr>\n",
       "      <th>3</th>\n",
       "      <td>8.0</td>\n",
       "      <td>87000</td>\n",
       "      <td>13.0</td>\n",
       "      <td>5.0</td>\n",
       "      <td>First</td>\n",
       "      <td>20.77</td>\n",
       "      <td>1248.0</td>\n",
       "      <td>88.76</td>\n",
       "      <td>7.0</td>\n",
       "      <td>6.00</td>\n",
       "      <td>7.0</td>\n",
       "      <td>11</td>\n",
       "    </tr>\n",
       "    <tr>\n",
       "      <th>4</th>\n",
       "      <td>15.0</td>\n",
       "      <td>40670</td>\n",
       "      <td>13.0</td>\n",
       "      <td>20.0</td>\n",
       "      <td>Second</td>\n",
       "      <td>15.20</td>\n",
       "      <td>1968.0</td>\n",
       "      <td>140.80</td>\n",
       "      <td>5.0</td>\n",
       "      <td>17.74</td>\n",
       "      <td>18.0</td>\n",
       "      <td>10</td>\n",
       "    </tr>\n",
       "  </tbody>\n",
       "</table>\n",
       "</div>"
      ],
      "text/plain": [
       "   Location  Kilometers_Driven  Fuel_Type  Transmission Owner_Type  Mileage  \\\n",
       "0       9.0              72000        4.0           5.0      First    26.60   \n",
       "1       7.0              41000       13.0           5.0      First    19.67   \n",
       "2       8.0              46000        6.0           5.0      First    18.20   \n",
       "3       8.0              87000       13.0           5.0      First    20.77   \n",
       "4      15.0              40670       13.0          20.0     Second    15.20   \n",
       "\n",
       "   Engine   Power  Seats  Price  Car_Make  car_age  \n",
       "0   998.0   58.16    5.0   1.75       3.0       13  \n",
       "1  1582.0  126.20    5.0  12.50      12.0        8  \n",
       "2  1199.0   88.70    5.0   4.50       6.0       12  \n",
       "3  1248.0   88.76    7.0   6.00       7.0       11  \n",
       "4  1968.0  140.80    5.0  17.74      18.0       10  "
      ]
     },
     "execution_count": 51,
     "metadata": {},
     "output_type": "execute_result"
    }
   ],
   "source": [
    "df1.head()"
   ]
  },
  {
   "cell_type": "code",
   "execution_count": 52,
   "id": "984f0c9f",
   "metadata": {},
   "outputs": [
    {
     "data": {
      "text/plain": [
       "Owner_Type\n",
       "First             10.0\n",
       "Fourth & Above     3.0\n",
       "Second             8.0\n",
       "Third              5.0\n",
       "Name: Price, dtype: float64"
      ]
     },
     "execution_count": 52,
     "metadata": {},
     "output_type": "execute_result"
    }
   ],
   "source": [
    "Owner_Type_mean = df1.groupby('Owner_Type').Price.agg('mean')\n",
    "Owner_Type_mean = round(Owner_Type_mean)\n",
    "Owner_Type_mean.head(50)\n",
    "Owner_Type_mean"
   ]
  },
  {
   "cell_type": "markdown",
   "id": "f51f45b5",
   "metadata": {},
   "source": [
    "#### We can observe that First owner has got highest rank. Fourth and above has got lowest rank."
   ]
  },
  {
   "cell_type": "code",
   "execution_count": 53,
   "id": "f2b07ae7",
   "metadata": {},
   "outputs": [],
   "source": [
    "Owner_Type_mean_1=Owner_Type_mean.to_dict()"
   ]
  },
  {
   "cell_type": "code",
   "execution_count": 54,
   "id": "c9d488e5",
   "metadata": {},
   "outputs": [],
   "source": [
    "df1=df1.replace({\"Owner_Type\": Owner_Type_mean_1})"
   ]
  },
  {
   "cell_type": "code",
   "execution_count": 55,
   "id": "d580e641",
   "metadata": {},
   "outputs": [
    {
     "data": {
      "text/html": [
       "<div>\n",
       "<style scoped>\n",
       "    .dataframe tbody tr th:only-of-type {\n",
       "        vertical-align: middle;\n",
       "    }\n",
       "\n",
       "    .dataframe tbody tr th {\n",
       "        vertical-align: top;\n",
       "    }\n",
       "\n",
       "    .dataframe thead th {\n",
       "        text-align: right;\n",
       "    }\n",
       "</style>\n",
       "<table border=\"1\" class=\"dataframe\">\n",
       "  <thead>\n",
       "    <tr style=\"text-align: right;\">\n",
       "      <th></th>\n",
       "      <th>Location</th>\n",
       "      <th>Kilometers_Driven</th>\n",
       "      <th>Fuel_Type</th>\n",
       "      <th>Transmission</th>\n",
       "      <th>Owner_Type</th>\n",
       "      <th>Mileage</th>\n",
       "      <th>Engine</th>\n",
       "      <th>Power</th>\n",
       "      <th>Seats</th>\n",
       "      <th>Price</th>\n",
       "      <th>Car_Make</th>\n",
       "      <th>car_age</th>\n",
       "    </tr>\n",
       "  </thead>\n",
       "  <tbody>\n",
       "    <tr>\n",
       "      <th>0</th>\n",
       "      <td>9.0</td>\n",
       "      <td>72000</td>\n",
       "      <td>4.0</td>\n",
       "      <td>5.0</td>\n",
       "      <td>10.0</td>\n",
       "      <td>26.60</td>\n",
       "      <td>998.0</td>\n",
       "      <td>58.16</td>\n",
       "      <td>5.0</td>\n",
       "      <td>1.75</td>\n",
       "      <td>3.0</td>\n",
       "      <td>13</td>\n",
       "    </tr>\n",
       "    <tr>\n",
       "      <th>1</th>\n",
       "      <td>7.0</td>\n",
       "      <td>41000</td>\n",
       "      <td>13.0</td>\n",
       "      <td>5.0</td>\n",
       "      <td>10.0</td>\n",
       "      <td>19.67</td>\n",
       "      <td>1582.0</td>\n",
       "      <td>126.20</td>\n",
       "      <td>5.0</td>\n",
       "      <td>12.50</td>\n",
       "      <td>12.0</td>\n",
       "      <td>8</td>\n",
       "    </tr>\n",
       "    <tr>\n",
       "      <th>2</th>\n",
       "      <td>8.0</td>\n",
       "      <td>46000</td>\n",
       "      <td>6.0</td>\n",
       "      <td>5.0</td>\n",
       "      <td>10.0</td>\n",
       "      <td>18.20</td>\n",
       "      <td>1199.0</td>\n",
       "      <td>88.70</td>\n",
       "      <td>5.0</td>\n",
       "      <td>4.50</td>\n",
       "      <td>6.0</td>\n",
       "      <td>12</td>\n",
       "    </tr>\n",
       "    <tr>\n",
       "      <th>3</th>\n",
       "      <td>8.0</td>\n",
       "      <td>87000</td>\n",
       "      <td>13.0</td>\n",
       "      <td>5.0</td>\n",
       "      <td>10.0</td>\n",
       "      <td>20.77</td>\n",
       "      <td>1248.0</td>\n",
       "      <td>88.76</td>\n",
       "      <td>7.0</td>\n",
       "      <td>6.00</td>\n",
       "      <td>7.0</td>\n",
       "      <td>11</td>\n",
       "    </tr>\n",
       "    <tr>\n",
       "      <th>4</th>\n",
       "      <td>15.0</td>\n",
       "      <td>40670</td>\n",
       "      <td>13.0</td>\n",
       "      <td>20.0</td>\n",
       "      <td>8.0</td>\n",
       "      <td>15.20</td>\n",
       "      <td>1968.0</td>\n",
       "      <td>140.80</td>\n",
       "      <td>5.0</td>\n",
       "      <td>17.74</td>\n",
       "      <td>18.0</td>\n",
       "      <td>10</td>\n",
       "    </tr>\n",
       "  </tbody>\n",
       "</table>\n",
       "</div>"
      ],
      "text/plain": [
       "   Location  Kilometers_Driven  Fuel_Type  Transmission  Owner_Type  Mileage  \\\n",
       "0       9.0              72000        4.0           5.0        10.0    26.60   \n",
       "1       7.0              41000       13.0           5.0        10.0    19.67   \n",
       "2       8.0              46000        6.0           5.0        10.0    18.20   \n",
       "3       8.0              87000       13.0           5.0        10.0    20.77   \n",
       "4      15.0              40670       13.0          20.0         8.0    15.20   \n",
       "\n",
       "   Engine   Power  Seats  Price  Car_Make  car_age  \n",
       "0   998.0   58.16    5.0   1.75       3.0       13  \n",
       "1  1582.0  126.20    5.0  12.50      12.0        8  \n",
       "2  1199.0   88.70    5.0   4.50       6.0       12  \n",
       "3  1248.0   88.76    7.0   6.00       7.0       11  \n",
       "4  1968.0  140.80    5.0  17.74      18.0       10  "
      ]
     },
     "execution_count": 55,
     "metadata": {},
     "output_type": "execute_result"
    }
   ],
   "source": [
    "df1.head()"
   ]
  },
  {
   "cell_type": "code",
   "execution_count": 56,
   "id": "75fad71f",
   "metadata": {},
   "outputs": [
    {
     "data": {
      "text/plain": [
       "False    6017\n",
       "True        2\n",
       "dtype: int64"
      ]
     },
     "execution_count": 56,
     "metadata": {},
     "output_type": "execute_result"
    }
   ],
   "source": [
    "df1.duplicated().value_counts()"
   ]
  },
  {
   "cell_type": "code",
   "execution_count": 57,
   "id": "c2006035",
   "metadata": {},
   "outputs": [
    {
     "data": {
      "text/plain": [
       "3.3352319876668415"
      ]
     },
     "execution_count": 57,
     "metadata": {},
     "output_type": "execute_result"
    }
   ],
   "source": [
    "df1['Price'].skew()"
   ]
  },
  {
   "cell_type": "markdown",
   "id": "9e921e09",
   "metadata": {},
   "source": [
    "##### The Traget Variable 'Price' has skewness"
   ]
  },
  {
   "cell_type": "markdown",
   "id": "45b0bdb7",
   "metadata": {},
   "source": [
    "### Distribution Plot of the Target"
   ]
  },
  {
   "cell_type": "code",
   "execution_count": 58,
   "id": "563fd73e",
   "metadata": {},
   "outputs": [
    {
     "name": "stderr",
     "output_type": "stream",
     "text": [
      "C:\\Users\\ramit\\AppData\\Local\\Temp\\ipykernel_21968\\426642906.py:3: UserWarning: \n",
      "\n",
      "`distplot` is a deprecated function and will be removed in seaborn v0.14.0.\n",
      "\n",
      "Please adapt your code to use either `displot` (a figure-level function with\n",
      "similar flexibility) or `histplot` (an axes-level function for histograms).\n",
      "\n",
      "For a guide to updating your code to use the new functions, please see\n",
      "https://gist.github.com/mwaskom/de44147ed2974457ad6372750bbe5751\n",
      "\n",
      "  sns.distplot(df1['Price'])\n"
     ]
    },
    {
     "data": {
      "image/png": "[encoded data removed]",
      "text/plain": [
       "<Figure size 1200x600 with 1 Axes>"
      ]
     },
     "metadata": {},
     "output_type": "display_data"
    }
   ],
   "source": [
    "plt.subplots(figsize = (12, 6))\n",
    "plt.title('Distribution of target')\n",
    "sns.distplot(df1['Price'])\n",
    "plt.show()"
   ]
  },
  {
   "cell_type": "markdown",
   "id": "eb69e85b",
   "metadata": {},
   "source": [
    "#### We are doing boxcox transformation of the Target Variable, to reduce the skewness"
   ]
  },
  {
   "cell_type": "code",
   "execution_count": 59,
   "id": "c53e6a91",
   "metadata": {},
   "outputs": [],
   "source": [
    "df1['Price'] = ss.boxcox(df1['Price'])[0]"
   ]
  },
  {
   "cell_type": "code",
   "execution_count": 60,
   "id": "bf2be51a",
   "metadata": {},
   "outputs": [
    {
     "data": {
      "text/plain": [
       "-0.004812698339470734"
      ]
     },
     "execution_count": 60,
     "metadata": {},
     "output_type": "execute_result"
    }
   ],
   "source": [
    "df1['Price'].skew()"
   ]
  },
  {
   "cell_type": "markdown",
   "id": "1989f186",
   "metadata": {},
   "source": [
    "### We can see, skewness has been reduced significanltly."
   ]
  },
  {
   "cell_type": "markdown",
   "id": "9b84df4b",
   "metadata": {},
   "source": [
    "#### Distribution Plot of the Target after box-cox transformation :"
   ]
  },
  {
   "cell_type": "code",
   "execution_count": 61,
   "id": "03592112",
   "metadata": {},
   "outputs": [
    {
     "name": "stderr",
     "output_type": "stream",
     "text": [
      "C:\\Users\\ramit\\AppData\\Local\\Temp\\ipykernel_21968\\3463278149.py:3: UserWarning: \n",
      "\n",
      "`distplot` is a deprecated function and will be removed in seaborn v0.14.0.\n",
      "\n",
      "Please adapt your code to use either `displot` (a figure-level function with\n",
      "similar flexibility) or `histplot` (an axes-level function for histograms).\n",
      "\n",
      "For a guide to updating your code to use the new functions, please see\n",
      "https://gist.github.com/mwaskom/de44147ed2974457ad6372750bbe5751\n",
      "\n",
      "  sns.distplot(df1['Price'])\n"
     ]
    },
    {
     "data": {
      "image/png": "[encoded data removed]",
      "text/plain": [
       "<Figure size 1200x600 with 1 Axes>"
      ]
     },
     "metadata": {},
     "output_type": "display_data"
    }
   ],
   "source": [
    "plt.subplots(figsize = (12, 6))\n",
    "plt.title('Distribution of target after transformation')\n",
    "sns.distplot(df1['Price'])\n",
    "plt.show()"
   ]
  },
  {
   "cell_type": "code",
   "execution_count": 62,
   "id": "de3b06f8",
   "metadata": {},
   "outputs": [
    {
     "data": {
      "text/html": [
       "<div>\n",
       "<style scoped>\n",
       "    .dataframe tbody tr th:only-of-type {\n",
       "        vertical-align: middle;\n",
       "    }\n",
       "\n",
       "    .dataframe tbody tr th {\n",
       "        vertical-align: top;\n",
       "    }\n",
       "\n",
       "    .dataframe thead th {\n",
       "        text-align: right;\n",
       "    }\n",
       "</style>\n",
       "<table border=\"1\" class=\"dataframe\">\n",
       "  <thead>\n",
       "    <tr style=\"text-align: right;\">\n",
       "      <th></th>\n",
       "      <th>Location</th>\n",
       "      <th>Kilometers_Driven</th>\n",
       "      <th>Fuel_Type</th>\n",
       "      <th>Transmission</th>\n",
       "      <th>Owner_Type</th>\n",
       "      <th>Mileage</th>\n",
       "      <th>Engine</th>\n",
       "      <th>Power</th>\n",
       "      <th>Seats</th>\n",
       "      <th>Price</th>\n",
       "      <th>Car_Make</th>\n",
       "      <th>car_age</th>\n",
       "    </tr>\n",
       "  </thead>\n",
       "  <tbody>\n",
       "    <tr>\n",
       "      <th>0</th>\n",
       "      <td>9.0</td>\n",
       "      <td>72000</td>\n",
       "      <td>4.0</td>\n",
       "      <td>5.0</td>\n",
       "      <td>10.0</td>\n",
       "      <td>26.60</td>\n",
       "      <td>998.0</td>\n",
       "      <td>58.16</td>\n",
       "      <td>5.0</td>\n",
       "      <td>0.535809</td>\n",
       "      <td>3.0</td>\n",
       "      <td>13</td>\n",
       "    </tr>\n",
       "    <tr>\n",
       "      <th>1</th>\n",
       "      <td>7.0</td>\n",
       "      <td>41000</td>\n",
       "      <td>13.0</td>\n",
       "      <td>5.0</td>\n",
       "      <td>10.0</td>\n",
       "      <td>19.67</td>\n",
       "      <td>1582.0</td>\n",
       "      <td>126.20</td>\n",
       "      <td>5.0</td>\n",
       "      <td>2.086280</td>\n",
       "      <td>12.0</td>\n",
       "      <td>8</td>\n",
       "    </tr>\n",
       "    <tr>\n",
       "      <th>2</th>\n",
       "      <td>8.0</td>\n",
       "      <td>46000</td>\n",
       "      <td>6.0</td>\n",
       "      <td>5.0</td>\n",
       "      <td>10.0</td>\n",
       "      <td>18.20</td>\n",
       "      <td>1199.0</td>\n",
       "      <td>88.70</td>\n",
       "      <td>5.0</td>\n",
       "      <td>1.340157</td>\n",
       "      <td>6.0</td>\n",
       "      <td>12</td>\n",
       "    </tr>\n",
       "    <tr>\n",
       "      <th>3</th>\n",
       "      <td>8.0</td>\n",
       "      <td>87000</td>\n",
       "      <td>13.0</td>\n",
       "      <td>5.0</td>\n",
       "      <td>10.0</td>\n",
       "      <td>20.77</td>\n",
       "      <td>1248.0</td>\n",
       "      <td>88.76</td>\n",
       "      <td>7.0</td>\n",
       "      <td>1.562457</td>\n",
       "      <td>7.0</td>\n",
       "      <td>11</td>\n",
       "    </tr>\n",
       "    <tr>\n",
       "      <th>4</th>\n",
       "      <td>15.0</td>\n",
       "      <td>40670</td>\n",
       "      <td>13.0</td>\n",
       "      <td>20.0</td>\n",
       "      <td>8.0</td>\n",
       "      <td>15.20</td>\n",
       "      <td>1968.0</td>\n",
       "      <td>140.80</td>\n",
       "      <td>5.0</td>\n",
       "      <td>2.315717</td>\n",
       "      <td>18.0</td>\n",
       "      <td>10</td>\n",
       "    </tr>\n",
       "  </tbody>\n",
       "</table>\n",
       "</div>"
      ],
      "text/plain": [
       "   Location  Kilometers_Driven  Fuel_Type  Transmission  Owner_Type  Mileage  \\\n",
       "0       9.0              72000        4.0           5.0        10.0    26.60   \n",
       "1       7.0              41000       13.0           5.0        10.0    19.67   \n",
       "2       8.0              46000        6.0           5.0        10.0    18.20   \n",
       "3       8.0              87000       13.0           5.0        10.0    20.77   \n",
       "4      15.0              40670       13.0          20.0         8.0    15.20   \n",
       "\n",
       "   Engine   Power  Seats     Price  Car_Make  car_age  \n",
       "0   998.0   58.16    5.0  0.535809       3.0       13  \n",
       "1  1582.0  126.20    5.0  2.086280      12.0        8  \n",
       "2  1199.0   88.70    5.0  1.340157       6.0       12  \n",
       "3  1248.0   88.76    7.0  1.562457       7.0       11  \n",
       "4  1968.0  140.80    5.0  2.315717      18.0       10  "
      ]
     },
     "execution_count": 62,
     "metadata": {},
     "output_type": "execute_result"
    }
   ],
   "source": [
    "df1.head()"
   ]
  },
  {
   "cell_type": "code",
   "execution_count": 63,
   "id": "6a653c2b",
   "metadata": {},
   "outputs": [
    {
     "data": {
      "text/plain": [
       "Location               0\n",
       "Kilometers_Driven      0\n",
       "Fuel_Type              0\n",
       "Transmission           0\n",
       "Owner_Type             0\n",
       "Mileage                2\n",
       "Engine                36\n",
       "Power                143\n",
       "Seats                 42\n",
       "Price                  0\n",
       "Car_Make               0\n",
       "car_age                0\n",
       "dtype: int64"
      ]
     },
     "execution_count": 63,
     "metadata": {},
     "output_type": "execute_result"
    }
   ],
   "source": [
    "df1.isnull().sum()"
   ]
  },
  {
   "cell_type": "markdown",
   "id": "c648b979",
   "metadata": {},
   "source": [
    "#### We are imputing the Mileage,Engine,Power and Seats with KNNimputation."
   ]
  },
  {
   "cell_type": "code",
   "execution_count": 64,
   "id": "c8a469fe",
   "metadata": {},
   "outputs": [
    {
     "data": {
      "text/plain": [
       "array([[  26.6 ,  998.  ,   58.16,    5.  ],\n",
       "       [  19.67, 1582.  ,  126.2 ,    5.  ],\n",
       "       [  18.2 , 1199.  ,   88.7 ,    5.  ],\n",
       "       ...,\n",
       "       [  14.  , 2498.  ,  112.  ,    8.  ],\n",
       "       [  18.9 ,  998.  ,   67.1 ,    5.  ],\n",
       "       [  25.44,  936.  ,   57.6 ,    5.  ]])"
      ]
     },
     "execution_count": 64,
     "metadata": {},
     "output_type": "execute_result"
    }
   ],
   "source": [
    "imputer=KNNImputer(n_neighbors=3)\n",
    "df_i=imputer.fit_transform(df1[['Mileage','Engine','Power','Seats']])\n",
    "df_i"
   ]
  },
  {
   "cell_type": "markdown",
   "id": "35d04bfa",
   "metadata": {},
   "source": [
    "#### We are creating Imputed DataFrame with Mileage,Engine,Power and Seats Column"
   ]
  },
  {
   "cell_type": "code",
   "execution_count": 65,
   "id": "cf24b466",
   "metadata": {},
   "outputs": [
    {
     "data": {
      "text/html": [
       "<div>\n",
       "<style scoped>\n",
       "    .dataframe tbody tr th:only-of-type {\n",
       "        vertical-align: middle;\n",
       "    }\n",
       "\n",
       "    .dataframe tbody tr th {\n",
       "        vertical-align: top;\n",
       "    }\n",
       "\n",
       "    .dataframe thead th {\n",
       "        text-align: right;\n",
       "    }\n",
       "</style>\n",
       "<table border=\"1\" class=\"dataframe\">\n",
       "  <thead>\n",
       "    <tr style=\"text-align: right;\">\n",
       "      <th></th>\n",
       "      <th>Mileage</th>\n",
       "      <th>Engine</th>\n",
       "      <th>Power</th>\n",
       "      <th>Seats</th>\n",
       "    </tr>\n",
       "  </thead>\n",
       "  <tbody>\n",
       "    <tr>\n",
       "      <th>0</th>\n",
       "      <td>26.60</td>\n",
       "      <td>998.0</td>\n",
       "      <td>58.16</td>\n",
       "      <td>5.0</td>\n",
       "    </tr>\n",
       "    <tr>\n",
       "      <th>1</th>\n",
       "      <td>19.67</td>\n",
       "      <td>1582.0</td>\n",
       "      <td>126.20</td>\n",
       "      <td>5.0</td>\n",
       "    </tr>\n",
       "    <tr>\n",
       "      <th>2</th>\n",
       "      <td>18.20</td>\n",
       "      <td>1199.0</td>\n",
       "      <td>88.70</td>\n",
       "      <td>5.0</td>\n",
       "    </tr>\n",
       "    <tr>\n",
       "      <th>3</th>\n",
       "      <td>20.77</td>\n",
       "      <td>1248.0</td>\n",
       "      <td>88.76</td>\n",
       "      <td>7.0</td>\n",
       "    </tr>\n",
       "    <tr>\n",
       "      <th>4</th>\n",
       "      <td>15.20</td>\n",
       "      <td>1968.0</td>\n",
       "      <td>140.80</td>\n",
       "      <td>5.0</td>\n",
       "    </tr>\n",
       "    <tr>\n",
       "      <th>...</th>\n",
       "      <td>...</td>\n",
       "      <td>...</td>\n",
       "      <td>...</td>\n",
       "      <td>...</td>\n",
       "    </tr>\n",
       "    <tr>\n",
       "      <th>6014</th>\n",
       "      <td>28.40</td>\n",
       "      <td>1248.0</td>\n",
       "      <td>74.00</td>\n",
       "      <td>5.0</td>\n",
       "    </tr>\n",
       "    <tr>\n",
       "      <th>6015</th>\n",
       "      <td>24.40</td>\n",
       "      <td>1120.0</td>\n",
       "      <td>71.00</td>\n",
       "      <td>5.0</td>\n",
       "    </tr>\n",
       "    <tr>\n",
       "      <th>6016</th>\n",
       "      <td>14.00</td>\n",
       "      <td>2498.0</td>\n",
       "      <td>112.00</td>\n",
       "      <td>8.0</td>\n",
       "    </tr>\n",
       "    <tr>\n",
       "      <th>6017</th>\n",
       "      <td>18.90</td>\n",
       "      <td>998.0</td>\n",
       "      <td>67.10</td>\n",
       "      <td>5.0</td>\n",
       "    </tr>\n",
       "    <tr>\n",
       "      <th>6018</th>\n",
       "      <td>25.44</td>\n",
       "      <td>936.0</td>\n",
       "      <td>57.60</td>\n",
       "      <td>5.0</td>\n",
       "    </tr>\n",
       "  </tbody>\n",
       "</table>\n",
       "<p>6019 rows × 4 columns</p>\n",
       "</div>"
      ],
      "text/plain": [
       "      Mileage  Engine   Power  Seats\n",
       "0       26.60   998.0   58.16    5.0\n",
       "1       19.67  1582.0  126.20    5.0\n",
       "2       18.20  1199.0   88.70    5.0\n",
       "3       20.77  1248.0   88.76    7.0\n",
       "4       15.20  1968.0  140.80    5.0\n",
       "...       ...     ...     ...    ...\n",
       "6014    28.40  1248.0   74.00    5.0\n",
       "6015    24.40  1120.0   71.00    5.0\n",
       "6016    14.00  2498.0  112.00    8.0\n",
       "6017    18.90   998.0   67.10    5.0\n",
       "6018    25.44   936.0   57.60    5.0\n",
       "\n",
       "[6019 rows x 4 columns]"
      ]
     },
     "execution_count": 65,
     "metadata": {},
     "output_type": "execute_result"
    }
   ],
   "source": [
    "df_imp=pd.DataFrame(df_i,columns=['Mileage','Engine','Power','Seats'])\n",
    "df_imp"
   ]
  },
  {
   "cell_type": "code",
   "execution_count": 66,
   "id": "948cb5ca",
   "metadata": {},
   "outputs": [
    {
     "data": {
      "text/plain": [
       "Mileage    0\n",
       "Engine     0\n",
       "Power      0\n",
       "Seats      0\n",
       "dtype: int64"
      ]
     },
     "execution_count": 66,
     "metadata": {},
     "output_type": "execute_result"
    }
   ],
   "source": [
    "df_imp.isnull().sum()"
   ]
  },
  {
   "cell_type": "markdown",
   "id": "de6cc28e",
   "metadata": {},
   "source": [
    "##### We can observe that there are no missing value present in the Imputed DataFrame after imputation"
   ]
  },
  {
   "cell_type": "code",
   "execution_count": 67,
   "id": "0190f5f1",
   "metadata": {},
   "outputs": [],
   "source": [
    "df1 = df1.drop([\"Mileage\",\"Engine\",\"Power\",\"Seats\"],axis='columns')"
   ]
  },
  {
   "cell_type": "code",
   "execution_count": 68,
   "id": "bcc6fed7",
   "metadata": {},
   "outputs": [],
   "source": [
    "df5 = pd.concat([df_imp,df1],axis=1)"
   ]
  },
  {
   "cell_type": "code",
   "execution_count": 69,
   "id": "18157509",
   "metadata": {},
   "outputs": [
    {
     "data": {
      "text/html": [
       "<div>\n",
       "<style scoped>\n",
       "    .dataframe tbody tr th:only-of-type {\n",
       "        vertical-align: middle;\n",
       "    }\n",
       "\n",
       "    .dataframe tbody tr th {\n",
       "        vertical-align: top;\n",
       "    }\n",
       "\n",
       "    .dataframe thead th {\n",
       "        text-align: right;\n",
       "    }\n",
       "</style>\n",
       "<table border=\"1\" class=\"dataframe\">\n",
       "  <thead>\n",
       "    <tr style=\"text-align: right;\">\n",
       "      <th></th>\n",
       "      <th>Mileage</th>\n",
       "      <th>Engine</th>\n",
       "      <th>Power</th>\n",
       "      <th>Seats</th>\n",
       "      <th>Location</th>\n",
       "      <th>Kilometers_Driven</th>\n",
       "      <th>Fuel_Type</th>\n",
       "      <th>Transmission</th>\n",
       "      <th>Owner_Type</th>\n",
       "      <th>Price</th>\n",
       "      <th>Car_Make</th>\n",
       "      <th>car_age</th>\n",
       "    </tr>\n",
       "  </thead>\n",
       "  <tbody>\n",
       "    <tr>\n",
       "      <th>0</th>\n",
       "      <td>26.60</td>\n",
       "      <td>998.0</td>\n",
       "      <td>58.16</td>\n",
       "      <td>5.0</td>\n",
       "      <td>9.0</td>\n",
       "      <td>72000</td>\n",
       "      <td>4.0</td>\n",
       "      <td>5.0</td>\n",
       "      <td>10.0</td>\n",
       "      <td>0.535809</td>\n",
       "      <td>3.0</td>\n",
       "      <td>13</td>\n",
       "    </tr>\n",
       "    <tr>\n",
       "      <th>1</th>\n",
       "      <td>19.67</td>\n",
       "      <td>1582.0</td>\n",
       "      <td>126.20</td>\n",
       "      <td>5.0</td>\n",
       "      <td>7.0</td>\n",
       "      <td>41000</td>\n",
       "      <td>13.0</td>\n",
       "      <td>5.0</td>\n",
       "      <td>10.0</td>\n",
       "      <td>2.086280</td>\n",
       "      <td>12.0</td>\n",
       "      <td>8</td>\n",
       "    </tr>\n",
       "    <tr>\n",
       "      <th>2</th>\n",
       "      <td>18.20</td>\n",
       "      <td>1199.0</td>\n",
       "      <td>88.70</td>\n",
       "      <td>5.0</td>\n",
       "      <td>8.0</td>\n",
       "      <td>46000</td>\n",
       "      <td>6.0</td>\n",
       "      <td>5.0</td>\n",
       "      <td>10.0</td>\n",
       "      <td>1.340157</td>\n",
       "      <td>6.0</td>\n",
       "      <td>12</td>\n",
       "    </tr>\n",
       "    <tr>\n",
       "      <th>3</th>\n",
       "      <td>20.77</td>\n",
       "      <td>1248.0</td>\n",
       "      <td>88.76</td>\n",
       "      <td>7.0</td>\n",
       "      <td>8.0</td>\n",
       "      <td>87000</td>\n",
       "      <td>13.0</td>\n",
       "      <td>5.0</td>\n",
       "      <td>10.0</td>\n",
       "      <td>1.562457</td>\n",
       "      <td>7.0</td>\n",
       "      <td>11</td>\n",
       "    </tr>\n",
       "    <tr>\n",
       "      <th>4</th>\n",
       "      <td>15.20</td>\n",
       "      <td>1968.0</td>\n",
       "      <td>140.80</td>\n",
       "      <td>5.0</td>\n",
       "      <td>15.0</td>\n",
       "      <td>40670</td>\n",
       "      <td>13.0</td>\n",
       "      <td>20.0</td>\n",
       "      <td>8.0</td>\n",
       "      <td>2.315717</td>\n",
       "      <td>18.0</td>\n",
       "      <td>10</td>\n",
       "    </tr>\n",
       "  </tbody>\n",
       "</table>\n",
       "</div>"
      ],
      "text/plain": [
       "   Mileage  Engine   Power  Seats  Location  Kilometers_Driven  Fuel_Type  \\\n",
       "0    26.60   998.0   58.16    5.0       9.0              72000        4.0   \n",
       "1    19.67  1582.0  126.20    5.0       7.0              41000       13.0   \n",
       "2    18.20  1199.0   88.70    5.0       8.0              46000        6.0   \n",
       "3    20.77  1248.0   88.76    7.0       8.0              87000       13.0   \n",
       "4    15.20  1968.0  140.80    5.0      15.0              40670       13.0   \n",
       "\n",
       "   Transmission  Owner_Type     Price  Car_Make  car_age  \n",
       "0           5.0        10.0  0.535809       3.0       13  \n",
       "1           5.0        10.0  2.086280      12.0        8  \n",
       "2           5.0        10.0  1.340157       6.0       12  \n",
       "3           5.0        10.0  1.562457       7.0       11  \n",
       "4          20.0         8.0  2.315717      18.0       10  "
      ]
     },
     "execution_count": 69,
     "metadata": {},
     "output_type": "execute_result"
    }
   ],
   "source": [
    "df5.head()"
   ]
  },
  {
   "cell_type": "code",
   "execution_count": 70,
   "id": "27737328",
   "metadata": {},
   "outputs": [],
   "source": [
    "df6=df5.copy()"
   ]
  },
  {
   "cell_type": "code",
   "execution_count": 71,
   "id": "914c30aa",
   "metadata": {
    "scrolled": true
   },
   "outputs": [
    {
     "data": {
      "text/html": [
       "<div>\n",
       "<style scoped>\n",
       "    .dataframe tbody tr th:only-of-type {\n",
       "        vertical-align: middle;\n",
       "    }\n",
       "\n",
       "    .dataframe tbody tr th {\n",
       "        vertical-align: top;\n",
       "    }\n",
       "\n",
       "    .dataframe thead th {\n",
       "        text-align: right;\n",
       "    }\n",
       "</style>\n",
       "<table border=\"1\" class=\"dataframe\">\n",
       "  <thead>\n",
       "    <tr style=\"text-align: right;\">\n",
       "      <th></th>\n",
       "      <th>Mileage</th>\n",
       "      <th>Engine</th>\n",
       "      <th>Power</th>\n",
       "      <th>Seats</th>\n",
       "      <th>Location</th>\n",
       "      <th>Kilometers_Driven</th>\n",
       "      <th>Fuel_Type</th>\n",
       "      <th>Transmission</th>\n",
       "      <th>Owner_Type</th>\n",
       "      <th>Price</th>\n",
       "      <th>Car_Make</th>\n",
       "      <th>car_age</th>\n",
       "    </tr>\n",
       "  </thead>\n",
       "  <tbody>\n",
       "    <tr>\n",
       "      <th>count</th>\n",
       "      <td>6019.000000</td>\n",
       "      <td>6019.000000</td>\n",
       "      <td>6019.000000</td>\n",
       "      <td>6019.000000</td>\n",
       "      <td>6019.000000</td>\n",
       "      <td>6.019000e+03</td>\n",
       "      <td>6019.000000</td>\n",
       "      <td>6019.000000</td>\n",
       "      <td>6019.000000</td>\n",
       "      <td>6019.000000</td>\n",
       "      <td>6019.000000</td>\n",
       "      <td>6019.000000</td>\n",
       "    </tr>\n",
       "    <tr>\n",
       "      <th>mean</th>\n",
       "      <td>18.135376</td>\n",
       "      <td>1620.908014</td>\n",
       "      <td>112.774210</td>\n",
       "      <td>5.277012</td>\n",
       "      <td>9.505067</td>\n",
       "      <td>5.873838e+04</td>\n",
       "      <td>9.704436</td>\n",
       "      <td>9.286426</td>\n",
       "      <td>9.574016</td>\n",
       "      <td>1.543289</td>\n",
       "      <td>9.485629</td>\n",
       "      <td>9.641801</td>\n",
       "    </tr>\n",
       "    <tr>\n",
       "      <th>std</th>\n",
       "      <td>4.582897</td>\n",
       "      <td>600.555615</td>\n",
       "      <td>53.826086</td>\n",
       "      <td>0.807254</td>\n",
       "      <td>2.664545</td>\n",
       "      <td>9.126884e+04</td>\n",
       "      <td>3.528576</td>\n",
       "      <td>6.777210</td>\n",
       "      <td>1.002305</td>\n",
       "      <td>0.647552</td>\n",
       "      <td>9.745409</td>\n",
       "      <td>3.269742</td>\n",
       "    </tr>\n",
       "    <tr>\n",
       "      <th>min</th>\n",
       "      <td>0.000000</td>\n",
       "      <td>72.000000</td>\n",
       "      <td>34.200000</td>\n",
       "      <td>0.000000</td>\n",
       "      <td>6.000000</td>\n",
       "      <td>1.710000e+02</td>\n",
       "      <td>2.000000</td>\n",
       "      <td>5.000000</td>\n",
       "      <td>3.000000</td>\n",
       "      <td>-0.876058</td>\n",
       "      <td>1.000000</td>\n",
       "      <td>4.000000</td>\n",
       "    </tr>\n",
       "    <tr>\n",
       "      <th>25%</th>\n",
       "      <td>15.170000</td>\n",
       "      <td>1198.000000</td>\n",
       "      <td>74.000000</td>\n",
       "      <td>5.000000</td>\n",
       "      <td>7.000000</td>\n",
       "      <td>3.400000e+04</td>\n",
       "      <td>6.000000</td>\n",
       "      <td>5.000000</td>\n",
       "      <td>10.000000</td>\n",
       "      <td>1.137597</td>\n",
       "      <td>4.000000</td>\n",
       "      <td>7.000000</td>\n",
       "    </tr>\n",
       "    <tr>\n",
       "      <th>50%</th>\n",
       "      <td>18.150000</td>\n",
       "      <td>1493.000000</td>\n",
       "      <td>93.700000</td>\n",
       "      <td>5.000000</td>\n",
       "      <td>9.000000</td>\n",
       "      <td>5.300000e+04</td>\n",
       "      <td>13.000000</td>\n",
       "      <td>5.000000</td>\n",
       "      <td>10.000000</td>\n",
       "      <td>1.515485</td>\n",
       "      <td>6.000000</td>\n",
       "      <td>9.000000</td>\n",
       "    </tr>\n",
       "    <tr>\n",
       "      <th>75%</th>\n",
       "      <td>21.100000</td>\n",
       "      <td>1984.000000</td>\n",
       "      <td>138.100000</td>\n",
       "      <td>5.000000</td>\n",
       "      <td>11.000000</td>\n",
       "      <td>7.300000e+04</td>\n",
       "      <td>13.000000</td>\n",
       "      <td>20.000000</td>\n",
       "      <td>10.000000</td>\n",
       "      <td>1.929845</td>\n",
       "      <td>10.000000</td>\n",
       "      <td>12.000000</td>\n",
       "    </tr>\n",
       "    <tr>\n",
       "      <th>max</th>\n",
       "      <td>33.540000</td>\n",
       "      <td>5998.000000</td>\n",
       "      <td>560.000000</td>\n",
       "      <td>10.000000</td>\n",
       "      <td>15.000000</td>\n",
       "      <td>6.500000e+06</td>\n",
       "      <td>13.000000</td>\n",
       "      <td>20.000000</td>\n",
       "      <td>10.000000</td>\n",
       "      <td>3.502082</td>\n",
       "      <td>120.000000</td>\n",
       "      <td>25.000000</td>\n",
       "    </tr>\n",
       "  </tbody>\n",
       "</table>\n",
       "</div>"
      ],
      "text/plain": [
       "           Mileage       Engine        Power        Seats     Location  \\\n",
       "count  6019.000000  6019.000000  6019.000000  6019.000000  6019.000000   \n",
       "mean     18.135376  1620.908014   112.774210     5.277012     9.505067   \n",
       "std       4.582897   600.555615    53.826086     0.807254     2.664545   \n",
       "min       0.000000    72.000000    34.200000     0.000000     6.000000   \n",
       "25%      15.170000  1198.000000    74.000000     5.000000     7.000000   \n",
       "50%      18.150000  1493.000000    93.700000     5.000000     9.000000   \n",
       "75%      21.100000  1984.000000   138.100000     5.000000    11.000000   \n",
       "max      33.540000  5998.000000   560.000000    10.000000    15.000000   \n",
       "\n",
       "       Kilometers_Driven    Fuel_Type  Transmission   Owner_Type        Price  \\\n",
       "count       6.019000e+03  6019.000000   6019.000000  6019.000000  6019.000000   \n",
       "mean        5.873838e+04     9.704436      9.286426     9.574016     1.543289   \n",
       "std         9.126884e+04     3.528576      6.777210     1.002305     0.647552   \n",
       "min         1.710000e+02     2.000000      5.000000     3.000000    -0.876058   \n",
       "25%         3.400000e+04     6.000000      5.000000    10.000000     1.137597   \n",
       "50%         5.300000e+04    13.000000      5.000000    10.000000     1.515485   \n",
       "75%         7.300000e+04    13.000000     20.000000    10.000000     1.929845   \n",
       "max         6.500000e+06    13.000000     20.000000    10.000000     3.502082   \n",
       "\n",
       "          Car_Make      car_age  \n",
       "count  6019.000000  6019.000000  \n",
       "mean      9.485629     9.641801  \n",
       "std       9.745409     3.269742  \n",
       "min       1.000000     4.000000  \n",
       "25%       4.000000     7.000000  \n",
       "50%       6.000000     9.000000  \n",
       "75%      10.000000    12.000000  \n",
       "max     120.000000    25.000000  "
      ]
     },
     "execution_count": 71,
     "metadata": {},
     "output_type": "execute_result"
    }
   ],
   "source": [
    "df5.describe()"
   ]
  },
  {
   "cell_type": "code",
   "execution_count": 72,
   "id": "ad79f667",
   "metadata": {},
   "outputs": [
    {
     "data": {
      "text/html": [
       "<div>\n",
       "<style scoped>\n",
       "    .dataframe tbody tr th:only-of-type {\n",
       "        vertical-align: middle;\n",
       "    }\n",
       "\n",
       "    .dataframe tbody tr th {\n",
       "        vertical-align: top;\n",
       "    }\n",
       "\n",
       "    .dataframe thead th {\n",
       "        text-align: right;\n",
       "    }\n",
       "</style>\n",
       "<table border=\"1\" class=\"dataframe\">\n",
       "  <thead>\n",
       "    <tr style=\"text-align: right;\">\n",
       "      <th></th>\n",
       "      <th>VIF</th>\n",
       "      <th>variable</th>\n",
       "    </tr>\n",
       "  </thead>\n",
       "  <tbody>\n",
       "    <tr>\n",
       "      <th>0</th>\n",
       "      <td>343.171533</td>\n",
       "      <td>Intercept</td>\n",
       "    </tr>\n",
       "    <tr>\n",
       "      <th>1</th>\n",
       "      <td>1.102717</td>\n",
       "      <td>Location</td>\n",
       "    </tr>\n",
       "    <tr>\n",
       "      <th>2</th>\n",
       "      <td>1.053798</td>\n",
       "      <td>Kilometers_Driven</td>\n",
       "    </tr>\n",
       "    <tr>\n",
       "      <th>3</th>\n",
       "      <td>1.806759</td>\n",
       "      <td>Fuel_Type</td>\n",
       "    </tr>\n",
       "    <tr>\n",
       "      <th>4</th>\n",
       "      <td>1.873664</td>\n",
       "      <td>Transmission</td>\n",
       "    </tr>\n",
       "    <tr>\n",
       "      <th>5</th>\n",
       "      <td>1.189304</td>\n",
       "      <td>Owner_Type</td>\n",
       "    </tr>\n",
       "    <tr>\n",
       "      <th>6</th>\n",
       "      <td>2.452843</td>\n",
       "      <td>Mileage</td>\n",
       "    </tr>\n",
       "    <tr>\n",
       "      <th>7</th>\n",
       "      <td>8.498551</td>\n",
       "      <td>Engine</td>\n",
       "    </tr>\n",
       "    <tr>\n",
       "      <th>8</th>\n",
       "      <td>8.412876</td>\n",
       "      <td>Power</td>\n",
       "    </tr>\n",
       "    <tr>\n",
       "      <th>9</th>\n",
       "      <td>1.834580</td>\n",
       "      <td>Seats</td>\n",
       "    </tr>\n",
       "    <tr>\n",
       "      <th>10</th>\n",
       "      <td>3.815671</td>\n",
       "      <td>Car_Make</td>\n",
       "    </tr>\n",
       "    <tr>\n",
       "      <th>11</th>\n",
       "      <td>1.580060</td>\n",
       "      <td>car_age</td>\n",
       "    </tr>\n",
       "  </tbody>\n",
       "</table>\n",
       "</div>"
      ],
      "text/plain": [
       "           VIF           variable\n",
       "0   343.171533          Intercept\n",
       "1     1.102717           Location\n",
       "2     1.053798  Kilometers_Driven\n",
       "3     1.806759          Fuel_Type\n",
       "4     1.873664       Transmission\n",
       "5     1.189304         Owner_Type\n",
       "6     2.452843            Mileage\n",
       "7     8.498551             Engine\n",
       "8     8.412876              Power\n",
       "9     1.834580              Seats\n",
       "10    3.815671           Car_Make\n",
       "11    1.580060            car_age"
      ]
     },
     "execution_count": 72,
     "metadata": {},
     "output_type": "execute_result"
    }
   ],
   "source": [
    "b,a = dmatrices('Price ~ Location+Kilometers_Driven+Fuel_Type+Transmission+Owner_Type+Mileage+Engine+Power+Seats+Car_Make+car_age',data=df5,return_type='dataframe')\n",
    "\n",
    "vif = pd.DataFrame()\n",
    "vif['VIF'] = [variance_inflation_factor(a.values, i) for i in range(a.shape[1])]\n",
    "vif['variable'] = a.columns\n",
    "\n",
    "vif"
   ]
  },
  {
   "cell_type": "code",
   "execution_count": 73,
   "id": "6fdeee16",
   "metadata": {},
   "outputs": [
    {
     "data": {
      "text/html": [
       "<table class=\"simpletable\">\n",
       "<caption>OLS Regression Results</caption>\n",
       "<tr>\n",
       "  <th>Dep. Variable:</th>          <td>Price</td>      <th>  R-squared:         </th> <td>   0.883</td>\n",
       "</tr>\n",
       "<tr>\n",
       "  <th>Model:</th>                   <td>OLS</td>       <th>  Adj. R-squared:    </th> <td>   0.882</td>\n",
       "</tr>\n",
       "<tr>\n",
       "  <th>Method:</th>             <td>Least Squares</td>  <th>  F-statistic:       </th> <td>   4104.</td>\n",
       "</tr>\n",
       "<tr>\n",
       "  <th>Date:</th>             <td>Tue, 20 Jun 2023</td> <th>  Prob (F-statistic):</th>  <td>  0.00</td> \n",
       "</tr>\n",
       "<tr>\n",
       "  <th>Time:</th>                 <td>22:51:02</td>     <th>  Log-Likelihood:    </th> <td>  521.46</td>\n",
       "</tr>\n",
       "<tr>\n",
       "  <th>No. Observations:</th>      <td>  6019</td>      <th>  AIC:               </th> <td>  -1019.</td>\n",
       "</tr>\n",
       "<tr>\n",
       "  <th>Df Residuals:</th>          <td>  6007</td>      <th>  BIC:               </th> <td>  -938.5</td>\n",
       "</tr>\n",
       "<tr>\n",
       "  <th>Df Model:</th>              <td>    11</td>      <th>                     </th>     <td> </td>   \n",
       "</tr>\n",
       "<tr>\n",
       "  <th>Covariance Type:</th>      <td>nonrobust</td>    <th>                     </th>     <td> </td>   \n",
       "</tr>\n",
       "</table>\n",
       "<table class=\"simpletable\">\n",
       "<tr>\n",
       "          <td></td>             <th>coef</th>     <th>std err</th>      <th>t</th>      <th>P>|t|</th>  <th>[0.025</th>    <th>0.975]</th>  \n",
       "</tr>\n",
       "<tr>\n",
       "  <th>Intercept</th>         <td>    0.8873</td> <td>    0.053</td> <td>   16.731</td> <td> 0.000</td> <td>    0.783</td> <td>    0.991</td>\n",
       "</tr>\n",
       "<tr>\n",
       "  <th>Location</th>          <td>    0.0202</td> <td>    0.001</td> <td>   17.868</td> <td> 0.000</td> <td>    0.018</td> <td>    0.022</td>\n",
       "</tr>\n",
       "<tr>\n",
       "  <th>Kilometers_Driven</th> <td>-3.964e-08</td> <td> 3.22e-08</td> <td>   -1.231</td> <td> 0.218</td> <td>-1.03e-07</td> <td> 2.35e-08</td>\n",
       "</tr>\n",
       "<tr>\n",
       "  <th>Fuel_Type</th>         <td>    0.0278</td> <td>    0.001</td> <td>   25.480</td> <td> 0.000</td> <td>    0.026</td> <td>    0.030</td>\n",
       "</tr>\n",
       "<tr>\n",
       "  <th>Transmission</th>      <td>    0.0128</td> <td>    0.001</td> <td>   22.135</td> <td> 0.000</td> <td>    0.012</td> <td>    0.014</td>\n",
       "</tr>\n",
       "<tr>\n",
       "  <th>Owner_Type</th>        <td>    0.0240</td> <td>    0.003</td> <td>    7.713</td> <td> 0.000</td> <td>    0.018</td> <td>    0.030</td>\n",
       "</tr>\n",
       "<tr>\n",
       "  <th>Mileage</th>           <td>   -0.0073</td> <td>    0.001</td> <td>   -7.500</td> <td> 0.000</td> <td>   -0.009</td> <td>   -0.005</td>\n",
       "</tr>\n",
       "<tr>\n",
       "  <th>Engine</th>            <td> 9.043e-05</td> <td> 1.39e-05</td> <td>    6.507</td> <td> 0.000</td> <td> 6.32e-05</td> <td>    0.000</td>\n",
       "</tr>\n",
       "<tr>\n",
       "  <th>Power</th>             <td>    0.0032</td> <td>    0.000</td> <td>   20.736</td> <td> 0.000</td> <td>    0.003</td> <td>    0.004</td>\n",
       "</tr>\n",
       "<tr>\n",
       "  <th>Seats</th>             <td>    0.0333</td> <td>    0.005</td> <td>    6.924</td> <td> 0.000</td> <td>    0.024</td> <td>    0.043</td>\n",
       "</tr>\n",
       "<tr>\n",
       "  <th>Car_Make</th>          <td>    0.0167</td> <td>    0.001</td> <td>   29.050</td> <td> 0.000</td> <td>    0.016</td> <td>    0.018</td>\n",
       "</tr>\n",
       "<tr>\n",
       "  <th>car_age</th>           <td>   -0.0892</td> <td>    0.001</td> <td>  -81.030</td> <td> 0.000</td> <td>   -0.091</td> <td>   -0.087</td>\n",
       "</tr>\n",
       "</table>\n",
       "<table class=\"simpletable\">\n",
       "<tr>\n",
       "  <th>Omnibus:</th>       <td>1753.878</td> <th>  Durbin-Watson:     </th> <td>   1.976</td> \n",
       "</tr>\n",
       "<tr>\n",
       "  <th>Prob(Omnibus):</th>  <td> 0.000</td>  <th>  Jarque-Bera (JB):  </th> <td>14237.038</td>\n",
       "</tr>\n",
       "<tr>\n",
       "  <th>Skew:</th>           <td>-1.164</td>  <th>  Prob(JB):          </th> <td>    0.00</td> \n",
       "</tr>\n",
       "<tr>\n",
       "  <th>Kurtosis:</th>       <td>10.166</td>  <th>  Cond. No.          </th> <td>2.01e+06</td> \n",
       "</tr>\n",
       "</table><br/><br/>Notes:<br/>[1] Standard Errors assume that the covariance matrix of the errors is correctly specified.<br/>[2] The condition number is large, 2.01e+06. This might indicate that there are<br/>strong multicollinearity or other numerical problems."
      ],
      "text/plain": [
       "<class 'statsmodels.iolib.summary.Summary'>\n",
       "\"\"\"\n",
       "                            OLS Regression Results                            \n",
       "==============================================================================\n",
       "Dep. Variable:                  Price   R-squared:                       0.883\n",
       "Model:                            OLS   Adj. R-squared:                  0.882\n",
       "Method:                 Least Squares   F-statistic:                     4104.\n",
       "Date:                Tue, 20 Jun 2023   Prob (F-statistic):               0.00\n",
       "Time:                        22:51:02   Log-Likelihood:                 521.46\n",
       "No. Observations:                6019   AIC:                            -1019.\n",
       "Df Residuals:                    6007   BIC:                            -938.5\n",
       "Df Model:                          11                                         \n",
       "Covariance Type:            nonrobust                                         \n",
       "=====================================================================================\n",
       "                        coef    std err          t      P>|t|      [0.025      0.975]\n",
       "-------------------------------------------------------------------------------------\n",
       "Intercept             0.8873      0.053     16.731      0.000       0.783       0.991\n",
       "Location              0.0202      0.001     17.868      0.000       0.018       0.022\n",
       "Kilometers_Driven -3.964e-08   3.22e-08     -1.231      0.218   -1.03e-07    2.35e-08\n",
       "Fuel_Type             0.0278      0.001     25.480      0.000       0.026       0.030\n",
       "Transmission          0.0128      0.001     22.135      0.000       0.012       0.014\n",
       "Owner_Type            0.0240      0.003      7.713      0.000       0.018       0.030\n",
       "Mileage              -0.0073      0.001     -7.500      0.000      -0.009      -0.005\n",
       "Engine             9.043e-05   1.39e-05      6.507      0.000    6.32e-05       0.000\n",
       "Power                 0.0032      0.000     20.736      0.000       0.003       0.004\n",
       "Seats                 0.0333      0.005      6.924      0.000       0.024       0.043\n",
       "Car_Make              0.0167      0.001     29.050      0.000       0.016       0.018\n",
       "car_age              -0.0892      0.001    -81.030      0.000      -0.091      -0.087\n",
       "==============================================================================\n",
       "Omnibus:                     1753.878   Durbin-Watson:                   1.976\n",
       "Prob(Omnibus):                  0.000   Jarque-Bera (JB):            14237.038\n",
       "Skew:                          -1.164   Prob(JB):                         0.00\n",
       "Kurtosis:                      10.166   Cond. No.                     2.01e+06\n",
       "==============================================================================\n",
       "\n",
       "Notes:\n",
       "[1] Standard Errors assume that the covariance matrix of the errors is correctly specified.\n",
       "[2] The condition number is large, 2.01e+06. This might indicate that there are\n",
       "strong multicollinearity or other numerical problems.\n",
       "\"\"\""
      ]
     },
     "execution_count": 73,
     "metadata": {},
     "output_type": "execute_result"
    }
   ],
   "source": [
    "mod = sm.OLS(b,a)\n",
    "first = mod.fit()\n",
    "first.summary()"
   ]
  },
  {
   "cell_type": "code",
   "execution_count": 74,
   "id": "b931c9e1",
   "metadata": {},
   "outputs": [
    {
     "data": {
      "text/plain": [
       "[('Lagrange multiplier statistic', 314.52798287059824),\n",
       " ('p-value', 7.579089593949099e-61),\n",
       " ('f-value', 30.109863206370548),\n",
       " ('f p-value', 1.470619879451298e-62)]"
      ]
     },
     "execution_count": 74,
     "metadata": {},
     "output_type": "execute_result"
    }
   ],
   "source": [
    "names = ['Lagrange multiplier statistic', 'p-value',\n",
    "         'f-value', 'f p-value']\n",
    "\n",
    "test_result_first = sms.het_breuschpagan(first.resid, first.model.exog)\n",
    "lzip(names, test_result_first)"
   ]
  },
  {
   "cell_type": "code",
   "execution_count": 75,
   "id": "a45d4175",
   "metadata": {},
   "outputs": [
    {
     "data": {
      "image/png": "[encoded data removed]",
      "text/plain": [
       "<Figure size 640x480 with 1 Axes>"
      ]
     },
     "metadata": {},
     "output_type": "display_data"
    }
   ],
   "source": [
    "ss.probplot(first.resid, dist=\"norm\", plot=pylab)\n",
    "pylab.show()"
   ]
  },
  {
   "cell_type": "code",
   "execution_count": 76,
   "id": "43380522",
   "metadata": {},
   "outputs": [
    {
     "name": "stderr",
     "output_type": "stream",
     "text": [
      "C:\\Users\\ramit\\AppData\\Local\\Temp\\ipykernel_21968\\1422869367.py:3: UserWarning: \n",
      "\n",
      "`distplot` is a deprecated function and will be removed in seaborn v0.14.0.\n",
      "\n",
      "Please adapt your code to use either `displot` (a figure-level function with\n",
      "similar flexibility) or `histplot` (an axes-level function for histograms).\n",
      "\n",
      "For a guide to updating your code to use the new functions, please see\n",
      "https://gist.github.com/mwaskom/de44147ed2974457ad6372750bbe5751\n",
      "\n",
      "  sns.distplot(first.resid)\n"
     ]
    },
    {
     "data": {
      "image/png": "[encoded data removed]",
      "text/plain": [
       "<Figure size 1200x600 with 1 Axes>"
      ]
     },
     "metadata": {},
     "output_type": "display_data"
    }
   ],
   "source": [
    "plt.subplots(figsize = (12, 6))\n",
    "plt.title('Distribution of error')\n",
    "sns.distplot(first.resid)\n",
    "plt.show()"
   ]
  },
  {
   "cell_type": "code",
   "execution_count": 77,
   "id": "b1ad6e92",
   "metadata": {},
   "outputs": [],
   "source": [
    "s,t = dmatrices('Price ~ Location+Kilometers_Driven+Fuel_Type+Transmission+Owner_Type+Mileage+Seats+Car_Make+car_age',data=df5,return_type='dataframe')"
   ]
  },
  {
   "cell_type": "code",
   "execution_count": 78,
   "id": "c8422c3f",
   "metadata": {},
   "outputs": [
    {
     "data": {
      "text/html": [
       "<table class=\"simpletable\">\n",
       "<caption>OLS Regression Results</caption>\n",
       "<tr>\n",
       "  <th>Dep. Variable:</th>          <td>Price</td>      <th>  R-squared:         </th> <td>   0.856</td>\n",
       "</tr>\n",
       "<tr>\n",
       "  <th>Model:</th>                   <td>OLS</td>       <th>  Adj. R-squared:    </th> <td>   0.856</td>\n",
       "</tr>\n",
       "<tr>\n",
       "  <th>Method:</th>             <td>Least Squares</td>  <th>  F-statistic:       </th> <td>   3984.</td>\n",
       "</tr>\n",
       "<tr>\n",
       "  <th>Date:</th>             <td>Tue, 20 Jun 2023</td> <th>  Prob (F-statistic):</th>  <td>  0.00</td> \n",
       "</tr>\n",
       "<tr>\n",
       "  <th>Time:</th>                 <td>22:51:03</td>     <th>  Log-Likelihood:    </th> <td> -82.443</td>\n",
       "</tr>\n",
       "<tr>\n",
       "  <th>No. Observations:</th>      <td>  6019</td>      <th>  AIC:               </th> <td>   184.9</td>\n",
       "</tr>\n",
       "<tr>\n",
       "  <th>Df Residuals:</th>          <td>  6009</td>      <th>  BIC:               </th> <td>   251.9</td>\n",
       "</tr>\n",
       "<tr>\n",
       "  <th>Df Model:</th>              <td>     9</td>      <th>                     </th>     <td> </td>   \n",
       "</tr>\n",
       "<tr>\n",
       "  <th>Covariance Type:</th>      <td>nonrobust</td>    <th>                     </th>     <td> </td>   \n",
       "</tr>\n",
       "</table>\n",
       "<table class=\"simpletable\">\n",
       "<tr>\n",
       "          <td></td>             <th>coef</th>     <th>std err</th>      <th>t</th>      <th>P>|t|</th>  <th>[0.025</th>    <th>0.975]</th>  \n",
       "</tr>\n",
       "<tr>\n",
       "  <th>Intercept</th>         <td>    1.2472</td> <td>    0.058</td> <td>   21.666</td> <td> 0.000</td> <td>    1.134</td> <td>    1.360</td>\n",
       "</tr>\n",
       "<tr>\n",
       "  <th>Location</th>          <td>    0.0210</td> <td>    0.001</td> <td>   16.843</td> <td> 0.000</td> <td>    0.019</td> <td>    0.023</td>\n",
       "</tr>\n",
       "<tr>\n",
       "  <th>Kilometers_Driven</th> <td>-1.693e-08</td> <td> 3.56e-08</td> <td>   -0.476</td> <td> 0.634</td> <td>-8.66e-08</td> <td> 5.28e-08</td>\n",
       "</tr>\n",
       "<tr>\n",
       "  <th>Fuel_Type</th>         <td>    0.0352</td> <td>    0.001</td> <td>   31.816</td> <td> 0.000</td> <td>    0.033</td> <td>    0.037</td>\n",
       "</tr>\n",
       "<tr>\n",
       "  <th>Transmission</th>      <td>    0.0179</td> <td>    0.001</td> <td>   29.047</td> <td> 0.000</td> <td>    0.017</td> <td>    0.019</td>\n",
       "</tr>\n",
       "<tr>\n",
       "  <th>Owner_Type</th>        <td>    0.0257</td> <td>    0.003</td> <td>    7.475</td> <td> 0.000</td> <td>    0.019</td> <td>    0.032</td>\n",
       "</tr>\n",
       "<tr>\n",
       "  <th>Mileage</th>           <td>   -0.0185</td> <td>    0.001</td> <td>  -18.953</td> <td> 0.000</td> <td>   -0.020</td> <td>   -0.017</td>\n",
       "</tr>\n",
       "<tr>\n",
       "  <th>Seats</th>             <td>    0.0451</td> <td>    0.005</td> <td>    9.545</td> <td> 0.000</td> <td>    0.036</td> <td>    0.054</td>\n",
       "</tr>\n",
       "<tr>\n",
       "  <th>Car_Make</th>          <td>    0.0304</td> <td>    0.000</td> <td>   63.810</td> <td> 0.000</td> <td>    0.029</td> <td>    0.031</td>\n",
       "</tr>\n",
       "<tr>\n",
       "  <th>car_age</th>           <td>   -0.0878</td> <td>    0.001</td> <td>  -72.419</td> <td> 0.000</td> <td>   -0.090</td> <td>   -0.085</td>\n",
       "</tr>\n",
       "</table>\n",
       "<table class=\"simpletable\">\n",
       "<tr>\n",
       "  <th>Omnibus:</th>       <td>1106.383</td> <th>  Durbin-Watson:     </th> <td>   1.986</td>\n",
       "</tr>\n",
       "<tr>\n",
       "  <th>Prob(Omnibus):</th>  <td> 0.000</td>  <th>  Jarque-Bera (JB):  </th> <td>4258.808</td>\n",
       "</tr>\n",
       "<tr>\n",
       "  <th>Skew:</th>           <td>-0.876</td>  <th>  Prob(JB):          </th> <td>    0.00</td>\n",
       "</tr>\n",
       "<tr>\n",
       "  <th>Kurtosis:</th>       <td> 6.730</td>  <th>  Cond. No.          </th> <td>1.98e+06</td>\n",
       "</tr>\n",
       "</table><br/><br/>Notes:<br/>[1] Standard Errors assume that the covariance matrix of the errors is correctly specified.<br/>[2] The condition number is large, 1.98e+06. This might indicate that there are<br/>strong multicollinearity or other numerical problems."
      ],
      "text/plain": [
       "<class 'statsmodels.iolib.summary.Summary'>\n",
       "\"\"\"\n",
       "                            OLS Regression Results                            \n",
       "==============================================================================\n",
       "Dep. Variable:                  Price   R-squared:                       0.856\n",
       "Model:                            OLS   Adj. R-squared:                  0.856\n",
       "Method:                 Least Squares   F-statistic:                     3984.\n",
       "Date:                Tue, 20 Jun 2023   Prob (F-statistic):               0.00\n",
       "Time:                        22:51:03   Log-Likelihood:                -82.443\n",
       "No. Observations:                6019   AIC:                             184.9\n",
       "Df Residuals:                    6009   BIC:                             251.9\n",
       "Df Model:                           9                                         \n",
       "Covariance Type:            nonrobust                                         \n",
       "=====================================================================================\n",
       "                        coef    std err          t      P>|t|      [0.025      0.975]\n",
       "-------------------------------------------------------------------------------------\n",
       "Intercept             1.2472      0.058     21.666      0.000       1.134       1.360\n",
       "Location              0.0210      0.001     16.843      0.000       0.019       0.023\n",
       "Kilometers_Driven -1.693e-08   3.56e-08     -0.476      0.634   -8.66e-08    5.28e-08\n",
       "Fuel_Type             0.0352      0.001     31.816      0.000       0.033       0.037\n",
       "Transmission          0.0179      0.001     29.047      0.000       0.017       0.019\n",
       "Owner_Type            0.0257      0.003      7.475      0.000       0.019       0.032\n",
       "Mileage              -0.0185      0.001    -18.953      0.000      -0.020      -0.017\n",
       "Seats                 0.0451      0.005      9.545      0.000       0.036       0.054\n",
       "Car_Make              0.0304      0.000     63.810      0.000       0.029       0.031\n",
       "car_age              -0.0878      0.001    -72.419      0.000      -0.090      -0.085\n",
       "==============================================================================\n",
       "Omnibus:                     1106.383   Durbin-Watson:                   1.986\n",
       "Prob(Omnibus):                  0.000   Jarque-Bera (JB):             4258.808\n",
       "Skew:                          -0.876   Prob(JB):                         0.00\n",
       "Kurtosis:                       6.730   Cond. No.                     1.98e+06\n",
       "==============================================================================\n",
       "\n",
       "Notes:\n",
       "[1] Standard Errors assume that the covariance matrix of the errors is correctly specified.\n",
       "[2] The condition number is large, 1.98e+06. This might indicate that there are\n",
       "strong multicollinearity or other numerical problems.\n",
       "\"\"\""
      ]
     },
     "execution_count": 78,
     "metadata": {},
     "output_type": "execute_result"
    }
   ],
   "source": [
    "mod = sm.OLS(s,t)\n",
    "second = mod.fit()\n",
    "second.summary()"
   ]
  },
  {
   "cell_type": "code",
   "execution_count": 79,
   "id": "28840b15",
   "metadata": {},
   "outputs": [
    {
     "data": {
      "text/html": [
       "<div>\n",
       "<style scoped>\n",
       "    .dataframe tbody tr th:only-of-type {\n",
       "        vertical-align: middle;\n",
       "    }\n",
       "\n",
       "    .dataframe tbody tr th {\n",
       "        vertical-align: top;\n",
       "    }\n",
       "\n",
       "    .dataframe thead th {\n",
       "        text-align: right;\n",
       "    }\n",
       "</style>\n",
       "<table border=\"1\" class=\"dataframe\">\n",
       "  <thead>\n",
       "    <tr style=\"text-align: right;\">\n",
       "      <th></th>\n",
       "      <th>VIF</th>\n",
       "      <th>variable</th>\n",
       "    </tr>\n",
       "  </thead>\n",
       "  <tbody>\n",
       "    <tr>\n",
       "      <th>0</th>\n",
       "      <td>330.887350</td>\n",
       "      <td>Intercept</td>\n",
       "    </tr>\n",
       "    <tr>\n",
       "      <th>1</th>\n",
       "      <td>1.102154</td>\n",
       "      <td>Location</td>\n",
       "    </tr>\n",
       "    <tr>\n",
       "      <th>2</th>\n",
       "      <td>1.051837</td>\n",
       "      <td>Kilometers_Driven</td>\n",
       "    </tr>\n",
       "    <tr>\n",
       "      <th>3</th>\n",
       "      <td>1.520027</td>\n",
       "      <td>Fuel_Type</td>\n",
       "    </tr>\n",
       "    <tr>\n",
       "      <th>4</th>\n",
       "      <td>1.738351</td>\n",
       "      <td>Transmission</td>\n",
       "    </tr>\n",
       "    <tr>\n",
       "      <th>5</th>\n",
       "      <td>1.189035</td>\n",
       "      <td>Owner_Type</td>\n",
       "    </tr>\n",
       "    <tr>\n",
       "      <th>6</th>\n",
       "      <td>2.006304</td>\n",
       "      <td>Mileage</td>\n",
       "    </tr>\n",
       "    <tr>\n",
       "      <th>7</th>\n",
       "      <td>1.451375</td>\n",
       "      <td>Seats</td>\n",
       "    </tr>\n",
       "    <tr>\n",
       "      <th>8</th>\n",
       "      <td>2.153538</td>\n",
       "      <td>Car_Make</td>\n",
       "    </tr>\n",
       "    <tr>\n",
       "      <th>9</th>\n",
       "      <td>1.569087</td>\n",
       "      <td>car_age</td>\n",
       "    </tr>\n",
       "  </tbody>\n",
       "</table>\n",
       "</div>"
      ],
      "text/plain": [
       "          VIF           variable\n",
       "0  330.887350          Intercept\n",
       "1    1.102154           Location\n",
       "2    1.051837  Kilometers_Driven\n",
       "3    1.520027          Fuel_Type\n",
       "4    1.738351       Transmission\n",
       "5    1.189035         Owner_Type\n",
       "6    2.006304            Mileage\n",
       "7    1.451375              Seats\n",
       "8    2.153538           Car_Make\n",
       "9    1.569087            car_age"
      ]
     },
     "execution_count": 79,
     "metadata": {},
     "output_type": "execute_result"
    }
   ],
   "source": [
    "s,t = dmatrices('Price ~ Location+Kilometers_Driven+Fuel_Type+Transmission+Owner_Type+Mileage+Seats+Car_Make+car_age',data=df5,return_type='dataframe')\n",
    "vif = pd.DataFrame()\n",
    "vif['VIF'] = [variance_inflation_factor(t.values, i) for i in range(t.shape[1])]\n",
    "vif['variable'] = t.columns\n",
    "\n",
    "vif"
   ]
  },
  {
   "cell_type": "code",
   "execution_count": 80,
   "id": "bf9c979a",
   "metadata": {},
   "outputs": [
    {
     "name": "stderr",
     "output_type": "stream",
     "text": [
      "C:\\Users\\ramit\\AppData\\Local\\Temp\\ipykernel_21968\\3044292421.py:3: UserWarning: \n",
      "\n",
      "`distplot` is a deprecated function and will be removed in seaborn v0.14.0.\n",
      "\n",
      "Please adapt your code to use either `displot` (a figure-level function with\n",
      "similar flexibility) or `histplot` (an axes-level function for histograms).\n",
      "\n",
      "For a guide to updating your code to use the new functions, please see\n",
      "https://gist.github.com/mwaskom/de44147ed2974457ad6372750bbe5751\n",
      "\n",
      "  sns.distplot(second.resid)\n"
     ]
    },
    {
     "data": {
      "image/png": "[encoded data removed]",
      "text/plain": [
       "<Figure size 1200x600 with 1 Axes>"
      ]
     },
     "metadata": {},
     "output_type": "display_data"
    }
   ],
   "source": [
    "plt.subplots(figsize = (12, 6))\n",
    "plt.title('Distribution of error')\n",
    "sns.distplot(second.resid)\n",
    "plt.show()"
   ]
  },
  {
   "cell_type": "code",
   "execution_count": 81,
   "id": "d7bed9ef",
   "metadata": {},
   "outputs": [
    {
     "data": {
      "image/png": "[encoded data removed]",
      "text/plain": [
       "<Figure size 640x480 with 1 Axes>"
      ]
     },
     "metadata": {},
     "output_type": "display_data"
    }
   ],
   "source": [
    "ss.probplot(second.resid, dist=\"norm\", plot=pylab)\n",
    "pylab.show()"
   ]
  },
  {
   "cell_type": "code",
   "execution_count": 82,
   "id": "d5b2cfff",
   "metadata": {},
   "outputs": [
    {
     "data": {
      "text/plain": [
       "[('Lagrange multiplier statistic', 392.1197661122233),\n",
       " ('p-value', 6.57314724597962e-79),\n",
       " ('f-value', 46.5276114457784),\n",
       " ('f p-value', 1.1532919965573055e-81)]"
      ]
     },
     "execution_count": 82,
     "metadata": {},
     "output_type": "execute_result"
    }
   ],
   "source": [
    "names = ['Lagrange multiplier statistic', 'p-value',\n",
    "         'f-value', 'f p-value']\n",
    "\n",
    "test_result_sec = sms.het_breuschpagan(second.resid, second.model.exog)\n",
    "lzip(names, test_result_sec)"
   ]
  },
  {
   "cell_type": "code",
   "execution_count": 83,
   "id": "6dd6bfe2",
   "metadata": {},
   "outputs": [],
   "source": [
    "u,v = dmatrices('Price ~ Location+Fuel_Type+Transmission+Owner_Type+Mileage+Seats+Car_Make+car_age',data=df5,return_type='dataframe')"
   ]
  },
  {
   "cell_type": "code",
   "execution_count": 84,
   "id": "3beedcd7",
   "metadata": {},
   "outputs": [
    {
     "data": {
      "text/html": [
       "<table class=\"simpletable\">\n",
       "<caption>OLS Regression Results</caption>\n",
       "<tr>\n",
       "  <th>Dep. Variable:</th>          <td>Price</td>      <th>  R-squared:         </th> <td>   0.856</td>\n",
       "</tr>\n",
       "<tr>\n",
       "  <th>Model:</th>                   <td>OLS</td>       <th>  Adj. R-squared:    </th> <td>   0.856</td>\n",
       "</tr>\n",
       "<tr>\n",
       "  <th>Method:</th>             <td>Least Squares</td>  <th>  F-statistic:       </th> <td>   4483.</td>\n",
       "</tr>\n",
       "<tr>\n",
       "  <th>Date:</th>             <td>Tue, 20 Jun 2023</td> <th>  Prob (F-statistic):</th>  <td>  0.00</td> \n",
       "</tr>\n",
       "<tr>\n",
       "  <th>Time:</th>                 <td>22:51:05</td>     <th>  Log-Likelihood:    </th> <td> -82.556</td>\n",
       "</tr>\n",
       "<tr>\n",
       "  <th>No. Observations:</th>      <td>  6019</td>      <th>  AIC:               </th> <td>   183.1</td>\n",
       "</tr>\n",
       "<tr>\n",
       "  <th>Df Residuals:</th>          <td>  6010</td>      <th>  BIC:               </th> <td>   243.4</td>\n",
       "</tr>\n",
       "<tr>\n",
       "  <th>Df Model:</th>              <td>     8</td>      <th>                     </th>     <td> </td>   \n",
       "</tr>\n",
       "<tr>\n",
       "  <th>Covariance Type:</th>      <td>nonrobust</td>    <th>                     </th>     <td> </td>   \n",
       "</tr>\n",
       "</table>\n",
       "<table class=\"simpletable\">\n",
       "<tr>\n",
       "        <td></td>          <th>coef</th>     <th>std err</th>      <th>t</th>      <th>P>|t|</th>  <th>[0.025</th>    <th>0.975]</th>  \n",
       "</tr>\n",
       "<tr>\n",
       "  <th>Intercept</th>    <td>    1.2474</td> <td>    0.058</td> <td>   21.672</td> <td> 0.000</td> <td>    1.135</td> <td>    1.360</td>\n",
       "</tr>\n",
       "<tr>\n",
       "  <th>Location</th>     <td>    0.0210</td> <td>    0.001</td> <td>   16.851</td> <td> 0.000</td> <td>    0.019</td> <td>    0.023</td>\n",
       "</tr>\n",
       "<tr>\n",
       "  <th>Fuel_Type</th>    <td>    0.0351</td> <td>    0.001</td> <td>   31.923</td> <td> 0.000</td> <td>    0.033</td> <td>    0.037</td>\n",
       "</tr>\n",
       "<tr>\n",
       "  <th>Transmission</th> <td>    0.0179</td> <td>    0.001</td> <td>   29.067</td> <td> 0.000</td> <td>    0.017</td> <td>    0.019</td>\n",
       "</tr>\n",
       "<tr>\n",
       "  <th>Owner_Type</th>   <td>    0.0258</td> <td>    0.003</td> <td>    7.485</td> <td> 0.000</td> <td>    0.019</td> <td>    0.033</td>\n",
       "</tr>\n",
       "<tr>\n",
       "  <th>Mileage</th>      <td>   -0.0185</td> <td>    0.001</td> <td>  -18.950</td> <td> 0.000</td> <td>   -0.020</td> <td>   -0.017</td>\n",
       "</tr>\n",
       "<tr>\n",
       "  <th>Seats</th>        <td>    0.0450</td> <td>    0.005</td> <td>    9.535</td> <td> 0.000</td> <td>    0.036</td> <td>    0.054</td>\n",
       "</tr>\n",
       "<tr>\n",
       "  <th>Car_Make</th>     <td>    0.0304</td> <td>    0.000</td> <td>   63.812</td> <td> 0.000</td> <td>    0.029</td> <td>    0.031</td>\n",
       "</tr>\n",
       "<tr>\n",
       "  <th>car_age</th>      <td>   -0.0879</td> <td>    0.001</td> <td>  -73.211</td> <td> 0.000</td> <td>   -0.090</td> <td>   -0.086</td>\n",
       "</tr>\n",
       "</table>\n",
       "<table class=\"simpletable\">\n",
       "<tr>\n",
       "  <th>Omnibus:</th>       <td>1106.186</td> <th>  Durbin-Watson:     </th> <td>   1.986</td>\n",
       "</tr>\n",
       "<tr>\n",
       "  <th>Prob(Omnibus):</th>  <td> 0.000</td>  <th>  Jarque-Bera (JB):  </th> <td>4259.028</td>\n",
       "</tr>\n",
       "<tr>\n",
       "  <th>Skew:</th>           <td>-0.876</td>  <th>  Prob(JB):          </th> <td>    0.00</td>\n",
       "</tr>\n",
       "<tr>\n",
       "  <th>Kurtosis:</th>       <td> 6.730</td>  <th>  Cond. No.          </th> <td>    555.</td>\n",
       "</tr>\n",
       "</table><br/><br/>Notes:<br/>[1] Standard Errors assume that the covariance matrix of the errors is correctly specified."
      ],
      "text/plain": [
       "<class 'statsmodels.iolib.summary.Summary'>\n",
       "\"\"\"\n",
       "                            OLS Regression Results                            \n",
       "==============================================================================\n",
       "Dep. Variable:                  Price   R-squared:                       0.856\n",
       "Model:                            OLS   Adj. R-squared:                  0.856\n",
       "Method:                 Least Squares   F-statistic:                     4483.\n",
       "Date:                Tue, 20 Jun 2023   Prob (F-statistic):               0.00\n",
       "Time:                        22:51:05   Log-Likelihood:                -82.556\n",
       "No. Observations:                6019   AIC:                             183.1\n",
       "Df Residuals:                    6010   BIC:                             243.4\n",
       "Df Model:                           8                                         \n",
       "Covariance Type:            nonrobust                                         \n",
       "================================================================================\n",
       "                   coef    std err          t      P>|t|      [0.025      0.975]\n",
       "--------------------------------------------------------------------------------\n",
       "Intercept        1.2474      0.058     21.672      0.000       1.135       1.360\n",
       "Location         0.0210      0.001     16.851      0.000       0.019       0.023\n",
       "Fuel_Type        0.0351      0.001     31.923      0.000       0.033       0.037\n",
       "Transmission     0.0179      0.001     29.067      0.000       0.017       0.019\n",
       "Owner_Type       0.0258      0.003      7.485      0.000       0.019       0.033\n",
       "Mileage         -0.0185      0.001    -18.950      0.000      -0.020      -0.017\n",
       "Seats            0.0450      0.005      9.535      0.000       0.036       0.054\n",
       "Car_Make         0.0304      0.000     63.812      0.000       0.029       0.031\n",
       "car_age         -0.0879      0.001    -73.211      0.000      -0.090      -0.086\n",
       "==============================================================================\n",
       "Omnibus:                     1106.186   Durbin-Watson:                   1.986\n",
       "Prob(Omnibus):                  0.000   Jarque-Bera (JB):             4259.028\n",
       "Skew:                          -0.876   Prob(JB):                         0.00\n",
       "Kurtosis:                       6.730   Cond. No.                         555.\n",
       "==============================================================================\n",
       "\n",
       "Notes:\n",
       "[1] Standard Errors assume that the covariance matrix of the errors is correctly specified.\n",
       "\"\"\""
      ]
     },
     "execution_count": 84,
     "metadata": {},
     "output_type": "execute_result"
    }
   ],
   "source": [
    "mod = sm.OLS(u,v)\n",
    "third = mod.fit()\n",
    "third.summary()"
   ]
  },
  {
   "cell_type": "code",
   "execution_count": 85,
   "id": "58fbf5cb",
   "metadata": {},
   "outputs": [
    {
     "data": {
      "text/plain": [
       "[('Lagrange multiplier statistic', 391.64570377032936),\n",
       " ('p-value', 8.296317380385897e-79),\n",
       " ('f-value', 46.46744594095563),\n",
       " ('f p-value', 1.479235658916269e-81)]"
      ]
     },
     "execution_count": 85,
     "metadata": {},
     "output_type": "execute_result"
    }
   ],
   "source": [
    "names = ['Lagrange multiplier statistic', 'p-value',\n",
    "         'f-value', 'f p-value']\n",
    "\n",
    "test_result_third = sms.het_breuschpagan(third.resid, second.model.exog)\n",
    "lzip(names, test_result_third)"
   ]
  },
  {
   "cell_type": "code",
   "execution_count": 86,
   "id": "45d58c4e",
   "metadata": {},
   "outputs": [
    {
     "data": {
      "image/png": "[encoded data removed]",
      "text/plain": [
       "<Figure size 640x480 with 1 Axes>"
      ]
     },
     "metadata": {},
     "output_type": "display_data"
    }
   ],
   "source": [
    "ss.probplot(third.resid, dist=\"norm\", plot=pylab)\n",
    "pylab.show()"
   ]
  },
  {
   "cell_type": "code",
   "execution_count": 87,
   "id": "1c38ca10",
   "metadata": {},
   "outputs": [
    {
     "name": "stderr",
     "output_type": "stream",
     "text": [
      "C:\\Users\\ramit\\AppData\\Local\\Temp\\ipykernel_21968\\3882168392.py:3: UserWarning: \n",
      "\n",
      "`distplot` is a deprecated function and will be removed in seaborn v0.14.0.\n",
      "\n",
      "Please adapt your code to use either `displot` (a figure-level function with\n",
      "similar flexibility) or `histplot` (an axes-level function for histograms).\n",
      "\n",
      "For a guide to updating your code to use the new functions, please see\n",
      "https://gist.github.com/mwaskom/de44147ed2974457ad6372750bbe5751\n",
      "\n",
      "  sns.distplot(third.resid)\n"
     ]
    },
    {
     "data": {
      "image/png": "[encoded data removed]",
      "text/plain": [
       "<Figure size 1200x600 with 1 Axes>"
      ]
     },
     "metadata": {},
     "output_type": "display_data"
    }
   ],
   "source": [
    "plt.subplots(figsize = (12, 6))\n",
    "plt.title('Distribution of error')\n",
    "sns.distplot(third.resid)\n",
    "plt.show()"
   ]
  },
  {
   "cell_type": "code",
   "execution_count": 88,
   "id": "54181480",
   "metadata": {},
   "outputs": [
    {
     "data": {
      "text/html": [
       "<div>\n",
       "<style scoped>\n",
       "    .dataframe tbody tr th:only-of-type {\n",
       "        vertical-align: middle;\n",
       "    }\n",
       "\n",
       "    .dataframe tbody tr th {\n",
       "        vertical-align: top;\n",
       "    }\n",
       "\n",
       "    .dataframe thead th {\n",
       "        text-align: right;\n",
       "    }\n",
       "</style>\n",
       "<table border=\"1\" class=\"dataframe\">\n",
       "  <thead>\n",
       "    <tr style=\"text-align: right;\">\n",
       "      <th></th>\n",
       "      <th>VIF</th>\n",
       "      <th>variable</th>\n",
       "    </tr>\n",
       "  </thead>\n",
       "  <tbody>\n",
       "    <tr>\n",
       "      <th>0</th>\n",
       "      <td>330.864845</td>\n",
       "      <td>Intercept</td>\n",
       "    </tr>\n",
       "    <tr>\n",
       "      <th>1</th>\n",
       "      <td>1.101991</td>\n",
       "      <td>Location</td>\n",
       "    </tr>\n",
       "    <tr>\n",
       "      <th>2</th>\n",
       "      <td>1.505643</td>\n",
       "      <td>Fuel_Type</td>\n",
       "    </tr>\n",
       "    <tr>\n",
       "      <th>3</th>\n",
       "      <td>1.737442</td>\n",
       "      <td>Transmission</td>\n",
       "    </tr>\n",
       "    <tr>\n",
       "      <th>4</th>\n",
       "      <td>1.188666</td>\n",
       "      <td>Owner_Type</td>\n",
       "    </tr>\n",
       "    <tr>\n",
       "      <th>5</th>\n",
       "      <td>2.006076</td>\n",
       "      <td>Mileage</td>\n",
       "    </tr>\n",
       "    <tr>\n",
       "      <th>6</th>\n",
       "      <td>1.449442</td>\n",
       "      <td>Seats</td>\n",
       "    </tr>\n",
       "    <tr>\n",
       "      <th>7</th>\n",
       "      <td>2.153501</td>\n",
       "      <td>Car_Make</td>\n",
       "    </tr>\n",
       "    <tr>\n",
       "      <th>8</th>\n",
       "      <td>1.538349</td>\n",
       "      <td>car_age</td>\n",
       "    </tr>\n",
       "  </tbody>\n",
       "</table>\n",
       "</div>"
      ],
      "text/plain": [
       "          VIF      variable\n",
       "0  330.864845     Intercept\n",
       "1    1.101991      Location\n",
       "2    1.505643     Fuel_Type\n",
       "3    1.737442  Transmission\n",
       "4    1.188666    Owner_Type\n",
       "5    2.006076       Mileage\n",
       "6    1.449442         Seats\n",
       "7    2.153501      Car_Make\n",
       "8    1.538349       car_age"
      ]
     },
     "execution_count": 88,
     "metadata": {},
     "output_type": "execute_result"
    }
   ],
   "source": [
    "u,v = dmatrices('Price ~ Location+Fuel_Type+Transmission+Owner_Type+Mileage+Seats+Car_Make+car_age',data=df5,return_type='dataframe')\n",
    "vif = pd.DataFrame()\n",
    "vif['VIF'] = [variance_inflation_factor(v.values, i) for i in range(v.shape[1])]\n",
    "vif['variable'] = v.columns\n",
    "\n",
    "vif"
   ]
  },
  {
   "cell_type": "code",
   "execution_count": 89,
   "id": "f80d8fe9",
   "metadata": {},
   "outputs": [],
   "source": [
    "g,h = dmatrices('Price ~ Location+Fuel_Type+Transmission+Mileage+Seats+Car_Make+car_age',data=df5,return_type='dataframe')"
   ]
  },
  {
   "cell_type": "code",
   "execution_count": 90,
   "id": "b8a93c12",
   "metadata": {},
   "outputs": [
    {
     "data": {
      "text/html": [
       "<table class=\"simpletable\">\n",
       "<caption>OLS Regression Results</caption>\n",
       "<tr>\n",
       "  <th>Dep. Variable:</th>          <td>Price</td>      <th>  R-squared:         </th> <td>   0.855</td>\n",
       "</tr>\n",
       "<tr>\n",
       "  <th>Model:</th>                   <td>OLS</td>       <th>  Adj. R-squared:    </th> <td>   0.855</td>\n",
       "</tr>\n",
       "<tr>\n",
       "  <th>Method:</th>             <td>Least Squares</td>  <th>  F-statistic:       </th> <td>   5069.</td>\n",
       "</tr>\n",
       "<tr>\n",
       "  <th>Date:</th>             <td>Tue, 20 Jun 2023</td> <th>  Prob (F-statistic):</th>  <td>  0.00</td> \n",
       "</tr>\n",
       "<tr>\n",
       "  <th>Time:</th>                 <td>22:51:06</td>     <th>  Log-Likelihood:    </th> <td> -110.48</td>\n",
       "</tr>\n",
       "<tr>\n",
       "  <th>No. Observations:</th>      <td>  6019</td>      <th>  AIC:               </th> <td>   237.0</td>\n",
       "</tr>\n",
       "<tr>\n",
       "  <th>Df Residuals:</th>          <td>  6011</td>      <th>  BIC:               </th> <td>   290.6</td>\n",
       "</tr>\n",
       "<tr>\n",
       "  <th>Df Model:</th>              <td>     7</td>      <th>                     </th>     <td> </td>   \n",
       "</tr>\n",
       "<tr>\n",
       "  <th>Covariance Type:</th>      <td>nonrobust</td>    <th>                     </th>     <td> </td>   \n",
       "</tr>\n",
       "</table>\n",
       "<table class=\"simpletable\">\n",
       "<tr>\n",
       "        <td></td>          <th>coef</th>     <th>std err</th>      <th>t</th>      <th>P>|t|</th>  <th>[0.025</th>    <th>0.975]</th>  \n",
       "</tr>\n",
       "<tr>\n",
       "  <th>Intercept</th>    <td>    1.5273</td> <td>    0.044</td> <td>   34.739</td> <td> 0.000</td> <td>    1.441</td> <td>    1.613</td>\n",
       "</tr>\n",
       "<tr>\n",
       "  <th>Location</th>     <td>    0.0209</td> <td>    0.001</td> <td>   16.682</td> <td> 0.000</td> <td>    0.018</td> <td>    0.023</td>\n",
       "</tr>\n",
       "<tr>\n",
       "  <th>Fuel_Type</th>    <td>    0.0352</td> <td>    0.001</td> <td>   31.848</td> <td> 0.000</td> <td>    0.033</td> <td>    0.037</td>\n",
       "</tr>\n",
       "<tr>\n",
       "  <th>Transmission</th> <td>    0.0179</td> <td>    0.001</td> <td>   28.871</td> <td> 0.000</td> <td>    0.017</td> <td>    0.019</td>\n",
       "</tr>\n",
       "<tr>\n",
       "  <th>Mileage</th>      <td>   -0.0185</td> <td>    0.001</td> <td>  -18.790</td> <td> 0.000</td> <td>   -0.020</td> <td>   -0.017</td>\n",
       "</tr>\n",
       "<tr>\n",
       "  <th>Seats</th>        <td>    0.0444</td> <td>    0.005</td> <td>    9.375</td> <td> 0.000</td> <td>    0.035</td> <td>    0.054</td>\n",
       "</tr>\n",
       "<tr>\n",
       "  <th>Car_Make</th>     <td>    0.0304</td> <td>    0.000</td> <td>   63.411</td> <td> 0.000</td> <td>    0.029</td> <td>    0.031</td>\n",
       "</tr>\n",
       "<tr>\n",
       "  <th>car_age</th>      <td>   -0.0910</td> <td>    0.001</td> <td>  -80.550</td> <td> 0.000</td> <td>   -0.093</td> <td>   -0.089</td>\n",
       "</tr>\n",
       "</table>\n",
       "<table class=\"simpletable\">\n",
       "<tr>\n",
       "  <th>Omnibus:</th>       <td>1141.736</td> <th>  Durbin-Watson:     </th> <td>   1.989</td>\n",
       "</tr>\n",
       "<tr>\n",
       "  <th>Prob(Omnibus):</th>  <td> 0.000</td>  <th>  Jarque-Bera (JB):  </th> <td>4532.418</td>\n",
       "</tr>\n",
       "<tr>\n",
       "  <th>Skew:</th>           <td>-0.895</td>  <th>  Prob(JB):          </th> <td>    0.00</td>\n",
       "</tr>\n",
       "<tr>\n",
       "  <th>Kurtosis:</th>       <td> 6.856</td>  <th>  Cond. No.          </th> <td>    402.</td>\n",
       "</tr>\n",
       "</table><br/><br/>Notes:<br/>[1] Standard Errors assume that the covariance matrix of the errors is correctly specified."
      ],
      "text/plain": [
       "<class 'statsmodels.iolib.summary.Summary'>\n",
       "\"\"\"\n",
       "                            OLS Regression Results                            \n",
       "==============================================================================\n",
       "Dep. Variable:                  Price   R-squared:                       0.855\n",
       "Model:                            OLS   Adj. R-squared:                  0.855\n",
       "Method:                 Least Squares   F-statistic:                     5069.\n",
       "Date:                Tue, 20 Jun 2023   Prob (F-statistic):               0.00\n",
       "Time:                        22:51:06   Log-Likelihood:                -110.48\n",
       "No. Observations:                6019   AIC:                             237.0\n",
       "Df Residuals:                    6011   BIC:                             290.6\n",
       "Df Model:                           7                                         \n",
       "Covariance Type:            nonrobust                                         \n",
       "================================================================================\n",
       "                   coef    std err          t      P>|t|      [0.025      0.975]\n",
       "--------------------------------------------------------------------------------\n",
       "Intercept        1.5273      0.044     34.739      0.000       1.441       1.613\n",
       "Location         0.0209      0.001     16.682      0.000       0.018       0.023\n",
       "Fuel_Type        0.0352      0.001     31.848      0.000       0.033       0.037\n",
       "Transmission     0.0179      0.001     28.871      0.000       0.017       0.019\n",
       "Mileage         -0.0185      0.001    -18.790      0.000      -0.020      -0.017\n",
       "Seats            0.0444      0.005      9.375      0.000       0.035       0.054\n",
       "Car_Make         0.0304      0.000     63.411      0.000       0.029       0.031\n",
       "car_age         -0.0910      0.001    -80.550      0.000      -0.093      -0.089\n",
       "==============================================================================\n",
       "Omnibus:                     1141.736   Durbin-Watson:                   1.989\n",
       "Prob(Omnibus):                  0.000   Jarque-Bera (JB):             4532.418\n",
       "Skew:                          -0.895   Prob(JB):                         0.00\n",
       "Kurtosis:                       6.856   Cond. No.                         402.\n",
       "==============================================================================\n",
       "\n",
       "Notes:\n",
       "[1] Standard Errors assume that the covariance matrix of the errors is correctly specified.\n",
       "\"\"\""
      ]
     },
     "execution_count": 90,
     "metadata": {},
     "output_type": "execute_result"
    }
   ],
   "source": [
    "mod = sm.OLS(g,h)\n",
    "fourth = mod.fit()\n",
    "fourth.summary()"
   ]
  },
  {
   "cell_type": "code",
   "execution_count": 91,
   "id": "7fff292b",
   "metadata": {},
   "outputs": [
    {
     "data": {
      "text/plain": [
       "[('Lagrange multiplier statistic', 379.98835808942505),\n",
       " ('p-value', 4.651284754766637e-78),\n",
       " ('f-value', 57.86500404988512),\n",
       " ('f p-value', 1.1481649821404745e-80)]"
      ]
     },
     "execution_count": 91,
     "metadata": {},
     "output_type": "execute_result"
    }
   ],
   "source": [
    "names = ['Lagrange multiplier statistic', 'p-value',\n",
    "         'f-value', 'f p-value']\n",
    "\n",
    "test_result_fourth = sms.het_breuschpagan(fourth.resid, fourth.model.exog)\n",
    "lzip(names, test_result_fourth)"
   ]
  },
  {
   "cell_type": "code",
   "execution_count": 92,
   "id": "426bcbb9",
   "metadata": {},
   "outputs": [
    {
     "data": {
      "image/png": "[encoded data removed]",
      "text/plain": [
       "<Figure size 640x480 with 1 Axes>"
      ]
     },
     "metadata": {},
     "output_type": "display_data"
    }
   ],
   "source": [
    "ss.probplot(fourth.resid, dist=\"norm\", plot=pylab)\n",
    "pylab.show()"
   ]
  },
  {
   "cell_type": "code",
   "execution_count": 93,
   "id": "8d113162",
   "metadata": {},
   "outputs": [
    {
     "name": "stderr",
     "output_type": "stream",
     "text": [
      "C:\\Users\\ramit\\AppData\\Local\\Temp\\ipykernel_21968\\2682134316.py:3: UserWarning: \n",
      "\n",
      "`distplot` is a deprecated function and will be removed in seaborn v0.14.0.\n",
      "\n",
      "Please adapt your code to use either `displot` (a figure-level function with\n",
      "similar flexibility) or `histplot` (an axes-level function for histograms).\n",
      "\n",
      "For a guide to updating your code to use the new functions, please see\n",
      "https://gist.github.com/mwaskom/de44147ed2974457ad6372750bbe5751\n",
      "\n",
      "  sns.distplot(fourth.resid)\n"
     ]
    },
    {
     "data": {
      "image/png": "[encoded data removed]",
      "text/plain": [
       "<Figure size 1200x600 with 1 Axes>"
      ]
     },
     "metadata": {},
     "output_type": "display_data"
    }
   ],
   "source": [
    "plt.subplots(figsize = (12, 6))\n",
    "plt.title('Distribution of error')\n",
    "sns.distplot(fourth.resid)\n",
    "plt.show()"
   ]
  },
  {
   "cell_type": "code",
   "execution_count": 94,
   "id": "f81fa74d",
   "metadata": {},
   "outputs": [],
   "source": [
    "j,k = dmatrices('Price ~ Location+Fuel_Type+Transmission+Mileage+Car_Make+car_age',data=df5,return_type='dataframe')"
   ]
  },
  {
   "cell_type": "code",
   "execution_count": 95,
   "id": "b34ce24d",
   "metadata": {},
   "outputs": [
    {
     "data": {
      "text/html": [
       "<table class=\"simpletable\">\n",
       "<caption>OLS Regression Results</caption>\n",
       "<tr>\n",
       "  <th>Dep. Variable:</th>          <td>Price</td>      <th>  R-squared:         </th> <td>   0.853</td>\n",
       "</tr>\n",
       "<tr>\n",
       "  <th>Model:</th>                   <td>OLS</td>       <th>  Adj. R-squared:    </th> <td>   0.853</td>\n",
       "</tr>\n",
       "<tr>\n",
       "  <th>Method:</th>             <td>Least Squares</td>  <th>  F-statistic:       </th> <td>   5815.</td>\n",
       "</tr>\n",
       "<tr>\n",
       "  <th>Date:</th>             <td>Tue, 20 Jun 2023</td> <th>  Prob (F-statistic):</th>  <td>  0.00</td> \n",
       "</tr>\n",
       "<tr>\n",
       "  <th>Time:</th>                 <td>22:51:07</td>     <th>  Log-Likelihood:    </th> <td> -154.17</td>\n",
       "</tr>\n",
       "<tr>\n",
       "  <th>No. Observations:</th>      <td>  6019</td>      <th>  AIC:               </th> <td>   322.3</td>\n",
       "</tr>\n",
       "<tr>\n",
       "  <th>Df Residuals:</th>          <td>  6012</td>      <th>  BIC:               </th> <td>   369.3</td>\n",
       "</tr>\n",
       "<tr>\n",
       "  <th>Df Model:</th>              <td>     6</td>      <th>                     </th>     <td> </td>   \n",
       "</tr>\n",
       "<tr>\n",
       "  <th>Covariance Type:</th>      <td>nonrobust</td>    <th>                     </th>     <td> </td>   \n",
       "</tr>\n",
       "</table>\n",
       "<table class=\"simpletable\">\n",
       "<tr>\n",
       "        <td></td>          <th>coef</th>     <th>std err</th>      <th>t</th>      <th>P>|t|</th>  <th>[0.025</th>    <th>0.975]</th>  \n",
       "</tr>\n",
       "<tr>\n",
       "  <th>Intercept</th>    <td>    1.8352</td> <td>    0.029</td> <td>   62.367</td> <td> 0.000</td> <td>    1.778</td> <td>    1.893</td>\n",
       "</tr>\n",
       "<tr>\n",
       "  <th>Location</th>     <td>    0.0208</td> <td>    0.001</td> <td>   16.482</td> <td> 0.000</td> <td>    0.018</td> <td>    0.023</td>\n",
       "</tr>\n",
       "<tr>\n",
       "  <th>Fuel_Type</th>    <td>    0.0397</td> <td>    0.001</td> <td>   39.533</td> <td> 0.000</td> <td>    0.038</td> <td>    0.042</td>\n",
       "</tr>\n",
       "<tr>\n",
       "  <th>Transmission</th> <td>    0.0167</td> <td>    0.001</td> <td>   27.360</td> <td> 0.000</td> <td>    0.016</td> <td>    0.018</td>\n",
       "</tr>\n",
       "<tr>\n",
       "  <th>Mileage</th>      <td>   -0.0228</td> <td>    0.001</td> <td>  -26.155</td> <td> 0.000</td> <td>   -0.025</td> <td>   -0.021</td>\n",
       "</tr>\n",
       "<tr>\n",
       "  <th>Car_Make</th>     <td>    0.0296</td> <td>    0.000</td> <td>   62.272</td> <td> 0.000</td> <td>    0.029</td> <td>    0.031</td>\n",
       "</tr>\n",
       "<tr>\n",
       "  <th>car_age</th>      <td>   -0.0930</td> <td>    0.001</td> <td>  -83.274</td> <td> 0.000</td> <td>   -0.095</td> <td>   -0.091</td>\n",
       "</tr>\n",
       "</table>\n",
       "<table class=\"simpletable\">\n",
       "<tr>\n",
       "  <th>Omnibus:</th>       <td>1211.737</td> <th>  Durbin-Watson:     </th> <td>   1.990</td>\n",
       "</tr>\n",
       "<tr>\n",
       "  <th>Prob(Omnibus):</th>  <td> 0.000</td>  <th>  Jarque-Bera (JB):  </th> <td>4857.758</td>\n",
       "</tr>\n",
       "<tr>\n",
       "  <th>Skew:</th>           <td>-0.948</td>  <th>  Prob(JB):          </th> <td>    0.00</td>\n",
       "</tr>\n",
       "<tr>\n",
       "  <th>Kurtosis:</th>       <td> 6.972</td>  <th>  Cond. No.          </th> <td>    262.</td>\n",
       "</tr>\n",
       "</table><br/><br/>Notes:<br/>[1] Standard Errors assume that the covariance matrix of the errors is correctly specified."
      ],
      "text/plain": [
       "<class 'statsmodels.iolib.summary.Summary'>\n",
       "\"\"\"\n",
       "                            OLS Regression Results                            \n",
       "==============================================================================\n",
       "Dep. Variable:                  Price   R-squared:                       0.853\n",
       "Model:                            OLS   Adj. R-squared:                  0.853\n",
       "Method:                 Least Squares   F-statistic:                     5815.\n",
       "Date:                Tue, 20 Jun 2023   Prob (F-statistic):               0.00\n",
       "Time:                        22:51:07   Log-Likelihood:                -154.17\n",
       "No. Observations:                6019   AIC:                             322.3\n",
       "Df Residuals:                    6012   BIC:                             369.3\n",
       "Df Model:                           6                                         \n",
       "Covariance Type:            nonrobust                                         \n",
       "================================================================================\n",
       "                   coef    std err          t      P>|t|      [0.025      0.975]\n",
       "--------------------------------------------------------------------------------\n",
       "Intercept        1.8352      0.029     62.367      0.000       1.778       1.893\n",
       "Location         0.0208      0.001     16.482      0.000       0.018       0.023\n",
       "Fuel_Type        0.0397      0.001     39.533      0.000       0.038       0.042\n",
       "Transmission     0.0167      0.001     27.360      0.000       0.016       0.018\n",
       "Mileage         -0.0228      0.001    -26.155      0.000      -0.025      -0.021\n",
       "Car_Make         0.0296      0.000     62.272      0.000       0.029       0.031\n",
       "car_age         -0.0930      0.001    -83.274      0.000      -0.095      -0.091\n",
       "==============================================================================\n",
       "Omnibus:                     1211.737   Durbin-Watson:                   1.990\n",
       "Prob(Omnibus):                  0.000   Jarque-Bera (JB):             4857.758\n",
       "Skew:                          -0.948   Prob(JB):                         0.00\n",
       "Kurtosis:                       6.972   Cond. No.                         262.\n",
       "==============================================================================\n",
       "\n",
       "Notes:\n",
       "[1] Standard Errors assume that the covariance matrix of the errors is correctly specified.\n",
       "\"\"\""
      ]
     },
     "execution_count": 95,
     "metadata": {},
     "output_type": "execute_result"
    }
   ],
   "source": [
    "mod = sm.OLS(j,k)\n",
    "fifth = mod.fit()\n",
    "fifth.summary()"
   ]
  },
  {
   "cell_type": "code",
   "execution_count": 96,
   "id": "50a92b70",
   "metadata": {},
   "outputs": [
    {
     "data": {
      "text/plain": [
       "[('Lagrange multiplier statistic', 411.70129454466945),\n",
       " ('p-value', 7.375387741966384e-85),\n",
       " ('f-value', 63.04885857580943),\n",
       " ('f p-value', 6.098507754963067e-88)]"
      ]
     },
     "execution_count": 96,
     "metadata": {},
     "output_type": "execute_result"
    }
   ],
   "source": [
    "names = ['Lagrange multiplier statistic', 'p-value',\n",
    "         'f-value', 'f p-value']\n",
    "\n",
    "test_result_fourth = sms.het_breuschpagan(fifth.resid, fourth.model.exog)\n",
    "lzip(names, test_result_fourth)"
   ]
  },
  {
   "cell_type": "code",
   "execution_count": 97,
   "id": "9bdbbf28",
   "metadata": {},
   "outputs": [
    {
     "data": {
      "image/png": "[encoded data removed]",
      "text/plain": [
       "<Figure size 640x480 with 1 Axes>"
      ]
     },
     "metadata": {},
     "output_type": "display_data"
    }
   ],
   "source": [
    "ss.probplot(fifth.resid, dist=\"norm\", plot=pylab)\n",
    "pylab.show()"
   ]
  },
  {
   "cell_type": "code",
   "execution_count": 98,
   "id": "35bd46c6",
   "metadata": {},
   "outputs": [
    {
     "name": "stderr",
     "output_type": "stream",
     "text": [
      "C:\\Users\\ramit\\AppData\\Local\\Temp\\ipykernel_21968\\1474514813.py:3: UserWarning: \n",
      "\n",
      "`distplot` is a deprecated function and will be removed in seaborn v0.14.0.\n",
      "\n",
      "Please adapt your code to use either `displot` (a figure-level function with\n",
      "similar flexibility) or `histplot` (an axes-level function for histograms).\n",
      "\n",
      "For a guide to updating your code to use the new functions, please see\n",
      "https://gist.github.com/mwaskom/de44147ed2974457ad6372750bbe5751\n",
      "\n",
      "  sns.distplot(fifth.resid)\n"
     ]
    },
    {
     "data": {
      "image/png": "[encoded data removed]",
      "text/plain": [
       "<Figure size 1200x600 with 1 Axes>"
      ]
     },
     "metadata": {},
     "output_type": "display_data"
    }
   ],
   "source": [
    "plt.subplots(figsize = (12, 6))\n",
    "plt.title('Distribution of error')\n",
    "sns.distplot(fifth.resid)\n",
    "plt.show()"
   ]
  },
  {
   "cell_type": "code",
   "execution_count": 99,
   "id": "f14ff0c5",
   "metadata": {},
   "outputs": [],
   "source": [
    "m,n = dmatrices('Price ~ Fuel_Type+Transmission+Mileage+Car_Make+car_age',data=df5,return_type='dataframe')"
   ]
  },
  {
   "cell_type": "code",
   "execution_count": 100,
   "id": "939a10c8",
   "metadata": {},
   "outputs": [
    {
     "data": {
      "text/html": [
       "<table class=\"simpletable\">\n",
       "<caption>OLS Regression Results</caption>\n",
       "<tr>\n",
       "  <th>Dep. Variable:</th>          <td>Price</td>      <th>  R-squared:         </th> <td>   0.846</td>\n",
       "</tr>\n",
       "<tr>\n",
       "  <th>Model:</th>                   <td>OLS</td>       <th>  Adj. R-squared:    </th> <td>   0.846</td>\n",
       "</tr>\n",
       "<tr>\n",
       "  <th>Method:</th>             <td>Least Squares</td>  <th>  F-statistic:       </th> <td>   6625.</td>\n",
       "</tr>\n",
       "<tr>\n",
       "  <th>Date:</th>             <td>Tue, 20 Jun 2023</td> <th>  Prob (F-statistic):</th>  <td>  0.00</td> \n",
       "</tr>\n",
       "<tr>\n",
       "  <th>Time:</th>                 <td>22:51:08</td>     <th>  Log-Likelihood:    </th> <td> -287.16</td>\n",
       "</tr>\n",
       "<tr>\n",
       "  <th>No. Observations:</th>      <td>  6019</td>      <th>  AIC:               </th> <td>   586.3</td>\n",
       "</tr>\n",
       "<tr>\n",
       "  <th>Df Residuals:</th>          <td>  6013</td>      <th>  BIC:               </th> <td>   626.5</td>\n",
       "</tr>\n",
       "<tr>\n",
       "  <th>Df Model:</th>              <td>     5</td>      <th>                     </th>     <td> </td>   \n",
       "</tr>\n",
       "<tr>\n",
       "  <th>Covariance Type:</th>      <td>nonrobust</td>    <th>                     </th>     <td> </td>   \n",
       "</tr>\n",
       "</table>\n",
       "<table class=\"simpletable\">\n",
       "<tr>\n",
       "        <td></td>          <th>coef</th>     <th>std err</th>      <th>t</th>      <th>P>|t|</th>  <th>[0.025</th>    <th>0.975]</th>  \n",
       "</tr>\n",
       "<tr>\n",
       "  <th>Intercept</th>    <td>    2.0961</td> <td>    0.025</td> <td>   82.660</td> <td> 0.000</td> <td>    2.046</td> <td>    2.146</td>\n",
       "</tr>\n",
       "<tr>\n",
       "  <th>Fuel_Type</th>    <td>    0.0396</td> <td>    0.001</td> <td>   38.602</td> <td> 0.000</td> <td>    0.038</td> <td>    0.042</td>\n",
       "</tr>\n",
       "<tr>\n",
       "  <th>Transmission</th> <td>    0.0171</td> <td>    0.001</td> <td>   27.476</td> <td> 0.000</td> <td>    0.016</td> <td>    0.018</td>\n",
       "</tr>\n",
       "<tr>\n",
       "  <th>Mileage</th>      <td>   -0.0242</td> <td>    0.001</td> <td>  -27.275</td> <td> 0.000</td> <td>   -0.026</td> <td>   -0.022</td>\n",
       "</tr>\n",
       "<tr>\n",
       "  <th>Car_Make</th>     <td>    0.0300</td> <td>    0.000</td> <td>   61.649</td> <td> 0.000</td> <td>    0.029</td> <td>    0.031</td>\n",
       "</tr>\n",
       "<tr>\n",
       "  <th>car_age</th>      <td>   -0.0977</td> <td>    0.001</td> <td>  -88.311</td> <td> 0.000</td> <td>   -0.100</td> <td>   -0.095</td>\n",
       "</tr>\n",
       "</table>\n",
       "<table class=\"simpletable\">\n",
       "<tr>\n",
       "  <th>Omnibus:</th>       <td>1216.787</td> <th>  Durbin-Watson:     </th> <td>   1.984</td>\n",
       "</tr>\n",
       "<tr>\n",
       "  <th>Prob(Omnibus):</th>  <td> 0.000</td>  <th>  Jarque-Bera (JB):  </th> <td>4732.454</td>\n",
       "</tr>\n",
       "<tr>\n",
       "  <th>Skew:</th>           <td>-0.961</td>  <th>  Prob(JB):          </th> <td>    0.00</td>\n",
       "</tr>\n",
       "<tr>\n",
       "  <th>Kurtosis:</th>       <td> 6.895</td>  <th>  Cond. No.          </th> <td>    209.</td>\n",
       "</tr>\n",
       "</table><br/><br/>Notes:<br/>[1] Standard Errors assume that the covariance matrix of the errors is correctly specified."
      ],
      "text/plain": [
       "<class 'statsmodels.iolib.summary.Summary'>\n",
       "\"\"\"\n",
       "                            OLS Regression Results                            \n",
       "==============================================================================\n",
       "Dep. Variable:                  Price   R-squared:                       0.846\n",
       "Model:                            OLS   Adj. R-squared:                  0.846\n",
       "Method:                 Least Squares   F-statistic:                     6625.\n",
       "Date:                Tue, 20 Jun 2023   Prob (F-statistic):               0.00\n",
       "Time:                        22:51:08   Log-Likelihood:                -287.16\n",
       "No. Observations:                6019   AIC:                             586.3\n",
       "Df Residuals:                    6013   BIC:                             626.5\n",
       "Df Model:                           5                                         \n",
       "Covariance Type:            nonrobust                                         \n",
       "================================================================================\n",
       "                   coef    std err          t      P>|t|      [0.025      0.975]\n",
       "--------------------------------------------------------------------------------\n",
       "Intercept        2.0961      0.025     82.660      0.000       2.046       2.146\n",
       "Fuel_Type        0.0396      0.001     38.602      0.000       0.038       0.042\n",
       "Transmission     0.0171      0.001     27.476      0.000       0.016       0.018\n",
       "Mileage         -0.0242      0.001    -27.275      0.000      -0.026      -0.022\n",
       "Car_Make         0.0300      0.000     61.649      0.000       0.029       0.031\n",
       "car_age         -0.0977      0.001    -88.311      0.000      -0.100      -0.095\n",
       "==============================================================================\n",
       "Omnibus:                     1216.787   Durbin-Watson:                   1.984\n",
       "Prob(Omnibus):                  0.000   Jarque-Bera (JB):             4732.454\n",
       "Skew:                          -0.961   Prob(JB):                         0.00\n",
       "Kurtosis:                       6.895   Cond. No.                         209.\n",
       "==============================================================================\n",
       "\n",
       "Notes:\n",
       "[1] Standard Errors assume that the covariance matrix of the errors is correctly specified.\n",
       "\"\"\""
      ]
     },
     "execution_count": 100,
     "metadata": {},
     "output_type": "execute_result"
    }
   ],
   "source": [
    "mod = sm.OLS(m,n)\n",
    "sixth = mod.fit()\n",
    "sixth.summary()"
   ]
  },
  {
   "cell_type": "code",
   "execution_count": 101,
   "id": "77c60791",
   "metadata": {},
   "outputs": [
    {
     "data": {
      "text/plain": [
       "[('Lagrange multiplier statistic', 356.3085740409424),\n",
       " ('p-value', 6.823609491577257e-74),\n",
       " ('f-value', 63.047968595349985),\n",
       " ('f p-value', 3.477174917097395e-76)]"
      ]
     },
     "execution_count": 101,
     "metadata": {},
     "output_type": "execute_result"
    }
   ],
   "source": [
    "names = ['Lagrange multiplier statistic', 'p-value',\n",
    "         'f-value', 'f p-value']\n",
    "\n",
    "test_result_fifth = sms.het_breuschpagan(sixth.resid, fifth.model.exog)\n",
    "lzip(names, test_result_fifth)"
   ]
  },
  {
   "cell_type": "code",
   "execution_count": 102,
   "id": "0c8ce4f0",
   "metadata": {},
   "outputs": [
    {
     "data": {
      "image/png": "[encoded data removed]",
      "text/plain": [
       "<Figure size 640x480 with 1 Axes>"
      ]
     },
     "metadata": {},
     "output_type": "display_data"
    }
   ],
   "source": [
    "ss.probplot(sixth.resid, dist=\"norm\", plot=pylab)\n",
    "pylab.show()"
   ]
  },
  {
   "cell_type": "code",
   "execution_count": 103,
   "id": "e19f98e5",
   "metadata": {},
   "outputs": [
    {
     "name": "stderr",
     "output_type": "stream",
     "text": [
      "C:\\Users\\ramit\\AppData\\Local\\Temp\\ipykernel_21968\\2350550924.py:3: UserWarning: \n",
      "\n",
      "`distplot` is a deprecated function and will be removed in seaborn v0.14.0.\n",
      "\n",
      "Please adapt your code to use either `displot` (a figure-level function with\n",
      "similar flexibility) or `histplot` (an axes-level function for histograms).\n",
      "\n",
      "For a guide to updating your code to use the new functions, please see\n",
      "https://gist.github.com/mwaskom/de44147ed2974457ad6372750bbe5751\n",
      "\n",
      "  sns.distplot(sixth.resid)\n"
     ]
    },
    {
     "data": {
      "image/png": "[encoded data removed]",
      "text/plain": [
       "<Figure size 1200x600 with 1 Axes>"
      ]
     },
     "metadata": {},
     "output_type": "display_data"
    }
   ],
   "source": [
    "plt.subplots(figsize = (12, 6))\n",
    "plt.title('Distribution of error')\n",
    "sns.distplot(sixth.resid)\n",
    "plt.show()"
   ]
  },
  {
   "cell_type": "code",
   "execution_count": 104,
   "id": "40077296",
   "metadata": {},
   "outputs": [],
   "source": [
    "p,q = dmatrices('Price ~ Fuel_Type+Mileage+Car_Make+car_age',data=df5,return_type='dataframe')"
   ]
  },
  {
   "cell_type": "code",
   "execution_count": 105,
   "id": "cf5514c3",
   "metadata": {},
   "outputs": [
    {
     "data": {
      "text/html": [
       "<table class=\"simpletable\">\n",
       "<caption>OLS Regression Results</caption>\n",
       "<tr>\n",
       "  <th>Dep. Variable:</th>          <td>Price</td>      <th>  R-squared:         </th> <td>   0.827</td>\n",
       "</tr>\n",
       "<tr>\n",
       "  <th>Model:</th>                   <td>OLS</td>       <th>  Adj. R-squared:    </th> <td>   0.827</td>\n",
       "</tr>\n",
       "<tr>\n",
       "  <th>Method:</th>             <td>Least Squares</td>  <th>  F-statistic:       </th> <td>   7191.</td>\n",
       "</tr>\n",
       "<tr>\n",
       "  <th>Date:</th>             <td>Tue, 20 Jun 2023</td> <th>  Prob (F-statistic):</th>  <td>  0.00</td> \n",
       "</tr>\n",
       "<tr>\n",
       "  <th>Time:</th>                 <td>22:51:09</td>     <th>  Log-Likelihood:    </th> <td> -643.09</td>\n",
       "</tr>\n",
       "<tr>\n",
       "  <th>No. Observations:</th>      <td>  6019</td>      <th>  AIC:               </th> <td>   1296.</td>\n",
       "</tr>\n",
       "<tr>\n",
       "  <th>Df Residuals:</th>          <td>  6014</td>      <th>  BIC:               </th> <td>   1330.</td>\n",
       "</tr>\n",
       "<tr>\n",
       "  <th>Df Model:</th>              <td>     4</td>      <th>                     </th>     <td> </td>   \n",
       "</tr>\n",
       "<tr>\n",
       "  <th>Covariance Type:</th>      <td>nonrobust</td>    <th>                     </th>     <td> </td>   \n",
       "</tr>\n",
       "</table>\n",
       "<table class=\"simpletable\">\n",
       "<tr>\n",
       "      <td></td>         <th>coef</th>     <th>std err</th>      <th>t</th>      <th>P>|t|</th>  <th>[0.025</th>    <th>0.975]</th>  \n",
       "</tr>\n",
       "<tr>\n",
       "  <th>Intercept</th> <td>    2.2876</td> <td>    0.026</td> <td>   88.444</td> <td> 0.000</td> <td>    2.237</td> <td>    2.338</td>\n",
       "</tr>\n",
       "<tr>\n",
       "  <th>Fuel_Type</th> <td>    0.0381</td> <td>    0.001</td> <td>   35.058</td> <td> 0.000</td> <td>    0.036</td> <td>    0.040</td>\n",
       "</tr>\n",
       "<tr>\n",
       "  <th>Mileage</th>   <td>   -0.0273</td> <td>    0.001</td> <td>  -29.296</td> <td> 0.000</td> <td>   -0.029</td> <td>   -0.026</td>\n",
       "</tr>\n",
       "<tr>\n",
       "  <th>Car_Make</th>  <td>    0.0368</td> <td>    0.000</td> <td>   83.338</td> <td> 0.000</td> <td>    0.036</td> <td>    0.038</td>\n",
       "</tr>\n",
       "<tr>\n",
       "  <th>car_age</th>   <td>   -0.1003</td> <td>    0.001</td> <td>  -85.887</td> <td> 0.000</td> <td>   -0.103</td> <td>   -0.098</td>\n",
       "</tr>\n",
       "</table>\n",
       "<table class=\"simpletable\">\n",
       "<tr>\n",
       "  <th>Omnibus:</th>       <td>1302.433</td> <th>  Durbin-Watson:     </th> <td>   2.002</td>\n",
       "</tr>\n",
       "<tr>\n",
       "  <th>Prob(Omnibus):</th>  <td> 0.000</td>  <th>  Jarque-Bera (JB):  </th> <td>5665.922</td>\n",
       "</tr>\n",
       "<tr>\n",
       "  <th>Skew:</th>           <td>-0.996</td>  <th>  Prob(JB):          </th> <td>    0.00</td>\n",
       "</tr>\n",
       "<tr>\n",
       "  <th>Kurtosis:</th>       <td> 7.316</td>  <th>  Cond. No.          </th> <td>    187.</td>\n",
       "</tr>\n",
       "</table><br/><br/>Notes:<br/>[1] Standard Errors assume that the covariance matrix of the errors is correctly specified."
      ],
      "text/plain": [
       "<class 'statsmodels.iolib.summary.Summary'>\n",
       "\"\"\"\n",
       "                            OLS Regression Results                            \n",
       "==============================================================================\n",
       "Dep. Variable:                  Price   R-squared:                       0.827\n",
       "Model:                            OLS   Adj. R-squared:                  0.827\n",
       "Method:                 Least Squares   F-statistic:                     7191.\n",
       "Date:                Tue, 20 Jun 2023   Prob (F-statistic):               0.00\n",
       "Time:                        22:51:09   Log-Likelihood:                -643.09\n",
       "No. Observations:                6019   AIC:                             1296.\n",
       "Df Residuals:                    6014   BIC:                             1330.\n",
       "Df Model:                           4                                         \n",
       "Covariance Type:            nonrobust                                         \n",
       "==============================================================================\n",
       "                 coef    std err          t      P>|t|      [0.025      0.975]\n",
       "------------------------------------------------------------------------------\n",
       "Intercept      2.2876      0.026     88.444      0.000       2.237       2.338\n",
       "Fuel_Type      0.0381      0.001     35.058      0.000       0.036       0.040\n",
       "Mileage       -0.0273      0.001    -29.296      0.000      -0.029      -0.026\n",
       "Car_Make       0.0368      0.000     83.338      0.000       0.036       0.038\n",
       "car_age       -0.1003      0.001    -85.887      0.000      -0.103      -0.098\n",
       "==============================================================================\n",
       "Omnibus:                     1302.433   Durbin-Watson:                   2.002\n",
       "Prob(Omnibus):                  0.000   Jarque-Bera (JB):             5665.922\n",
       "Skew:                          -0.996   Prob(JB):                         0.00\n",
       "Kurtosis:                       7.316   Cond. No.                         187.\n",
       "==============================================================================\n",
       "\n",
       "Notes:\n",
       "[1] Standard Errors assume that the covariance matrix of the errors is correctly specified.\n",
       "\"\"\""
      ]
     },
     "execution_count": 105,
     "metadata": {},
     "output_type": "execute_result"
    }
   ],
   "source": [
    "mod = sm.OLS(p,q)\n",
    "sixth = mod.fit()\n",
    "sixth.summary()"
   ]
  },
  {
   "cell_type": "code",
   "execution_count": 106,
   "id": "4499ef79",
   "metadata": {},
   "outputs": [
    {
     "data": {
      "text/plain": [
       "[('Lagrange multiplier statistic', 521.3283393864624),\n",
       " ('p-value', 1.6320510155850134e-111),\n",
       " ('f-value', 142.57256647081624),\n",
       " ('f p-value', 1.2744776075639547e-116)]"
      ]
     },
     "execution_count": 106,
     "metadata": {},
     "output_type": "execute_result"
    }
   ],
   "source": [
    "names = ['Lagrange multiplier statistic', 'p-value',\n",
    "         'f-value', 'f p-value']\n",
    "\n",
    "test_result_sixth = sms.het_breuschpagan(sixth.resid, sixth.model.exog)\n",
    "lzip(names, test_result_sixth)"
   ]
  },
  {
   "cell_type": "code",
   "execution_count": 107,
   "id": "150e2f2a",
   "metadata": {},
   "outputs": [
    {
     "data": {
      "image/png": "[encoded data removed]",
      "text/plain": [
       "<Figure size 640x480 with 1 Axes>"
      ]
     },
     "metadata": {},
     "output_type": "display_data"
    }
   ],
   "source": [
    "ss.probplot(sixth.resid, dist=\"norm\", plot=pylab)\n",
    "pylab.show()"
   ]
  },
  {
   "cell_type": "code",
   "execution_count": 108,
   "id": "283ff73d",
   "metadata": {},
   "outputs": [
    {
     "name": "stderr",
     "output_type": "stream",
     "text": [
      "C:\\Users\\ramit\\AppData\\Local\\Temp\\ipykernel_21968\\2350550924.py:3: UserWarning: \n",
      "\n",
      "`distplot` is a deprecated function and will be removed in seaborn v0.14.0.\n",
      "\n",
      "Please adapt your code to use either `displot` (a figure-level function with\n",
      "similar flexibility) or `histplot` (an axes-level function for histograms).\n",
      "\n",
      "For a guide to updating your code to use the new functions, please see\n",
      "https://gist.github.com/mwaskom/de44147ed2974457ad6372750bbe5751\n",
      "\n",
      "  sns.distplot(sixth.resid)\n"
     ]
    },
    {
     "data": {
      "image/png": "[encoded data removed]",
      "text/plain": [
       "<Figure size 1200x600 with 1 Axes>"
      ]
     },
     "metadata": {},
     "output_type": "display_data"
    }
   ],
   "source": [
    "plt.subplots(figsize = (12, 6))\n",
    "plt.title('Distribution of error')\n",
    "sns.distplot(sixth.resid)\n",
    "plt.show()"
   ]
  },
  {
   "cell_type": "code",
   "execution_count": 109,
   "id": "914af1fd",
   "metadata": {},
   "outputs": [],
   "source": [
    "e,f = dmatrices('Price ~ Car_Make+car_age',data=df5,return_type='dataframe')"
   ]
  },
  {
   "cell_type": "code",
   "execution_count": 110,
   "id": "cce09d49",
   "metadata": {},
   "outputs": [
    {
     "data": {
      "text/html": [
       "<table class=\"simpletable\">\n",
       "<caption>OLS Regression Results</caption>\n",
       "<tr>\n",
       "  <th>Dep. Variable:</th>          <td>Price</td>      <th>  R-squared:         </th> <td>   0.779</td> \n",
       "</tr>\n",
       "<tr>\n",
       "  <th>Model:</th>                   <td>OLS</td>       <th>  Adj. R-squared:    </th> <td>   0.779</td> \n",
       "</tr>\n",
       "<tr>\n",
       "  <th>Method:</th>             <td>Least Squares</td>  <th>  F-statistic:       </th> <td>1.061e+04</td>\n",
       "</tr>\n",
       "<tr>\n",
       "  <th>Date:</th>             <td>Tue, 20 Jun 2023</td> <th>  Prob (F-statistic):</th>  <td>  0.00</td>  \n",
       "</tr>\n",
       "<tr>\n",
       "  <th>Time:</th>                 <td>22:51:10</td>     <th>  Log-Likelihood:    </th> <td> -1379.1</td> \n",
       "</tr>\n",
       "<tr>\n",
       "  <th>No. Observations:</th>      <td>  6019</td>      <th>  AIC:               </th> <td>   2764.</td> \n",
       "</tr>\n",
       "<tr>\n",
       "  <th>Df Residuals:</th>          <td>  6016</td>      <th>  BIC:               </th> <td>   2784.</td> \n",
       "</tr>\n",
       "<tr>\n",
       "  <th>Df Model:</th>              <td>     2</td>      <th>                     </th>     <td> </td>    \n",
       "</tr>\n",
       "<tr>\n",
       "  <th>Covariance Type:</th>      <td>nonrobust</td>    <th>                     </th>     <td> </td>    \n",
       "</tr>\n",
       "</table>\n",
       "<table class=\"simpletable\">\n",
       "<tr>\n",
       "      <td></td>         <th>coef</th>     <th>std err</th>      <th>t</th>      <th>P>|t|</th>  <th>[0.025</th>    <th>0.975]</th>  \n",
       "</tr>\n",
       "<tr>\n",
       "  <th>Intercept</th> <td>    1.9621</td> <td>    0.013</td> <td>  147.826</td> <td> 0.000</td> <td>    1.936</td> <td>    1.988</td>\n",
       "</tr>\n",
       "<tr>\n",
       "  <th>Car_Make</th>  <td>    0.0470</td> <td>    0.000</td> <td>  115.940</td> <td> 0.000</td> <td>    0.046</td> <td>    0.048</td>\n",
       "</tr>\n",
       "<tr>\n",
       "  <th>car_age</th>   <td>   -0.0897</td> <td>    0.001</td> <td>  -74.231</td> <td> 0.000</td> <td>   -0.092</td> <td>   -0.087</td>\n",
       "</tr>\n",
       "</table>\n",
       "<table class=\"simpletable\">\n",
       "<tr>\n",
       "  <th>Omnibus:</th>       <td>1592.719</td> <th>  Durbin-Watson:     </th> <td>   1.987</td>\n",
       "</tr>\n",
       "<tr>\n",
       "  <th>Prob(Omnibus):</th>  <td> 0.000</td>  <th>  Jarque-Bera (JB):  </th> <td>9389.628</td>\n",
       "</tr>\n",
       "<tr>\n",
       "  <th>Skew:</th>           <td>-1.134</td>  <th>  Prob(JB):          </th> <td>    0.00</td>\n",
       "</tr>\n",
       "<tr>\n",
       "  <th>Kurtosis:</th>       <td> 8.683</td>  <th>  Cond. No.          </th> <td>    52.8</td>\n",
       "</tr>\n",
       "</table><br/><br/>Notes:<br/>[1] Standard Errors assume that the covariance matrix of the errors is correctly specified."
      ],
      "text/plain": [
       "<class 'statsmodels.iolib.summary.Summary'>\n",
       "\"\"\"\n",
       "                            OLS Regression Results                            \n",
       "==============================================================================\n",
       "Dep. Variable:                  Price   R-squared:                       0.779\n",
       "Model:                            OLS   Adj. R-squared:                  0.779\n",
       "Method:                 Least Squares   F-statistic:                 1.061e+04\n",
       "Date:                Tue, 20 Jun 2023   Prob (F-statistic):               0.00\n",
       "Time:                        22:51:10   Log-Likelihood:                -1379.1\n",
       "No. Observations:                6019   AIC:                             2764.\n",
       "Df Residuals:                    6016   BIC:                             2784.\n",
       "Df Model:                           2                                         \n",
       "Covariance Type:            nonrobust                                         \n",
       "==============================================================================\n",
       "                 coef    std err          t      P>|t|      [0.025      0.975]\n",
       "------------------------------------------------------------------------------\n",
       "Intercept      1.9621      0.013    147.826      0.000       1.936       1.988\n",
       "Car_Make       0.0470      0.000    115.940      0.000       0.046       0.048\n",
       "car_age       -0.0897      0.001    -74.231      0.000      -0.092      -0.087\n",
       "==============================================================================\n",
       "Omnibus:                     1592.719   Durbin-Watson:                   1.987\n",
       "Prob(Omnibus):                  0.000   Jarque-Bera (JB):             9389.628\n",
       "Skew:                          -1.134   Prob(JB):                         0.00\n",
       "Kurtosis:                       8.683   Cond. No.                         52.8\n",
       "==============================================================================\n",
       "\n",
       "Notes:\n",
       "[1] Standard Errors assume that the covariance matrix of the errors is correctly specified.\n",
       "\"\"\""
      ]
     },
     "execution_count": 110,
     "metadata": {},
     "output_type": "execute_result"
    }
   ],
   "source": [
    "mod = sm.OLS(e,f)\n",
    "seventh = mod.fit()\n",
    "seventh.summary()"
   ]
  },
  {
   "cell_type": "code",
   "execution_count": 111,
   "id": "56bbf0fa",
   "metadata": {},
   "outputs": [
    {
     "data": {
      "text/plain": [
       "[('Lagrange multiplier statistic', 663.6368027920681),\n",
       " ('p-value', 7.818065051752012e-145),\n",
       " ('f-value', 372.75146974892175),\n",
       " ('f p-value', 2.442732523752183e-153)]"
      ]
     },
     "execution_count": 111,
     "metadata": {},
     "output_type": "execute_result"
    }
   ],
   "source": [
    "names = ['Lagrange multiplier statistic', 'p-value',\n",
    "         'f-value', 'f p-value']\n",
    "\n",
    "test_result_sev = sms.het_breuschpagan(seventh.resid, seventh.model.exog)\n",
    "lzip(names, test_result_sev)"
   ]
  },
  {
   "cell_type": "code",
   "execution_count": 112,
   "id": "2346893b",
   "metadata": {},
   "outputs": [
    {
     "data": {
      "image/png": "[encoded data removed]",
      "text/plain": [
       "<Figure size 640x480 with 1 Axes>"
      ]
     },
     "metadata": {},
     "output_type": "display_data"
    }
   ],
   "source": [
    "ss.probplot(seventh.resid, dist=\"norm\", plot=pylab)\n",
    "pylab.show()"
   ]
  },
  {
   "cell_type": "code",
   "execution_count": 113,
   "id": "f2e06778",
   "metadata": {},
   "outputs": [
    {
     "name": "stderr",
     "output_type": "stream",
     "text": [
      "C:\\Users\\ramit\\AppData\\Local\\Temp\\ipykernel_21968\\1312681104.py:3: UserWarning: \n",
      "\n",
      "`distplot` is a deprecated function and will be removed in seaborn v0.14.0.\n",
      "\n",
      "Please adapt your code to use either `displot` (a figure-level function with\n",
      "similar flexibility) or `histplot` (an axes-level function for histograms).\n",
      "\n",
      "For a guide to updating your code to use the new functions, please see\n",
      "https://gist.github.com/mwaskom/de44147ed2974457ad6372750bbe5751\n",
      "\n",
      "  sns.distplot(seventh.resid)\n"
     ]
    },
    {
     "data": {
      "image/png": "[encoded data removed]",
      "text/plain": [
       "<Figure size 1200x600 with 1 Axes>"
      ]
     },
     "metadata": {},
     "output_type": "display_data"
    }
   ],
   "source": [
    "plt.subplots(figsize = (12, 6))\n",
    "plt.title('Distribution of error')\n",
    "sns.distplot(seventh.resid)\n",
    "plt.show()"
   ]
  },
  {
   "cell_type": "code",
   "execution_count": 114,
   "id": "685aca20",
   "metadata": {},
   "outputs": [],
   "source": [
    "X = df6.drop(['Price'],axis=1)\n",
    "y = df6['Price']"
   ]
  },
  {
   "cell_type": "code",
   "execution_count": 115,
   "id": "042bfb6c",
   "metadata": {},
   "outputs": [
    {
     "data": {
      "text/plain": [
       "array([0.0096417 , 0.01789746, 0.02963427, 0.0032117 , 0.0183153 ,\n",
       "       0.01768967, 0.00135203, 0.0022851 , 0.00284782, 0.74912038,\n",
       "       0.14800457])"
      ]
     },
     "execution_count": 115,
     "metadata": {},
     "output_type": "execute_result"
    }
   ],
   "source": [
    "rfr_model = RandomForestRegressor()\n",
    "rfr_model.fit(X,y)\n",
    "rfr_model.feature_importances_"
   ]
  },
  {
   "cell_type": "code",
   "execution_count": 116,
   "id": "bf25176e",
   "metadata": {},
   "outputs": [
    {
     "data": {
      "text/plain": [
       "<AxesSubplot:>"
      ]
     },
     "execution_count": 116,
     "metadata": {},
     "output_type": "execute_result"
    },
    {
     "data": {
      "image/png": "[encoded data removed]",
      "text/plain": [
       "<Figure size 640x480 with 1 Axes>"
      ]
     },
     "metadata": {},
     "output_type": "display_data"
    }
   ],
   "source": [
    "feature_imp = pd.Series(rfr_model.feature_importances_,index=X.columns)\n",
    "feature_imp.nlargest(20).plot(kind='barh')"
   ]
  },
  {
   "cell_type": "code",
   "execution_count": 117,
   "id": "ee4e1151",
   "metadata": {},
   "outputs": [],
   "source": [
    "X_train,X_test,y_train,y_test = train_test_split(X,y,test_size=0.3,random_state=42)"
   ]
  },
  {
   "cell_type": "code",
   "execution_count": 118,
   "id": "870bbdba",
   "metadata": {},
   "outputs": [],
   "source": [
    "model = LinearRegression()"
   ]
  },
  {
   "cell_type": "code",
   "execution_count": 119,
   "id": "edc2f613",
   "metadata": {},
   "outputs": [
    {
     "data": {
      "text/plain": [
       "LinearRegression()"
      ]
     },
     "execution_count": 119,
     "metadata": {},
     "output_type": "execute_result"
    }
   ],
   "source": [
    "model.fit(X_train,y_train)"
   ]
  },
  {
   "cell_type": "code",
   "execution_count": 120,
   "id": "88290fdc",
   "metadata": {},
   "outputs": [],
   "source": [
    "y_pred = model.predict(X_test)"
   ]
  },
  {
   "cell_type": "code",
   "execution_count": 121,
   "id": "d0e2dbbd",
   "metadata": {},
   "outputs": [],
   "source": [
    "y_pred_train=model.predict(X_train)"
   ]
  },
  {
   "cell_type": "code",
   "execution_count": 122,
   "id": "587623b3",
   "metadata": {},
   "outputs": [
    {
     "data": {
      "text/plain": [
       "0.8761888337257928"
      ]
     },
     "execution_count": 122,
     "metadata": {},
     "output_type": "execute_result"
    }
   ],
   "source": [
    "r2 = metrics.r2_score(y_test, y_pred)\n",
    "r2"
   ]
  },
  {
   "cell_type": "code",
   "execution_count": 123,
   "id": "e0cf60af",
   "metadata": {},
   "outputs": [
    {
     "data": {
      "text/plain": [
       "0.8838765993034703"
      ]
     },
     "execution_count": 123,
     "metadata": {},
     "output_type": "execute_result"
    }
   ],
   "source": [
    "r2 = metrics.r2_score(y_train, y_pred_train)\n",
    "r2"
   ]
  },
  {
   "cell_type": "code",
   "execution_count": null,
   "id": "1788c78e",
   "metadata": {},
   "outputs": [],
   "source": []
  },
  {
   "cell_type": "code",
   "execution_count": null,
   "id": "b766355a",
   "metadata": {},
   "outputs": [],
   "source": []
  },
  {
   "cell_type": "code",
   "execution_count": 124,
   "id": "96f1f92c",
   "metadata": {},
   "outputs": [],
   "source": [
    "scaler = StandardScaler()"
   ]
  },
  {
   "cell_type": "code",
   "execution_count": 125,
   "id": "ee4867e1",
   "metadata": {},
   "outputs": [],
   "source": [
    "X_train,X_test,y_train,y_test = train_test_split(X,y,test_size=0.3,random_state=42)"
   ]
  },
  {
   "cell_type": "code",
   "execution_count": 126,
   "id": "28b000a0",
   "metadata": {},
   "outputs": [],
   "source": [
    "X_train = pd.DataFrame(scaler.fit_transform(X_train),columns=X_train.columns)\n",
    "X_test = pd.DataFrame(scaler.transform(X_test),columns=X_test.columns)"
   ]
  },
  {
   "cell_type": "code",
   "execution_count": 127,
   "id": "895da443",
   "metadata": {},
   "outputs": [
    {
     "data": {
      "text/html": [
       "<div>\n",
       "<style scoped>\n",
       "    .dataframe tbody tr th:only-of-type {\n",
       "        vertical-align: middle;\n",
       "    }\n",
       "\n",
       "    .dataframe tbody tr th {\n",
       "        vertical-align: top;\n",
       "    }\n",
       "\n",
       "    .dataframe thead th {\n",
       "        text-align: right;\n",
       "    }\n",
       "</style>\n",
       "<table border=\"1\" class=\"dataframe\">\n",
       "  <thead>\n",
       "    <tr style=\"text-align: right;\">\n",
       "      <th></th>\n",
       "      <th>Mileage</th>\n",
       "      <th>Engine</th>\n",
       "      <th>Power</th>\n",
       "      <th>Seats</th>\n",
       "      <th>Location</th>\n",
       "      <th>Kilometers_Driven</th>\n",
       "      <th>Fuel_Type</th>\n",
       "      <th>Transmission</th>\n",
       "      <th>Owner_Type</th>\n",
       "      <th>Car_Make</th>\n",
       "      <th>car_age</th>\n",
       "    </tr>\n",
       "  </thead>\n",
       "  <tbody>\n",
       "    <tr>\n",
       "      <th>0</th>\n",
       "      <td>0.856267</td>\n",
       "      <td>-0.700735</td>\n",
       "      <td>-0.721669</td>\n",
       "      <td>-0.342525</td>\n",
       "      <td>-1.319958</td>\n",
       "      <td>0.511110</td>\n",
       "      <td>0.937364</td>\n",
       "      <td>-0.631457</td>\n",
       "      <td>0.424263</td>\n",
       "      <td>-0.563015</td>\n",
       "      <td>0.740267</td>\n",
       "    </tr>\n",
       "    <tr>\n",
       "      <th>1</th>\n",
       "      <td>0.482525</td>\n",
       "      <td>-0.704046</td>\n",
       "      <td>-0.628413</td>\n",
       "      <td>-0.342525</td>\n",
       "      <td>0.178152</td>\n",
       "      <td>-0.986539</td>\n",
       "      <td>-1.045408</td>\n",
       "      <td>-0.631457</td>\n",
       "      <td>0.424263</td>\n",
       "      <td>-0.666356</td>\n",
       "      <td>-0.804277</td>\n",
       "    </tr>\n",
       "    <tr>\n",
       "      <th>2</th>\n",
       "      <td>-0.667113</td>\n",
       "      <td>0.921920</td>\n",
       "      <td>0.511173</td>\n",
       "      <td>2.146936</td>\n",
       "      <td>0.552679</td>\n",
       "      <td>0.352638</td>\n",
       "      <td>0.937364</td>\n",
       "      <td>-0.631457</td>\n",
       "      <td>0.424263</td>\n",
       "      <td>0.057030</td>\n",
       "      <td>-0.186460</td>\n",
       "    </tr>\n",
       "    <tr>\n",
       "      <th>3</th>\n",
       "      <td>1.540368</td>\n",
       "      <td>-0.619602</td>\n",
       "      <td>-0.719804</td>\n",
       "      <td>-0.342525</td>\n",
       "      <td>-1.319958</td>\n",
       "      <td>1.513734</td>\n",
       "      <td>0.937364</td>\n",
       "      <td>-0.631457</td>\n",
       "      <td>0.424263</td>\n",
       "      <td>-0.459674</td>\n",
       "      <td>0.122449</td>\n",
       "    </tr>\n",
       "    <tr>\n",
       "      <th>4</th>\n",
       "      <td>-0.367682</td>\n",
       "      <td>-0.702390</td>\n",
       "      <td>-0.721669</td>\n",
       "      <td>-0.342525</td>\n",
       "      <td>0.552679</td>\n",
       "      <td>0.032098</td>\n",
       "      <td>-1.045408</td>\n",
       "      <td>-0.631457</td>\n",
       "      <td>0.424263</td>\n",
       "      <td>-0.563015</td>\n",
       "      <td>0.740267</td>\n",
       "    </tr>\n",
       "  </tbody>\n",
       "</table>\n",
       "</div>"
      ],
      "text/plain": [
       "    Mileage    Engine     Power     Seats  Location  Kilometers_Driven  \\\n",
       "0  0.856267 -0.700735 -0.721669 -0.342525 -1.319958           0.511110   \n",
       "1  0.482525 -0.704046 -0.628413 -0.342525  0.178152          -0.986539   \n",
       "2 -0.667113  0.921920  0.511173  2.146936  0.552679           0.352638   \n",
       "3  1.540368 -0.619602 -0.719804 -0.342525 -1.319958           1.513734   \n",
       "4 -0.367682 -0.702390 -0.721669 -0.342525  0.552679           0.032098   \n",
       "\n",
       "   Fuel_Type  Transmission  Owner_Type  Car_Make   car_age  \n",
       "0   0.937364     -0.631457    0.424263 -0.563015  0.740267  \n",
       "1  -1.045408     -0.631457    0.424263 -0.666356 -0.804277  \n",
       "2   0.937364     -0.631457    0.424263  0.057030 -0.186460  \n",
       "3   0.937364     -0.631457    0.424263 -0.459674  0.122449  \n",
       "4  -1.045408     -0.631457    0.424263 -0.563015  0.740267  "
      ]
     },
     "execution_count": 127,
     "metadata": {},
     "output_type": "execute_result"
    }
   ],
   "source": [
    "X_train.head()"
   ]
  },
  {
   "cell_type": "code",
   "execution_count": 128,
   "id": "956c079c",
   "metadata": {},
   "outputs": [],
   "source": [
    "model = LinearRegression()"
   ]
  },
  {
   "cell_type": "code",
   "execution_count": 129,
   "id": "19a0ce67",
   "metadata": {},
   "outputs": [
    {
     "data": {
      "text/plain": [
       "LinearRegression()"
      ]
     },
     "execution_count": 129,
     "metadata": {},
     "output_type": "execute_result"
    }
   ],
   "source": [
    "model.fit(X_train,y_train)"
   ]
  },
  {
   "cell_type": "code",
   "execution_count": 130,
   "id": "e317285a",
   "metadata": {},
   "outputs": [],
   "source": [
    "y_pred = model.predict(X_test)\n",
    "y_pred_train=model.predict(X_train)"
   ]
  },
  {
   "cell_type": "code",
   "execution_count": 131,
   "id": "b1353481",
   "metadata": {},
   "outputs": [
    {
     "data": {
      "text/plain": [
       "0.876188833725796"
      ]
     },
     "execution_count": 131,
     "metadata": {},
     "output_type": "execute_result"
    }
   ],
   "source": [
    "r2 = metrics.r2_score(y_test, y_pred)\n",
    "r2"
   ]
  },
  {
   "cell_type": "code",
   "execution_count": 132,
   "id": "4d5201d8",
   "metadata": {},
   "outputs": [
    {
     "data": {
      "text/plain": [
       "0.8838765993034704"
      ]
     },
     "execution_count": 132,
     "metadata": {},
     "output_type": "execute_result"
    }
   ],
   "source": [
    "r2 = metrics.r2_score(y_train, y_pred_train)\n",
    "r2"
   ]
  },
  {
   "cell_type": "code",
   "execution_count": 133,
   "id": "56f2d97f",
   "metadata": {},
   "outputs": [
    {
     "data": {
      "text/plain": [
       "<matplotlib.collections.PathCollection at 0x1beeda304f0>"
      ]
     },
     "execution_count": 133,
     "metadata": {},
     "output_type": "execute_result"
    },
    {
     "data": {
      "image/png": "[encoded data removed]",
      "text/plain": [
       "<Figure size 640x480 with 1 Axes>"
      ]
     },
     "metadata": {},
     "output_type": "display_data"
    }
   ],
   "source": [
    "plt.scatter(y_test,y_pred)"
   ]
  },
  {
   "cell_type": "code",
   "execution_count": 134,
   "id": "023826f3",
   "metadata": {},
   "outputs": [
    {
     "data": {
      "text/plain": [
       "0.053894792424205765"
      ]
     },
     "execution_count": 134,
     "metadata": {},
     "output_type": "execute_result"
    }
   ],
   "source": [
    "mse_lr = metrics.mean_squared_error(y_test, y_pred)\n",
    "mse_lr"
   ]
  },
  {
   "cell_type": "code",
   "execution_count": 135,
   "id": "3075dd81",
   "metadata": {},
   "outputs": [
    {
     "data": {
      "text/plain": [
       "0.2321525197455452"
      ]
     },
     "execution_count": 135,
     "metadata": {},
     "output_type": "execute_result"
    }
   ],
   "source": [
    "rmse_lr = metrics.mean_squared_error(y_test, y_pred,squared=False)\n",
    "rmse_lr"
   ]
  },
  {
   "cell_type": "code",
   "execution_count": 136,
   "id": "7fe141d4",
   "metadata": {},
   "outputs": [],
   "source": [
    "df_lr=df6.copy()"
   ]
  },
  {
   "cell_type": "code",
   "execution_count": 137,
   "id": "72f24860",
   "metadata": {},
   "outputs": [],
   "source": [
    "#df_reg=df_lr.drop(['Owner_Type','Mileage','Seats','Price','Kilometers_Driven'],axis=1)"
   ]
  },
  {
   "cell_type": "code",
   "execution_count": 138,
   "id": "226101ec",
   "metadata": {},
   "outputs": [],
   "source": [
    "df_reg=df_lr.drop(['Owner_Type','Seats','Price','Fuel_Type',\"Transmission\"],axis=1)"
   ]
  },
  {
   "cell_type": "code",
   "execution_count": 139,
   "id": "51f106db",
   "metadata": {},
   "outputs": [],
   "source": [
    "y=df6['Price']"
   ]
  },
  {
   "cell_type": "code",
   "execution_count": 140,
   "id": "5b109dac",
   "metadata": {},
   "outputs": [
    {
     "data": {
      "text/html": [
       "<div>\n",
       "<style scoped>\n",
       "    .dataframe tbody tr th:only-of-type {\n",
       "        vertical-align: middle;\n",
       "    }\n",
       "\n",
       "    .dataframe tbody tr th {\n",
       "        vertical-align: top;\n",
       "    }\n",
       "\n",
       "    .dataframe thead th {\n",
       "        text-align: right;\n",
       "    }\n",
       "</style>\n",
       "<table border=\"1\" class=\"dataframe\">\n",
       "  <thead>\n",
       "    <tr style=\"text-align: right;\">\n",
       "      <th></th>\n",
       "      <th>Mileage</th>\n",
       "      <th>Engine</th>\n",
       "      <th>Power</th>\n",
       "      <th>Location</th>\n",
       "      <th>Kilometers_Driven</th>\n",
       "      <th>Car_Make</th>\n",
       "      <th>car_age</th>\n",
       "    </tr>\n",
       "  </thead>\n",
       "  <tbody>\n",
       "    <tr>\n",
       "      <th>0</th>\n",
       "      <td>26.60</td>\n",
       "      <td>998.0</td>\n",
       "      <td>58.16</td>\n",
       "      <td>9.0</td>\n",
       "      <td>72000</td>\n",
       "      <td>3.0</td>\n",
       "      <td>13</td>\n",
       "    </tr>\n",
       "    <tr>\n",
       "      <th>1</th>\n",
       "      <td>19.67</td>\n",
       "      <td>1582.0</td>\n",
       "      <td>126.20</td>\n",
       "      <td>7.0</td>\n",
       "      <td>41000</td>\n",
       "      <td>12.0</td>\n",
       "      <td>8</td>\n",
       "    </tr>\n",
       "    <tr>\n",
       "      <th>2</th>\n",
       "      <td>18.20</td>\n",
       "      <td>1199.0</td>\n",
       "      <td>88.70</td>\n",
       "      <td>8.0</td>\n",
       "      <td>46000</td>\n",
       "      <td>6.0</td>\n",
       "      <td>12</td>\n",
       "    </tr>\n",
       "    <tr>\n",
       "      <th>3</th>\n",
       "      <td>20.77</td>\n",
       "      <td>1248.0</td>\n",
       "      <td>88.76</td>\n",
       "      <td>8.0</td>\n",
       "      <td>87000</td>\n",
       "      <td>7.0</td>\n",
       "      <td>11</td>\n",
       "    </tr>\n",
       "    <tr>\n",
       "      <th>4</th>\n",
       "      <td>15.20</td>\n",
       "      <td>1968.0</td>\n",
       "      <td>140.80</td>\n",
       "      <td>15.0</td>\n",
       "      <td>40670</td>\n",
       "      <td>18.0</td>\n",
       "      <td>10</td>\n",
       "    </tr>\n",
       "  </tbody>\n",
       "</table>\n",
       "</div>"
      ],
      "text/plain": [
       "   Mileage  Engine   Power  Location  Kilometers_Driven  Car_Make  car_age\n",
       "0    26.60   998.0   58.16       9.0              72000       3.0       13\n",
       "1    19.67  1582.0  126.20       7.0              41000      12.0        8\n",
       "2    18.20  1199.0   88.70       8.0              46000       6.0       12\n",
       "3    20.77  1248.0   88.76       8.0              87000       7.0       11\n",
       "4    15.20  1968.0  140.80      15.0              40670      18.0       10"
      ]
     },
     "execution_count": 140,
     "metadata": {},
     "output_type": "execute_result"
    }
   ],
   "source": [
    "df_reg.head()"
   ]
  },
  {
   "cell_type": "code",
   "execution_count": 141,
   "id": "0162edf4",
   "metadata": {},
   "outputs": [],
   "source": [
    "X_train,X_test,y_train,y_test = train_test_split(df_reg,y,test_size=0.3,random_state=42)"
   ]
  },
  {
   "cell_type": "code",
   "execution_count": 142,
   "id": "fb51b813",
   "metadata": {},
   "outputs": [],
   "source": [
    "scaler = StandardScaler()"
   ]
  },
  {
   "cell_type": "code",
   "execution_count": 143,
   "id": "5fdcfe16",
   "metadata": {},
   "outputs": [],
   "source": [
    "X_train = pd.DataFrame(scaler.fit_transform(X_train),columns=X_train.columns)\n",
    "X_test = pd.DataFrame(scaler.transform(X_test),columns=X_test.columns)"
   ]
  },
  {
   "cell_type": "code",
   "execution_count": 144,
   "id": "eafd0c56",
   "metadata": {},
   "outputs": [],
   "source": [
    "model = LinearRegression()"
   ]
  },
  {
   "cell_type": "code",
   "execution_count": 145,
   "id": "901d9da6",
   "metadata": {},
   "outputs": [
    {
     "data": {
      "text/plain": [
       "LinearRegression()"
      ]
     },
     "execution_count": 145,
     "metadata": {},
     "output_type": "execute_result"
    }
   ],
   "source": [
    "model.fit(X_train,y_train)"
   ]
  },
  {
   "cell_type": "code",
   "execution_count": 146,
   "id": "8d3a57b3",
   "metadata": {},
   "outputs": [],
   "source": [
    "y_pred = model.predict(X_test)\n",
    "y_pred_train=model.predict(X_train)"
   ]
  },
  {
   "cell_type": "code",
   "execution_count": 147,
   "id": "cf80a17d",
   "metadata": {},
   "outputs": [
    {
     "data": {
      "text/plain": [
       "0.8558459649440441"
      ]
     },
     "execution_count": 147,
     "metadata": {},
     "output_type": "execute_result"
    }
   ],
   "source": [
    "r2 = metrics.r2_score(y_test, y_pred)\n",
    "r2"
   ]
  },
  {
   "cell_type": "code",
   "execution_count": 148,
   "id": "3afdc317",
   "metadata": {},
   "outputs": [
    {
     "data": {
      "text/plain": [
       "0.8564936012602473"
      ]
     },
     "execution_count": 148,
     "metadata": {},
     "output_type": "execute_result"
    }
   ],
   "source": [
    "r2 = metrics.r2_score(y_train, y_pred_train)\n",
    "r2"
   ]
  },
  {
   "cell_type": "code",
   "execution_count": 149,
   "id": "0ec612de",
   "metadata": {},
   "outputs": [
    {
     "data": {
      "text/plain": [
       "<matplotlib.collections.PathCollection at 0x1beee87e700>"
      ]
     },
     "execution_count": 149,
     "metadata": {},
     "output_type": "execute_result"
    },
    {
     "data": {
      "image/png": "[encoded data removed]",
      "text/plain": [
       "<Figure size 640x480 with 1 Axes>"
      ]
     },
     "metadata": {},
     "output_type": "display_data"
    }
   ],
   "source": [
    "plt.scatter(y_test,y_pred)"
   ]
  },
  {
   "cell_type": "code",
   "execution_count": 150,
   "id": "f7825726",
   "metadata": {},
   "outputs": [
    {
     "data": {
      "text/plain": [
       "0.06275000898744562"
      ]
     },
     "execution_count": 150,
     "metadata": {},
     "output_type": "execute_result"
    }
   ],
   "source": [
    "mse_lr = metrics.mean_squared_error(y_test, y_pred)\n",
    "mse_lr"
   ]
  },
  {
   "cell_type": "code",
   "execution_count": 151,
   "id": "50b1e6e0",
   "metadata": {},
   "outputs": [
    {
     "data": {
      "text/plain": [
       "0.2504995189365553"
      ]
     },
     "execution_count": 151,
     "metadata": {},
     "output_type": "execute_result"
    }
   ],
   "source": [
    "rmse_lr = metrics.mean_squared_error(y_test, y_pred,squared=False)\n",
    "rmse_lr"
   ]
  },
  {
   "cell_type": "code",
   "execution_count": 172,
   "id": "1f286010",
   "metadata": {},
   "outputs": [
    {
     "name": "stdout",
     "output_type": "stream",
     "text": [
      "0.9289705429375055\n",
      "0.9578424003367771\n"
     ]
    }
   ],
   "source": [
    "from sklearn.model_selection import GridSearchCV\n",
    "import numpy as np\n",
    "\n",
    "max_features_range = np.arange(1,5,1)\n",
    "n_estimators_range = np.arange(100,150,50)\n",
    "param_grid = dict(max_features=max_features_range, n_estimators=n_estimators_range,max_depth=[1,2,3,4,5,6,7,8])\n",
    "\n",
    "rf_regressor = RandomForestRegressor(n_jobs = -1)\n",
    "grid_cv = GridSearchCV(estimator=rf_regressor, param_grid=param_grid, cv=3)\n",
    "\n",
    "grid_cv.fit(X_train,y_train)\n",
    "print(grid_cv.score(X_test,y_test))\n",
    "print(grid_cv.score(X_train,y_train))"
   ]
  },
  {
   "cell_type": "code",
   "execution_count": 153,
   "id": "0fd751fe",
   "metadata": {},
   "outputs": [],
   "source": [
    "y_pred=grid_cv.predict(X_test)"
   ]
  },
  {
   "cell_type": "code",
   "execution_count": 154,
   "id": "428cc3c2",
   "metadata": {},
   "outputs": [
    {
     "name": "stdout",
     "output_type": "stream",
     "text": [
      "RMSE for Random Forest Regression is 0.1767794670497933\n"
     ]
    }
   ],
   "source": [
    "print(f\"RMSE for Random Forest Regression is {metrics.mean_squared_error(y_test, y_pred,squared=False)}\")"
   ]
  },
  {
   "cell_type": "code",
   "execution_count": 155,
   "id": "eff507b4",
   "metadata": {},
   "outputs": [
    {
     "name": "stdout",
     "output_type": "stream",
     "text": [
      "MSE for Random Forest Regression is 0.03125097997040895\n"
     ]
    }
   ],
   "source": [
    "print(f\"MSE for Random Forest Regression is {metrics.mean_squared_error(y_test, y_pred)}\")"
   ]
  },
  {
   "cell_type": "code",
   "execution_count": 171,
   "id": "4740d611",
   "metadata": {},
   "outputs": [
    {
     "name": "stdout",
     "output_type": "stream",
     "text": [
      "0.9060258565935093\n",
      "0.9320139805232576\n"
     ]
    }
   ],
   "source": [
    "from sklearn.model_selection import GridSearchCV\n",
    "import numpy as np\n",
    "\n",
    "max_features_range = np.arange(1,8,1)\n",
    "param_grid = dict(max_features=max_features_range,max_depth=[1,2,3,4,5,6,7])\n",
    "\n",
    "dt_regressor = DecisionTreeRegressor()\n",
    "grid_cv = GridSearchCV(estimator=dt_regressor, param_grid=param_grid, cv=10)\n",
    "\n",
    "grid_cv.fit(X_train,y_train)\n",
    "print(grid_cv.score(X_test,y_test))\n",
    "print(grid_cv.score(X_train,y_train))"
   ]
  },
  {
   "cell_type": "code",
   "execution_count": 160,
   "id": "17bb1d5b",
   "metadata": {},
   "outputs": [],
   "source": [
    "X_r = df6.drop(['Price'],axis=1)\n",
    "y_r = df6['Price']"
   ]
  },
  {
   "cell_type": "code",
   "execution_count": 161,
   "id": "a91a4b16",
   "metadata": {},
   "outputs": [],
   "source": [
    "X_train,X_test,y_train,y_test = train_test_split(X_r,y_r,test_size=0.3,random_state=42)"
   ]
  },
  {
   "cell_type": "code",
   "execution_count": 162,
   "id": "0ed290e8",
   "metadata": {},
   "outputs": [
    {
     "name": "stdout",
     "output_type": "stream",
     "text": [
      "0.99\n"
     ]
    }
   ],
   "source": [
    "#define cross-validation method to evaluate model\n",
    "cv = RepeatedKFold(n_splits=10, n_repeats=3, random_state=1)\n",
    "\n",
    "#define model\n",
    "model = RidgeCV(alphas=np.arange(0,1,0.01), cv=cv)\n",
    "\n",
    "#fit model\n",
    "model.fit(X_train, y_train)\n",
    "\n",
    "#display lambda that produced the lowest test MSE\n",
    "print(model.alpha_)"
   ]
  },
  {
   "cell_type": "code",
   "execution_count": 163,
   "id": "a60362e9",
   "metadata": {},
   "outputs": [
    {
     "name": "stdout",
     "output_type": "stream",
     "text": [
      "0.8761879428830928\n",
      "0.883876598656926\n"
     ]
    }
   ],
   "source": [
    "print(model.score(X_test,y_test))\n",
    "print(model.score(X_train,y_train))"
   ]
  },
  {
   "cell_type": "code",
   "execution_count": 164,
   "id": "660df69a",
   "metadata": {},
   "outputs": [
    {
     "name": "stderr",
     "output_type": "stream",
     "text": [
      "C:\\Users\\ramit\\anaconda3\\lib\\site-packages\\sklearn\\linear_model\\_coordinate_descent.py:633: UserWarning: Coordinate descent with alpha=0 may lead to unexpected results and is discouraged.\n",
      "  model = cd_fast.enet_coordinate_descent_gram(\n",
      "C:\\Users\\ramit\\anaconda3\\lib\\site-packages\\sklearn\\linear_model\\_coordinate_descent.py:633: ConvergenceWarning: Objective did not converge. You might want to increase the number of iterations. Duality gap: 90.54795444857791, tolerance: 0.15658532111742737\n",
      "  model = cd_fast.enet_coordinate_descent_gram(\n",
      "C:\\Users\\ramit\\anaconda3\\lib\\site-packages\\sklearn\\linear_model\\_coordinate_descent.py:633: UserWarning: Coordinate descent with alpha=0 may lead to unexpected results and is discouraged.\n",
      "  model = cd_fast.enet_coordinate_descent_gram(\n",
      "C:\\Users\\ramit\\anaconda3\\lib\\site-packages\\sklearn\\linear_model\\_coordinate_descent.py:633: UserWarning: Coordinate descent with alpha=0 may lead to unexpected results and is discouraged.\n",
      "  model = cd_fast.enet_coordinate_descent_gram(\n",
      "C:\\Users\\ramit\\anaconda3\\lib\\site-packages\\sklearn\\linear_model\\_coordinate_descent.py:633: UserWarning: Coordinate descent with alpha=0 may lead to unexpected results and is discouraged.\n",
      "  model = cd_fast.enet_coordinate_descent_gram(\n",
      "C:\\Users\\ramit\\anaconda3\\lib\\site-packages\\sklearn\\linear_model\\_coordinate_descent.py:633: ConvergenceWarning: Objective did not converge. You might want to increase the number of iterations. Duality gap: 91.0757430615804, tolerance: 0.15606472265670365\n",
      "  model = cd_fast.enet_coordinate_descent_gram(\n",
      "C:\\Users\\ramit\\anaconda3\\lib\\site-packages\\sklearn\\linear_model\\_coordinate_descent.py:633: UserWarning: Coordinate descent with alpha=0 may lead to unexpected results and is discouraged.\n",
      "  model = cd_fast.enet_coordinate_descent_gram(\n",
      "C:\\Users\\ramit\\anaconda3\\lib\\site-packages\\sklearn\\linear_model\\_coordinate_descent.py:633: UserWarning: Coordinate descent with alpha=0 may lead to unexpected results and is discouraged.\n",
      "  model = cd_fast.enet_coordinate_descent_gram(\n",
      "C:\\Users\\ramit\\anaconda3\\lib\\site-packages\\sklearn\\linear_model\\_coordinate_descent.py:633: UserWarning: Coordinate descent with alpha=0 may lead to unexpected results and is discouraged.\n",
      "  model = cd_fast.enet_coordinate_descent_gram(\n",
      "C:\\Users\\ramit\\anaconda3\\lib\\site-packages\\sklearn\\linear_model\\_coordinate_descent.py:633: ConvergenceWarning: Objective did not converge. You might want to increase the number of iterations. Duality gap: 90.83285336734139, tolerance: 0.1566633270212858\n",
      "  model = cd_fast.enet_coordinate_descent_gram(\n",
      "C:\\Users\\ramit\\anaconda3\\lib\\site-packages\\sklearn\\linear_model\\_coordinate_descent.py:633: UserWarning: Coordinate descent with alpha=0 may lead to unexpected results and is discouraged.\n",
      "  model = cd_fast.enet_coordinate_descent_gram(\n",
      "C:\\Users\\ramit\\anaconda3\\lib\\site-packages\\sklearn\\linear_model\\_coordinate_descent.py:633: UserWarning: Coordinate descent with alpha=0 may lead to unexpected results and is discouraged.\n",
      "  model = cd_fast.enet_coordinate_descent_gram(\n",
      "C:\\Users\\ramit\\anaconda3\\lib\\site-packages\\sklearn\\linear_model\\_coordinate_descent.py:633: UserWarning: Coordinate descent with alpha=0 may lead to unexpected results and is discouraged.\n",
      "  model = cd_fast.enet_coordinate_descent_gram(\n",
      "C:\\Users\\ramit\\anaconda3\\lib\\site-packages\\sklearn\\linear_model\\_coordinate_descent.py:633: UserWarning: Coordinate descent with alpha=0 may lead to unexpected results and is discouraged.\n",
      "  model = cd_fast.enet_coordinate_descent_gram(\n",
      "C:\\Users\\ramit\\anaconda3\\lib\\site-packages\\sklearn\\linear_model\\_coordinate_descent.py:633: UserWarning: Coordinate descent with alpha=0 may lead to unexpected results and is discouraged.\n",
      "  model = cd_fast.enet_coordinate_descent_gram(\n",
      "C:\\Users\\ramit\\anaconda3\\lib\\site-packages\\sklearn\\linear_model\\_coordinate_descent.py:633: UserWarning: Coordinate descent with alpha=0 may lead to unexpected results and is discouraged.\n",
      "  model = cd_fast.enet_coordinate_descent_gram(\n",
      "C:\\Users\\ramit\\anaconda3\\lib\\site-packages\\sklearn\\linear_model\\_coordinate_descent.py:633: UserWarning: Coordinate descent with alpha=0 may lead to unexpected results and is discouraged.\n",
      "  model = cd_fast.enet_coordinate_descent_gram(\n",
      "C:\\Users\\ramit\\anaconda3\\lib\\site-packages\\sklearn\\linear_model\\_coordinate_descent.py:633: UserWarning: Coordinate descent with alpha=0 may lead to unexpected results and is discouraged.\n",
      "  model = cd_fast.enet_coordinate_descent_gram(\n",
      "C:\\Users\\ramit\\anaconda3\\lib\\site-packages\\sklearn\\linear_model\\_coordinate_descent.py:633: UserWarning: Coordinate descent with alpha=0 may lead to unexpected results and is discouraged.\n",
      "  model = cd_fast.enet_coordinate_descent_gram(\n",
      "C:\\Users\\ramit\\anaconda3\\lib\\site-packages\\sklearn\\linear_model\\_coordinate_descent.py:633: UserWarning: Coordinate descent with alpha=0 may lead to unexpected results and is discouraged.\n",
      "  model = cd_fast.enet_coordinate_descent_gram(\n",
      "C:\\Users\\ramit\\anaconda3\\lib\\site-packages\\sklearn\\linear_model\\_coordinate_descent.py:633: UserWarning: Coordinate descent with alpha=0 may lead to unexpected results and is discouraged.\n",
      "  model = cd_fast.enet_coordinate_descent_gram(\n",
      "C:\\Users\\ramit\\anaconda3\\lib\\site-packages\\sklearn\\linear_model\\_coordinate_descent.py:633: UserWarning: Coordinate descent with alpha=0 may lead to unexpected results and is discouraged.\n",
      "  model = cd_fast.enet_coordinate_descent_gram(\n",
      "C:\\Users\\ramit\\anaconda3\\lib\\site-packages\\sklearn\\linear_model\\_coordinate_descent.py:633: UserWarning: Coordinate descent with alpha=0 may lead to unexpected results and is discouraged.\n",
      "  model = cd_fast.enet_coordinate_descent_gram(\n",
      "C:\\Users\\ramit\\anaconda3\\lib\\site-packages\\sklearn\\linear_model\\_coordinate_descent.py:633: ConvergenceWarning: Objective did not converge. You might want to increase the number of iterations. Duality gap: 92.24308268739605, tolerance: 0.1583732996046663\n",
      "  model = cd_fast.enet_coordinate_descent_gram(\n",
      "C:\\Users\\ramit\\anaconda3\\lib\\site-packages\\sklearn\\linear_model\\_coordinate_descent.py:633: UserWarning: Coordinate descent with alpha=0 may lead to unexpected results and is discouraged.\n",
      "  model = cd_fast.enet_coordinate_descent_gram(\n",
      "C:\\Users\\ramit\\anaconda3\\lib\\site-packages\\sklearn\\linear_model\\_coordinate_descent.py:633: UserWarning: Coordinate descent with alpha=0 may lead to unexpected results and is discouraged.\n",
      "  model = cd_fast.enet_coordinate_descent_gram(\n",
      "C:\\Users\\ramit\\anaconda3\\lib\\site-packages\\sklearn\\linear_model\\_coordinate_descent.py:633: UserWarning: Coordinate descent with alpha=0 may lead to unexpected results and is discouraged.\n",
      "  model = cd_fast.enet_coordinate_descent_gram(\n",
      "C:\\Users\\ramit\\anaconda3\\lib\\site-packages\\sklearn\\linear_model\\_coordinate_descent.py:633: UserWarning: Coordinate descent with alpha=0 may lead to unexpected results and is discouraged.\n",
      "  model = cd_fast.enet_coordinate_descent_gram(\n",
      "C:\\Users\\ramit\\anaconda3\\lib\\site-packages\\sklearn\\linear_model\\_coordinate_descent.py:633: ConvergenceWarning: Objective did not converge. You might want to increase the number of iterations. Duality gap: 89.30366227482546, tolerance: 0.15587940700360545\n",
      "  model = cd_fast.enet_coordinate_descent_gram(\n",
      "C:\\Users\\ramit\\anaconda3\\lib\\site-packages\\sklearn\\linear_model\\_coordinate_descent.py:633: UserWarning: Coordinate descent with alpha=0 may lead to unexpected results and is discouraged.\n",
      "  model = cd_fast.enet_coordinate_descent_gram(\n",
      "C:\\Users\\ramit\\anaconda3\\lib\\site-packages\\sklearn\\linear_model\\_coordinate_descent.py:633: UserWarning: Coordinate descent with alpha=0 may lead to unexpected results and is discouraged.\n",
      "  model = cd_fast.enet_coordinate_descent_gram(\n",
      "C:\\Users\\ramit\\anaconda3\\lib\\site-packages\\sklearn\\linear_model\\_coordinate_descent.py:633: UserWarning: Coordinate descent with alpha=0 may lead to unexpected results and is discouraged.\n",
      "  model = cd_fast.enet_coordinate_descent_gram(\n",
      "C:\\Users\\ramit\\anaconda3\\lib\\site-packages\\sklearn\\linear_model\\_coordinate_descent.py:633: ConvergenceWarning: Objective did not converge. You might want to increase the number of iterations. Duality gap: 90.51498353361035, tolerance: 0.1540666729405841\n",
      "  model = cd_fast.enet_coordinate_descent_gram(\n",
      "C:\\Users\\ramit\\anaconda3\\lib\\site-packages\\sklearn\\linear_model\\_coordinate_descent.py:633: UserWarning: Coordinate descent with alpha=0 may lead to unexpected results and is discouraged.\n",
      "  model = cd_fast.enet_coordinate_descent_gram(\n",
      "C:\\Users\\ramit\\anaconda3\\lib\\site-packages\\sklearn\\linear_model\\_coordinate_descent.py:633: UserWarning: Coordinate descent with alpha=0 may lead to unexpected results and is discouraged.\n",
      "  model = cd_fast.enet_coordinate_descent_gram(\n",
      "C:\\Users\\ramit\\anaconda3\\lib\\site-packages\\sklearn\\linear_model\\_coordinate_descent.py:633: UserWarning: Coordinate descent with alpha=0 may lead to unexpected results and is discouraged.\n",
      "  model = cd_fast.enet_coordinate_descent_gram(\n",
      "C:\\Users\\ramit\\anaconda3\\lib\\site-packages\\sklearn\\linear_model\\_coordinate_descent.py:1714: UserWarning: With alpha=0, this algorithm does not converge well. You are advised to use the LinearRegression estimator\n",
      "  model.fit(X, y)\n",
      "C:\\Users\\ramit\\anaconda3\\lib\\site-packages\\sklearn\\linear_model\\_coordinate_descent.py:647: UserWarning: Coordinate descent with no regularization may lead to unexpected results and is discouraged.\n",
      "  model = cd_fast.enet_coordinate_descent(\n"
     ]
    },
    {
     "name": "stdout",
     "output_type": "stream",
     "text": [
      "0.0\n"
     ]
    },
    {
     "name": "stderr",
     "output_type": "stream",
     "text": [
      "C:\\Users\\ramit\\anaconda3\\lib\\site-packages\\sklearn\\linear_model\\_coordinate_descent.py:647: ConvergenceWarning: Objective did not converge. You might want to increase the number of iterations, check the scale of the features or consider increasing regularisation. Duality gap: 1.009e+02, tolerance: 1.737e-01 Linear regression models with null weight for the l1 regularization term are more efficiently fitted using one of the solvers implemented in sklearn.linear_model.Ridge/RidgeCV instead.\n",
      "  model = cd_fast.enet_coordinate_descent(\n"
     ]
    }
   ],
   "source": [
    "#define cross-validation method to evaluate model\n",
    "cv = RepeatedKFold(n_splits=10, n_repeats=3, random_state=1)\n",
    "\n",
    "#define model\n",
    "model = LassoCV(alphas=np.arange(0,1,0.01), cv=cv)\n",
    "#fit model\n",
    "model.fit(X_train, y_train)\n",
    "\n",
    "#display lambda that produced the lowest test MSE\n",
    "print(model.alpha_)"
   ]
  },
  {
   "cell_type": "code",
   "execution_count": 165,
   "id": "c96fc11e",
   "metadata": {},
   "outputs": [
    {
     "name": "stdout",
     "output_type": "stream",
     "text": [
      "0.8761888337257959\n",
      "0.8838765993034703\n"
     ]
    }
   ],
   "source": [
    "print(model.score(X_test,y_test))\n",
    "print(model.score(X_train,y_train))"
   ]
  },
  {
   "cell_type": "code",
   "execution_count": null,
   "id": "ec32bcdc",
   "metadata": {},
   "outputs": [],
   "source": []
  }
 ],
 "metadata": {
  "kernelspec": {
   "display_name": "Python 3 (ipykernel)",
   "language": "python",
   "name": "python3"
  },
  "language_info": {
   "codemirror_mode": {
    "name": "ipython",
    "version": 3
   },
   "file_extension": ".py",
   "mimetype": "text/x-python",
   "name": "python",
   "nbconvert_exporter": "python",
   "pygments_lexer": "ipython3",
   "version": "3.9.13"
  }
 },
 "nbformat": 4,
 "nbformat_minor": 5
}
